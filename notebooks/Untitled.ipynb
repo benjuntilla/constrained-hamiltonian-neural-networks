{
 "cells": [
  {
   "cell_type": "code",
   "execution_count": 18,
   "metadata": {},
   "outputs": [
    {
     "data": {
      "text/html": [
       "<video width=\"432\" height=\"288\" controls autoplay loop>\n",
       "  <source type=\"video/mp4\" src=\"data:video/mp4;base64,AAAAHGZ0eXBNNFYgAAACAGlzb21pc28yYXZjMQAAAAhmcmVlAADOe21kYXQAAAKuBgX//6rcRem9\n",
       "5tlIt5Ys2CDZI+7veDI2NCAtIGNvcmUgMTU5IHIyOTkxIDE3NzFiNTUgLSBILjI2NC9NUEVHLTQg\n",
       "QVZDIGNvZGVjIC0gQ29weWxlZnQgMjAwMy0yMDE5IC0gaHR0cDovL3d3dy52aWRlb2xhbi5vcmcv\n",
       "eDI2NC5odG1sIC0gb3B0aW9uczogY2FiYWM9MSByZWY9MyBkZWJsb2NrPTE6MDowIGFuYWx5c2U9\n",
       "MHgzOjB4MTEzIG1lPWhleCBzdWJtZT03IHBzeT0xIHBzeV9yZD0xLjAwOjAuMDAgbWl4ZWRfcmVm\n",
       "PTEgbWVfcmFuZ2U9MTYgY2hyb21hX21lPTEgdHJlbGxpcz0xIDh4OGRjdD0xIGNxbT0wIGRlYWR6\n",
       "b25lPTIxLDExIGZhc3RfcHNraXA9MSBjaHJvbWFfcXBfb2Zmc2V0PS0yIHRocmVhZHM9OSBsb29r\n",
       "YWhlYWRfdGhyZWFkcz0xIHNsaWNlZF90aHJlYWRzPTAgbnI9MCBkZWNpbWF0ZT0xIGludGVybGFj\n",
       "ZWQ9MCBibHVyYXlfY29tcGF0PTAgY29uc3RyYWluZWRfaW50cmE9MCBiZnJhbWVzPTMgYl9weXJh\n",
       "bWlkPTIgYl9hZGFwdD0xIGJfYmlhcz0wIGRpcmVjdD0xIHdlaWdodGI9MSBvcGVuX2dvcD0wIHdl\n",
       "aWdodHA9MiBrZXlpbnQ9MjUwIGtleWludF9taW49MjUgc2NlbmVjdXQ9NDAgaW50cmFfcmVmcmVz\n",
       "aD0wIHJjX2xvb2thaGVhZD00MCByYz1jcmYgbWJ0cmVlPTEgY3JmPTIzLjAgcWNvbXA9MC42MCBx\n",
       "cG1pbj0wIHFwbWF4PTY5IHFwc3RlcD00IGlwX3JhdGlvPTEuNDAgYXE9MToxLjAwAIAAAAViZYiE\n",
       "ADP//vbsvgU1/Z/QlxCcfBGfuIAYA6Yw5Xq/cB0L7oClnTOHmdRx1gMs1pXAAJJaFQmD8gzCPOdO\n",
       "dhTb972t+MhdXXqjNHPHsK6I3beiQ1uwm0xBtb+SkSySsTFGF5ZAuDr4rMNV6CJ23QBhNytzT+4r\n",
       "4b4g5ldd19dw6/1L9x/GXfmRGODATUzlaBPDa3M28s85GBfS+wGA+TkeQXV92QhrMTQ2DKavmYMf\n",
       "vwAAAwOqB93d3TcwTNaWXhs5N3RMVU11Gs+VnqxY6sbianaU8nN+L25XG6PxK+i1JcNZGQeWNuH+\n",
       "PJGw1GjDfEEDzXo0CM6K3ocJeXffYAnmgEnU18e1gvHSZq/APOip2tV/24dmw9OTXYTFVB4kABn9\n",
       "aq+XHtEeGXZNF6BU9uEE2DHx+xREahRoLmdmtDZfkFgbksf+RnJJE9hKiVKGu2e5rZF8Q59Kx6Xr\n",
       "q2vgH/UaHNzxDfGBiihyge7VqJ4AQ/nu208S7HNmZ9dp+jOHg7y7hzhS20Id8VxlTXffKEtfrxwp\n",
       "D9z7hP/z1JTvMgLKwugQ9twaB0HwNowy4Vb0INWiUOcJKovrxfBDg5idH6EFxg9vpUfd7JG7uYvo\n",
       "ye7AoYPp7J611iGmn83nJt/eg2D6XxZ+eyVewOBMBA2flxU6Ha4tCPQeHwCtfCot7wPrX/m/Ydsd\n",
       "kREUBa+Rc+9OB2aj6FOaLdkf/KtPSs1DRrJyH5TPCQstfhcuhRm0Bo93SNiabsUyNtB2STsIg4eA\n",
       "NCBLH26zDmYvlnQLJq158c1ASQeo4fcg6HDBGBS+/A6QFjetpRWnzdes5Cl0qnsBrEeMNv4gfKIR\n",
       "ta9LDcdzRBughgdvlgufeWHLNELOkX8ZmaauMarwQHk++bUpTppXy1BQemUeCCS9M59QUG5y8Ht+\n",
       "E3ji1fM5nldyBca3n1+rsFZoexvrEgzU2PmqnGuhdiJP+j9/xO1AU4EL+4eU4KtCJIYA0ZxaUzvK\n",
       "kXiNgSRN42Y9WWVxu7TuNYIJFMSuodeU+WjTYVR97uuURJvzKTPIWfIdX2hb1iZZqpies0EHgfIU\n",
       "f++lz036ihz+DqBuZgk2qKpphxQFoozZMQJymmxMLWl2kxdVROATewt/m1dJei8LbO8JWH9gtFdo\n",
       "9AugthD2KbEuMNLjsrhEIPu8vkryoFZXuQtwnPQU3ydnGauC3LhMOLOO50PwgC6B7cgItiARA/Fa\n",
       "tEwiz8xhU2+HK4Ir7rO0MKX4F6s2h1DyuPw0OTNyTj7tb9IzobYygeiJqh2t66RETiwVRDKi2KLY\n",
       "tLngr9vfCVzecSI44c5X9DosXu9DWDwWsfpYhjPISkqaIw54/Yu12Mf2FVzk3WVLA9sMjBwqrIXH\n",
       "OejY0/oskMB5cW8WGR7GNCMXjApqVJzLFo+YlS2vlzhjXNm7zHbf9QeVucDFhkqh48x874BqeixU\n",
       "+bbTodVE9r6R3K90u8c3rNsLPKQPOsklTvu5j90oT0jAxzP8RzLcjQ6mIWlKhpb4F44RmBxfxB/6\n",
       "VnWnz18Jn9AqhnXyicMa3CtpjHULPGWTmxPxhkbslzggCxxqk0Ve+kLq81quuZcXBv4WoEPQCTOc\n",
       "SWiBibbFGRMC2XP+b7CfcsNy1gZPcO5d2Pu+1U7hz34ICvmBH3kBlfEObXaZ8ZNj2Dw+4AAJcMh1\n",
       "IJQIh0UrXBInOQq3NBnOQl32XMkX9NdZw6NKdmacqiqLQSMyh3Ij4KkvEguoOpNN3v5rOrWSpAAC\n",
       "dOwb0hb11QNj08Fj5BYOJL9z2HBSlHEaUw99qoqKj648AA3TWkDgQ7JIOmy7JxqOvtjmsPtNguVh\n",
       "C89X8VOtwQAAANdBmiFsQz/+nhAAT+OgiD6u1ZfLb40AJqOLxVrh2dAOprT1E2EplX+2NwVnXJ4S\n",
       "mx2hFilhfz6pvTGqPoVt6TMe1/uZ7jwlGZiHQtWSEVfZBLrlx+H8sZLlXrj1ssc6qMtnK2e8Giyy\n",
       "cbb5dZKnv0Rf0N6AyQr/MdhJVUXlhrIKGlYm9c/5p4dadusnO/RngJZrpdrptBMNwgQ3n9i//vcE\n",
       "BSx/T0HasANmBKgYEt3qDUKM8rcBsew5JiGTdn1Nbug+wCGoSdnlZ+PE6jG1FCHBbCiflERZYAAA\n",
       "AYRBmkM8IZMphC///oywAFA8n1mcJODtncPMkKgtSuGxIv6jgFiQomx4AcVEwso/Crkq99/FWunD\n",
       "HwamVzCoQMa/EWLpq3U1sH+y7IG1dHzRt9En9pm6eOihJWVXp2jnIaT9oiXPrxJtnp6Eao0E9ILG\n",
       "ETVb0oMHYYUsARffQateHcskHpevbw3O7ER0eMqGPOnU8wmZOzvM+q/nhvA8WMaCxbxv4d+9LMrF\n",
       "ecEaP6VtK4TcG57cjot5//52eOa9D2oThzrG0c7KqzvNSi9GvN7hZRufz7VnNZABNCvnFJBtVZWm\n",
       "sVQ+BzOASe6ohSf91Vjau3xqVzE0FCb1icxwbOfihYSNRFGYsv6NvBjAvWMatPK1ZSLu4MZyttHa\n",
       "70B6T/mTzFZsKEz+rMPX0AXKdaWAKUnbJPSck5Mq9SbekWTYpQUdHoEj6khzcUZrXLNSibHBmqfe\n",
       "UPTQHjj7oONSHLaVcFhpzf4dwyfxckGig8BeGQQdBXQUzgbhbFZ8DsvYPAfnFC0DAAAAdwGeYmpC\n",
       "fwAVmvxvwBDyBeP8TgBXSSl4yfDPQ6TVtVJMyVwv9viMS6Bqk4LfPkUjJNH5mup1BKNQ6ZjaAKJ2\n",
       "DZ2yyJ5eOO+bkO2AUldL7gjcmj/WyVO8R3AjnGSlLg8K6GA/ErdaPz2l+jVVgOdVyEZw6dECAECo\n",
       "AAAA9UGaZEnhDyZTAhf//oywAE3yWkpt8TqZZABaZBU76XWHdIy1s/RBs2gAVYVlABhm09HWM2Q1\n",
       "qwxeAKXQ3z7pUWoyYMG17W3+Ld8lEVUbwWeC2kEGngHZeGESItF+L8aSiH4smETju976s3HJrptI\n",
       "lb5WpVKUvaQuj5BDRrjVN5lQHJfTWC/ttfcSmo7T+3c7bNZwIan6g00ELeFKNS84TcjZCSJI/PpI\n",
       "JTjW6ASOqPhH5U63cquD5VIh8NYS6TgjZkhWD2Dqowi8zyGwv91zCNeeWO/F0xgjknlr1zeIAfik\n",
       "zh5FpgdBCLviIQ4UsesznsXzZ/MZAAAA90GahUnhDyZTAhf//oywAE4o2leABMyXL3I/KUj+3bDm\n",
       "CQtluung4SFOXca844/FGdktAXA40/91AUzjKk6uy5Hjn7rW5uvJu/eFkkvHCNdu0mvaDLvwXB+J\n",
       "uV9xJzwO8GQxgS/1bFt/lGOzmsTmoa9nbK1nrd+pU/069syX/Pvldt4786tLWYMuaZSux4JUawJu\n",
       "hnGBUXXvdpOe+tW6WVXgFE+er+LDRFmJUMWdnaHaxCw0ClrooTi16P5ne8qkn4s+Efo52Ml9IbuD\n",
       "Yv2oSVQMz9/zL8Iz83erk3V4fGJYjs6CxMeUVvCVb6qeZWUi84iCOwVpjF8AAADoQZqmSeEPJlMC\n",
       "Gf/+nhAATTaRLJ46hgAgNjPyAlTt1b5Y5S7zeT1Sq4L6W11AZ9Lf2opeNPemVuVyz2mX2kgUAbyu\n",
       "QPTb3MTi8G0mcIklycNv5rqI9HDEoKDk9w6p6pez3K3C3/ByswK+6xZN1uZAc4iMjryIW4M88by+\n",
       "ot3/fWd2JYGCbvRDCXYuUmOHPKsW2S4ThazOPWa7mhNajIeI6/8O9aDnR4CxRsx/aVBf/ygZSJ7S\n",
       "xwvUVozTRR/rRavzay9RQMWG0EQ5JzQiFjhqYkpltrMf5I2AO6ZKpDoL4m13ACnvMHY/4QAAAN5B\n",
       "msdJ4Q8mUwIZ//6eEACaz/Bw8FMJSkMVMRFSTEAZQWw4ukbVkdzHfvo1ibATSYaYz3hHTfwzjqrN\n",
       "BR93JxfARUSH7UJFOzgpypavuyFXjoQ9XP98BDQcqmPumgVbI7Hk6YhVt+VsRdxxG24yMUBl9Www\n",
       "xxV7nh9AjqB6noOlN0hfsXACcKQZ8M+XoKGGpgf9jiAXO11u9r+JOdQPpnAFt1fifWlB0Y4hUpZi\n",
       "yjIwyf115qUBx4VbxlOrx3CPsGf9R6jTIiuFD/pQ4OymcSC17QWoN+bl7UwqcII2vnEAAADgQZro\n",
       "SeEPJlMCGf/+nhAATTbncvMkx/PwAbT9DuFNXoxxDxqpRfiIMQgwfGWbFmyDMRgcArLzqRPQ3jZI\n",
       "4rBQ9aF+5oy8CZrVGL9yu4q1S0MokiG2wgE7CNhm0FcQ3eJcVune9eadehr8cYgyH94a4IKHVozk\n",
       "5aEHl/fgrBniabSGde3HGaheWl4QQF1ddONMTD2oGjDBbxW6/z4RKuU+s44aUKwnrI+YTL1sKrjf\n",
       "XCyKTJUPUVj+l24Sb3+dyfLy7l3N+AN1tJ0d6xskjTDMAaI9Tc/rvjWl+tKw3DasG0AAAAF9QZsK\n",
       "SeEPJlMFETwz//6eEACXdNts3+pIeBBAC0NHjk9RG1BuiPvXPgLPbFJtGEUpsjv9WMM02Gp4T0Kh\n",
       "NdHbuqRhvGfum2uLxpg3nvJ4jhsZ5WaJ1hDKQanlWsKp4f7U9Sa0kUKvnjxn/Wk0ceNSvHfUl1BF\n",
       "H37+E8omeGeqyVO+P1bPbOiJc2vm0RaQD6LYUHOog/IpczqYmluQ8v4owOIAqp8uqwusqYHgRk8z\n",
       "pP74IUEE/wBCU1iDUfNpWCKkkPA/140P5WirTBeFXNx6tz5n73mKqYOnQChuB1KH9LcsMb4O4AwG\n",
       "guf5xSAG5IEb67lgQc5H6ZRwqIm0gDR957rQyzxECx5Q6FMvjum9EixZIE28A5hAUYwmP1dneM8o\n",
       "qLedKP8/BxBzEXHQP7x+ySpJ22nnlS9LmV6f80q+5cTmbE5XKlF5BOpAW0bB37B5NKS7R8UZ9e28\n",
       "76M22OOhNT6qyKDVxtU47W7OhXZmTY4ypaF76LDV8LRolTfAAAAAfgGfKWpCfwAockXv67LCTFLo\n",
       "AJbGMBxGpr+a9Ii/s5ZrvegHjdO2tpq98eSfBTRjHwkW5udBYz2Dx9C59oB0SmuLMTiH1Kg082xp\n",
       "o5YRaW7A1Hicn+y4u3BK1OKVaX6n12iqNFihwaoc+b41RUHLA2KcpvagnnDZCaWygUiHfwAAAa9B\n",
       "myxJ4Q8mUwU8M//+nhAATTk1KybGkcAUnwkmPYNUnrFHLgiXEWJD6Kx4npk4vjdbCF3ZuA9z/Brl\n",
       "z3E32ov6UnN0ZmzoSNtF0RPvaS6XxPffCWD7BUUHwNesCvf0cmezo2Ip13WDWVXI6w/Gp2qbctIu\n",
       "r5poI0NfF1sYYUMHqB/AsYobR/slJKqbXuFGZpkkXgGjeW/OeuJSlvcGvw41ETKzD4ikGSdw0LWe\n",
       "Vq+yLmM3xKr0vzEUaaZ2aExB9JVCgHae0l213+h/kX0qOE/ulw0LJPvI5pnl7nhD25VgPaNnmzl1\n",
       "Gpi9WP0eXPoAPI9TTKHiTCEqkrsucMeZA0SnuEMZ4Tt9nUejDVLmuckiy5KikWm60yozyh8+ud4j\n",
       "0fEgolaOePPeglnOPaRJz40IqR5lPgj9CCgAxMXFVfEv+Nde2hVlUzKlSHgEiIAUYbyGovtSiFjA\n",
       "7iZKA5P4/uD0PbkCCDbTSF1R6p4MOI+zQOd88Kypk58YCQYQ03yhmJhpwa8iRZq94PbRTwYQAOeM\n",
       "IEV4ExPmMYQChOKuX/OJ9ZygDftPoJMzSOi3q81r8AAAAHUBn0tqQn8AFQZEfO3qOGd3rbXA0HSe\n",
       "HsMdAAd5hcbqKPrvPC0azy6YoanoNwkgK7osE0zmpuVgCQHVNpBt7OiA3b4bqc16uFAHYrLdXlzK\n",
       "Qzp+U59/xPbLq/T6BWjfklkkEhiZwkbQupeOoSo9dS1+U60i2IAAAAEkQZtNSeEPJlMCGf/+nhAA\n",
       "TWkgA3Qr+FgBK14vVcaWI1BEaaTf8sE6WeNKL1ixyYb1eADro2PGDmhgGH+xLgEjXbwSxYu06kjm\n",
       "GySdsXnPlZdp527mQVibqfCDcJmL7DNQuP5/7J0BgyjBRfDyNl4hdCaTHCYnn36SRoIghztdkfrc\n",
       "ljPBWAsU7CS8xg91wvOxUGRZM7VrZd+euTq0PrTNbHikoDLEOpt6JVklLAPYSOOB7txcnqwsXt5i\n",
       "slbMC+XBN6Hgu3hl32y4SpYZULzfKjovcESJTPpqbHY/+I7jmsD8MbiYQJJZ4+yKGlC81M/TM9Ry\n",
       "RAGC1vfA3Fz0lo4fuGKkHxQMZPr38N3FVapZQ2eD0H9cxIPP6+nSb3W/NT4b+ctcYQAAAbVBm29J\n",
       "4Q8mUwURPDP//p4QAE02ZZr5PAA1dbocaOa5t68CT8OGIoMsXnWYP7ESGJ41S+tU5D+8qqK8TvSm\n",
       "+o2tuQngXgFi6WHTxjcTUmc5JUuKC5hHugLtm8KrF+caoRW9kE+NXTMLlJ5yAjgbon9HajXcC52Y\n",
       "PmbgPIuqGsCpyvgxN5mAI248koPD2WtdSjQR1pkzi3+RRKFJ7nHQzwh97bWy+3ur+cKKms8p02pV\n",
       "MdGPwR/u6QwkCwleZUX4j8Gj31Il5vEjXJo/JjJYUVX4MkHIjfa5LbtbajfsoCFQr/jTqdcus0zo\n",
       "250fbLNZZZ/p3G2cEiztyLOiit9gt+Fvr274vpm8EukVJTiiGvY/Cq0V5hVzfN6S18KgzegiLSiT\n",
       "8hF1o1Wrv0VIQB2W8oPJzJ2V4GRCqHjqg6miBil+xGbdGzEoNbB0L9c9dx0nONJOmzsU4D2u7vje\n",
       "hcldelVFsx7Wnsy0Jzgc/GuiyLJwy3UeInFrqxQdKJPBRkZkpWdqMXuuB7KnalT1rAQ0822HrKID\n",
       "/45WNowRLPMG6gnUXKDRdDyYQNMHRXRn22DKAZFMFAz5bQAAAH4Bn45qQn8AFHCvOTkDZk220RIC\n",
       "eOeOPI4+8ORXh0RgKropkQ7VwCvAAIdXuUWvw7jl1rKWxWSEpE83kobF4kDc99nUy6Z09AtNWj24\n",
       "skTSRrwmMT+nsSN5ADrmz/ldO8F5E/DLvinqOhufjY5JH2vI47I7zd9gLjK17B9y4cEAAAGQQZuQ\n",
       "SeEPJlMCGf/+nhAATUoE4AFeeL/CwOmlbfF1sN43YEO2rAGmJ3JTktxthDeANy6TwyEW/UfoTnCS\n",
       "mGrooiKgFawbKImKHnXD5cRqrZuLYP9wlxE7OyVFVCJ/Pt2A4G+d3NNkM6vC7K/+1Myhsohf4XA8\n",
       "e+noG6evIcuXyxpz6izt+ylG2r2/zZfpkDziiAKWj9ndryj0/pNFEMgM6SOcN4cCsgGz6TTMXILh\n",
       "KKI5MBMywG8yYmFGQnsBDi3ce18Cp2cRBzwsc8mufT/bqnQ7CawEuzGdrJYG0kpmO9j0swDaT5Sn\n",
       "i19eLaze5MM9SQ3mDWEeK44/r83JBEIeoglJEyfNlsshY8bY8CGn0wJnUvNejdJZK1WNFFPxbofZ\n",
       "UsjFLjPV9aptFwohJAP7d56io1WUXZbRz0XQ2o5QiitZC2P6yqEGwXqxcjStLkBzm/APpLEyjTxE\n",
       "hkQAUI6vG9DAmVonoA4NIpkBn6hH8xdWhPCwCjWpt1uFO9SQ2ADU7+sde0OLRPWQjSrW5TStbgAA\n",
       "AmdBm7JJ4Q8mUwURPDP//p4QAJp8id5pXj4AAV/P4RTjejODjr1EwyUxdMNQjhU+sT2yDjn5N+37\n",
       "Xy2rBnN1/f7DOGNPdNdjXyHPJraA+R7R8WAhudY5g5oI6ceOzDrqSkybR5gscc7KNEFW4D/z4WG0\n",
       "EITH6m0ELZN4mvmgKyQOnDEmswwwi8WbOhmtZe1a3SXqcrPqx7wz+sz+oP1n0bnCFbtn8Ky0CaE8\n",
       "jUXjSqvwyE2upW3dQ04RDc5KQ/2nxgOmBcLWrwqGhL3R6E9HtywduyNegKBjh223Fe+juW9/kxjd\n",
       "Wvt0sON6qceRNOsJ/b1lbAK60t7vHpb724+aLd8b6OT0FLWOpP+QtHdkbxq6Ogcsdg25KGWwWGlg\n",
       "7kadx+yMq8N3ijLp6gJeF613LscJQiO+8NVrpKrdGfeIYFDtCtY0THpJH1/otmpZWcuNfHhuRZMP\n",
       "rfZ2y5vjM7aDVr3yOy54h2w0C7KA/jPNcAznjys6Df4bMYMTvlmb8tpEb5Ha1jlwsbkM9/fVlmdO\n",
       "erMXpbGIlLnl/n8Ohlit4QwJWn/M3XZkKAedTcMhsgoWWYsWz3uRTN5BNKFyPpnXHmY5JH8Tzp7Y\n",
       "N+bAfEbmyw/9VUQ2jrw6U+hXwt9rwG3fsKk6FgIPxLlDglOWUVDL7LLDl6le9Mw8KUWtNXnkMHVj\n",
       "ljKC+UsqXiGMexZipqpT24cmgx8HSz46kge0Qqit3laOCQEEdwdA+dM1LrEsC7odPVBTSc9gzR+s\n",
       "E3DKuvJA6jpkoLtS7m2HlVIMJkTRnZ8HB2P2RyZ66tWLC3Aj4lz4aHwbdbscxZgAAADjAZ/RakJ/\n",
       "AChyRe/OWjKbTQXEluwxCsdX8VSQACqhfk5CVYyoHctPlRiQJnrUVM8rdmYlhpqrgv0oLIDHkr6M\n",
       "G10YQ3eJcW6nTXPoaJ8UvkQAbQ+dHw5BxkXwHiB3mz5uHMu/IL/KIqIsarGQKS6ZMmwMp8ODGWeL\n",
       "sYN98p1CbpRwJjJFioEwIkWOWm8X0LaLcLesCmWjC/oJKuge8SSSAfoMr0fQYVv9s75r4iqLprTT\n",
       "j5yxaCmnVBuB1sk3kxbKm8S9bS9b3CX9PT3razkDh69LqTbsJja7vlezagFJ85yrs3MAAAI6QZvT\n",
       "SeEPJlMCG//+p4QA28lDqAeTbqkdWNwr/gfhoJ5Y/904z+tJpOaYpCwBnasn9Oh9wCJGjxS8DL+f\n",
       "6JFseA1RH73kCeArA4Yfgf1zlLL3BfL2SrFv6IWqTe0Jn9Gf8IBRvtrU/Cd/f77v5QQmQTviHKOP\n",
       "BqBSi74wP5lbJio1dC0DYgQNxoMHLb4Lfced1kzflsnnkKTKEUAwQ3QUenE1ZmQ1hxJ43ZdmZ8Uc\n",
       "ptYbTjHOs4U8JOlbrdmm2dGgp45V1o8RzhvZ6GI1sF54RBHtUUUsYComYCYks1Noc4hd3Pg+oIai\n",
       "L+M/xUNtNUE//CTDA539rhVmBc2dPw6M5yF9oKNgPy8ZX66dsFW16X0ByFr9G8bYkokT9hQZBhq8\n",
       "eExR6HWrmMk7H/qgEmjDQNj63nPFpWMZhmEpkg8a88oedqTeq1kctQJS3xdJv6CebMxFMagl9S1R\n",
       "j7QFFl1q5pStpHUeLRJr66NwWAN3kjYTVYOvuPqafQK2MaZlS8a58sT1QR+CdWbiKlFxsFqlF65D\n",
       "KfDxyzd03TsO8cX4CrysEo1++5cY2MKTRtT7qDNqGp1b+t2PGkTIcn7o9GDUE2qsieErIDNyqCul\n",
       "Pgw8LjIxuhwyV62h6wykBGI1A0ZLUAbuw0GflvfJoNy4vrn0AaPegEAUpwgLW8/WKZQvSqi23RgE\n",
       "2IjWukv47ofY0yfprzetxT4zVEna3BJa1UV/Kkgym4828+DEZ2A/34SwyZyzkl+h64hPsFS6AAAC\n",
       "N0Gb9EnhDyZTAhv//qeEABPmdWJIAOCnlrbljrLNYqFgEmtdYE5DZVVKpYH+glA3tB/BB45RC2Fe\n",
       "4tBb9zDNVztsJTcb3xfhnVEfNOPXgKoQpCjomVT4bYJxdJh6OOyPHf+RrnkoBDXcOeTzSdCWvGkl\n",
       "d0VjMyP3fgOhnnsKKliA2vqodXx87PRxriC16s8G3/7HNorIbCvBfwA+mhHgwVPQ6T7eOQKVyO7J\n",
       "g2YyP2eQCBQdcynlBUGcpddFWs3k3V8PYIf0yPBAneIj0/Z7asUIjnWPtGUuvdG3Mpeebu0/osxx\n",
       "EDWHgH2oLHLw3wivy66jsCDVecXiUuSs84RL7tUrpzNuXQ9uwEP7I2qLr643rFBmEQQFmMmLgMXG\n",
       "gTn2IhQ4nOxwHtjO3lY5M8sumfgrC74fv9KuetTGxh2bIcgllnGkv0MMTY+sSL+YRwx/6UHPl6dd\n",
       "tbS+Yy5M1HnIfe0n5yMUmOSEcKnmKPtayRxrVM1v85TFSUU1Ln8Ghf0FcVPGUEADEYt5Nu7gZFxM\n",
       "1987qlJ6jW6z2UuvTH2uBepL/b//wbmi7iDY7ou53lObP85gFuqlIfvNky2DgamE6Mr8yA91amaF\n",
       "Tml6sVf2iRPROa1qbog/bXXbmhI26PmWt4hKAPLNOp0eZBbc+fm+g/fNzbg+86Ct4heU54nQO1HK\n",
       "ONIZdebOuNRebMPybUV0gNegNUzjCLkhf/+xpWhMF1RtQc9y6jJG5nIOv5vT/mM+Q59JlB3rYAAA\n",
       "BJpBmhhJ4Q8mUwIb//6nhAAT2jRVJ6tEX8xdxQAmY/TNwEwPtgRmZKitqQl15xw6H6hAzAdvc5uP\n",
       "FP0u82nw8H8EavWbnWhQFRa9bp66/SkwuYo2d8MGpF7+wzbw1+NizKGxWdoBIqF2VFsmV6OZ1zxk\n",
       "rlgwGraXEsQxIL9cMrzuH2WgwAyRf98n0ZTLTNgCPe2L4MtxBKjePdDy8vRT7gK7i7NPWgML7zud\n",
       "SvVhIKzpQ9vD1EjtGtcNS3bv4EuEWbzowpCbkCWB75Pvw7MucEis1N3Y18VlyZViFzHYHAn5qsU/\n",
       "QY4R5bT0nwtolob98tMSMmAcktxmeRxmkSNvzb4uTGEyya5i20rtHnE6zeg/O2Ev83wyMsqRlwRy\n",
       "FeEdglTQK9dBMgwW8Xgg50/xDYXx4kJFUr4IAPFnC/sknp4dRi+acS1lhmY9zeTAVVKATz2gUzhO\n",
       "Sp6LcwTtik3bPErHtMqJUnm3lRvGfS/QUHFNPL46f10WDvmxTzsu9M1qPMkJNhXAByMby4UrEM9Z\n",
       "JbuXFd7MhDUpwv/eZi21sJrPYvaRUYmYk7COI2vsDW47QKzboI1pGB+caLsh7/zBkmsrZD2UHCAY\n",
       "0c3MYTjBTbFWisjW+fFR/nLj74BV4kvAOpVcIshCichr7fM+X3/PR9hiru4BCqeqxhM/aZvh0+Qy\n",
       "ZZqxp9CZTr5EV/+Cu1LbxSL9Ay1POetnTzYnpoQ9x9XrAuAAFviabcwbqDK9uQrCbPyVacwdA5zI\n",
       "XSxGwLhWO0ekojPkFCfp5oL70E86DKuuq2aPLlLzImYrYbcqBaDgWRFYChP4BfA26Ex+fYMUzn3t\n",
       "SPtTMQFlf81N5BvwJG/QQgoauvB0EgYoUT/aY3B/EjWBaPCWX97tzfP92QZuwcJ2qeMSxBuQSgiW\n",
       "md94NHEHj0cPs8O5UNuyiIVcV6naMApsqVTzgWIF+GPtyAIN8lZ821JJvNiaVpI2Scg5vQL6KzhP\n",
       "6c53YQdM3CncHePGAmIJCCDfXKG/DDUY3p/fqtdWbK2QIY7s2jfTIY8xQbmR3ofjm8vRaxUc45zM\n",
       "e6uWDOeZz/MUkwolKsxbjgEYZD9RSOeR4sEfjOS3HHBWHB/K6/PN0Rr60t2sfVEZQoWSbJmjw67m\n",
       "U3Y0V0Aprayc1EvW7cOk1Bdh4VTbsgS/9GhbQ0N9MEQ+u50RQsRYSmotzY/QsOcn0iuhkedQkJrP\n",
       "wSPIkHmE1AEC2Tw4fTWjXljc/VfAH5wKB/XHJPYg4DxUTn1DcC5+IMOYDyYcGb7N6iNFIL4V570d\n",
       "+6uCphkf4ibDcSrMVFiv4dV7ee+5210n/FfqNZ//3kFC4pMKfNRdTGtlhCPpduSO3mKSxviTPrIk\n",
       "WVADWaz/zVv3HHhdhOnSJvXznFvAgEF54JhZHFpAHP6VuVE6/FGIK+XXKLJEKfneWhizAc4L05c/\n",
       "0M72lmcJRKNhMvtljSnySeipxK390SZ3VI0Ra34XlnMLy55y57yuwUqyjQMPOYwXwHZdhP9qz2fv\n",
       "4tX58MBgM5BHhFJZj4assWzkynJGSB5wWw3MpVEvynjzXZ6S7OV84QAAAfNBnjZFETwr/wFszY1C\n",
       "bCbn8WAP8AAB7gCVCMS9klV4/UMn0rSGQ1Tkuyu5HZ6eIYM7QwHTqt6IEw92p4czdpetqt7vThcP\n",
       "Pn/84PVeAYYcY7XTlaK1KgJQBodmscsMuR8Sbpe+WtTGT7EROSBrOIHsL9t30k/4bqWV2/G5A3FE\n",
       "A6uXv5sazU7uH4ahgUYYt/9AZy5Co4P3+ZTiEQu8HeBkavMTCeq4zCgxvT8k3jUFriep/OrNzYFa\n",
       "SEnwYvvUxDEoWJSzIlGUx78x5jC1elvXyPKkdnamp1nQhfsnR9PqI65Axt4M3dXVnz0Csli9JbWv\n",
       "3K+orjQGUb9l6RNLynkn5dDDvo+9F4awYz5DTyLHhC0miVepf1amLsitZl4Jp2Qc4L78hgwmCiq5\n",
       "IKY711eAEf8ZB+PYnqeHyxit9bzti1JYqqqEgI2p/Impg8DExzqjJibUtYYM2stb/SVBiJEsQlq5\n",
       "dJZYLbpmb8kkztbr5XuTa6Bsqp6MBH4jt0BTCrLHaZQuLhH7JbQufCIDIDYsZ/zuUf8VHupGqtoG\n",
       "6vdT/GurXo+mZyWxCm2jeOlZ83O/7TI4MvXNB3PtvN0YIYTafGnizcZbCMxrZmuWQqdzncPEwivZ\n",
       "5maWMZ1/35ii8afeKCx++9nwBUyYBim1+CsgMd7UAAABVQGeVXRCfwAU/ljmbni4AFqfujh1TKg8\n",
       "3WeajN0r/2zwLTlwOWUWxQsTlVwPEkU6j3yHwcruLQJtrOBUr/P4F+/LaIgFwt5S1R+45Mtgvo9a\n",
       "ocvd0ivJtf24npQw8D0U6SOz6zsGDwg2cVLhuyU/6y0O1rN2R3hK/7GwacHSDgbFGD5kCQilR/30\n",
       "aEN4jyGYZlYoeVvhzyk2CyXNPmTsRj4ypBbw5Ee59U40zjJdLvLp55KPFAEhM0Rv+br0bY8cGnku\n",
       "m4gFZUFJm7NUYakGJj0ulB2KTlaJ+NsqlG6GXjcxz8supiMdq6s9yvbbki4/VdIRwh2TjsJA6uaO\n",
       "lIF4nCQvoETDxcI1wnEt+jI2qZaKrunjuWtssDi58EL3P2KBXd4MvY7bcZNInQbNRmWb+h9H8ijC\n",
       "rYxjtB3TYi0IBhOFBcD6XuCbMAuIyIj5Fd7dpQj5Fs+1AAABQwGeV2pCfwAUudEqE9rIwALbG9BQ\n",
       "0+iU90MlNd/u4mkTu5bfdcL00PyzPbjCsBPfa67U7baICIzgmh5kCnC8cL+N2ljGxL5Ah6eJExWd\n",
       "LP66hHxes6Tx/nBnIPLXYFPNv4idpN5ml/zoLnwutM632H/kiXVUK/pAY8Znd8t7opg6Idf1BCQk\n",
       "wFRN6WaHPNp94ZyK/8wVP8rfsjv9kGj/7t0ZyQzUTlOOFIur4a/UtQo5YWv+KqsUX0eifIyyc61d\n",
       "mY09nQs3E+RpGJRtaE2fGDm2O/oF8djm2Un2Jxmrk6i7g2oJhznVDwH96a6JOTJTt6CLdIXQJMvu\n",
       "vmIO6RJmeYN41Ece0/X/EPKBBpKwfMiypPJb5PANXqik+W72OWEQVxZYDb/l0+bV5piSpB0eF7pU\n",
       "Jhtj/kkJkotHYuhyrxjk5vSBAAAFSUGaXEmoQWiZTAhv//6nhAAntb7OJmMu7ACkZRDdwF4OXHmT\n",
       "OXmfygSzIuMrtdknMIgt7tA3018etRfkdF5bbRY3ylPcwk/pCc8eUJt4C+KLQyFUEw30YOTGWgD7\n",
       "t9RwW96PyU3JSR3dG/lDSQCteT/XVz71yi5S/cT230Vum3gulk38AS4zDqV2ehEEJ/9XhhMPDlHU\n",
       "LZJ+YAKKCD1JJDMqcnCehqrirAgqso0x6bMrF5uUUcoh/7bqap/c8SjbS/vsGTqfKXKNBGlzAcsP\n",
       "KzPf4OSWSvSMOOBOQ19izoairqiv+9LUCm497mrAGrRm3BAXf36wA6yl2O8UxjT4DFHRorMgulOu\n",
       "hLcFPqHPrXYSBw/lMxmDDjD/Prtrzya+1ZRhnHIZYVGvX+2djbQlmUEIBZ4PmxG7ZjA39TgacyKY\n",
       "F5kwpS3Fmd9RuIGCxe8WsfKf/tzttL+nGIyHDaMsHZONyloepyQJp628eANWHTuStTTemj98jHEg\n",
       "cEFLJtkajhzSlzu95biI3zsBgbNTVKTkqz6K267SXWlepVWeOzy52wEXm5VEwic/3VisG2lXx/n0\n",
       "HfMJERu6AFXGtZn++D73e6SrSNIxO+heyAosrYtxpcw6HKSDfQ6/wY3VUHKPuyckazmq20U7LzP6\n",
       "nJKF+ZOwp6wxqgPqfE6PBQNKCvsvEMzR7empFXyhJKLMnKU/gik9OmdAauHWJfBvAHtYVdZyC46r\n",
       "IlX9jTfUUQwvzGv2EJn7KZm1y7YhBgF+iFQBXseQzFHeQeOMkrPetkTP9LvpbxGbyuIU88Msfbox\n",
       "yzwT2fO50SWSrJl8zbaKdlKs3Kqz04/4aYqdkY6bn7tBxUQbR2Q8g5+mKOAbThrBviAAs3Aa+O4d\n",
       "29YMYNotdIV+OWA0dOXWasZU60UemBs8dRv9ljHzIyfhELXymIkQOf9JZn+hCYM7ubKhnZLlbUI4\n",
       "6H32XCjzvInWBaF82AozFwgDPCvAhPfo/uQFpGYco0qB9SiTYPhUnCmc1fJo99ZICzt1wwQzU8hG\n",
       "4HLb4TzxRoRculzfseFLdfNQguV3MpIa4Ofqpsx+BovYgy5NCRLGv2Rye8c6oq9MJgCyDDVKRiwY\n",
       "vj1GBpHuh1Na6USmYKfu/PtKHCHwT16Bj5yIi4aiIOsu2F498ZAvlkQOElTQhty5TXfQb/rQbODu\n",
       "S3QbAeucv+1EErzK3bV5gwfP/KrQenv+ldqEDFfCsf0N+VkySHdjvmcwBnhZQSoCcw0osd7rojTZ\n",
       "5j39C3oIcTt2KjCtHS0CYGgmbxbNJDNkhY2lKNfohbZzG0bGSuh1/xA7+QdtTJ8ebOokYCVgBgtF\n",
       "mAtbpmYf4inEaMr22RSaTcNl1oVc2IeFaqVu+t43fg4k5S7ekhw/6XaRFmhqGMolIqHjx1dDi88u\n",
       "hOpOEylPfOWj8R7su94QBq865e3XHgLx57EYxJii6flqLI7Pb6QS0E0qsyHy4MTYftBdIfzFhL+R\n",
       "6wp4r0/nSFmEbt4APoQg1EKN5cQBDhX0VYrPbDVRH4WZccZs39gBN4cjuOdDvaJbNVSMZ9sgAJLg\n",
       "MNStOCTAaJAJCO1Hoiq178d6KyftMcoUyueHAzdULmilNizJMwmsIsXa0JYys49DoGE2bW+AmVLt\n",
       "S3GiVhFBwmO005ylIzfpG506gohzFd/3L/6QXH6YtPdZjVKj52B7cnEvMTGZNzwRE6X9e0zR6ZMJ\n",
       "yKNOMvo5Ltq5jTgvvSOsPF4jnt1V0Vk95Aie3dv6/mycgsVvyZ2SDGSlP0pI15ypM563VUqVBdPO\n",
       "VdHN/ecg4AAAAilBnnpFESwr/wFs5M0Cfz81j1gAjyGXiLFdFMPlXNDynbHCDNnrrt2SnimaoaWl\n",
       "zv1OiCJcP0qDpGxhkSRrBAuf1OgFmzFk9IutdohoqaxcJnGLSkF6MwDmiAbBYi64k7wpCaj1AVzM\n",
       "6eAIRjQvIyWM61fNB6T8HRFjjqhs1kinmaWY/8RF18GdOtFWF0F7Uab1nQTDF1m0ESWAC8fXTxMr\n",
       "wMziwTiWaPtlf6M5qwxHY3d5nis4QW8z9zb5dQvKhRCb7htzyJC+oaM9GPXNZlJ2cdPyAKFjMDI0\n",
       "VezG+KnptZLWRpw6pwPYVLgbt+GczDgpTM27EX8lQSCz/cKvd3c7JoxcgAU9A8A4Z2a09TkKudsl\n",
       "jKIXUwzXAAoo9OdHENMDTmSBJ8VzM7uy+qp8O02io1ScX0qGwGfYHY/f1UrP2hl3+Q4tDtFVEH9z\n",
       "6eOPbWJC8l7QSgiS19IzLPpoYiUmmkHdOhP3+xPHymi6MgbKSnHvy+z0i5s29ZkDlKUogBay60Jh\n",
       "RyzgYedXcFne6VCSDIUDkS++PzZghYuDcK4lBa1Y5NCyqFnJUVeDlyZvhJN0b9CIcv+I29abOmWn\n",
       "tUkLzZ9kYsXy3I5rgGUFmSRNFBQYikRuC+VRwnnXe/tUaKsIRhjLEDXz6Ykw+SEidzNUizPQJK7D\n",
       "wXcdlhGZP560/axFNg/QIm81Nzksj2FTyMgntqrFlNyP4gkqaR81/jhLgrr0dz9w2cnxAAABZgGe\n",
       "mXRCfwAVnwZsDCcFQgQAXEgWaFdDzl261RUW3KJuQ7xlq1hQfMWuswLlfXHa1Q8KtsDtzkRzuYpd\n",
       "A3bPAZv/Gux9M1yFgwLblJoaApdn2c3JnDkS/8ssBipRQPC1ZxZEyF+qT6vMCiF0Nm2koCfmT8ak\n",
       "m3SFbwKM0FveVO285zC6pyzjb4QODpq6dSjpfgBvPoveHrq+8HdS6KANn83x61+nxgpaVH0R2gOg\n",
       "yc14VK7Q5oDS1WbARm1pkBza8AVH8AJ9klIYnwe49fxWM/9Vs4HyhsaEkMEmS+QVa+xvhqQxpjAU\n",
       "+jnNedQVj6wRFseUjUttRmqrx2VmrviDzBXdOim5M8CSxmvUfKpPrDDyME7l3oHoL6IOXIml5aaf\n",
       "gqDbfN5ThqcYJi0Ldp/VufdNhjrQyANIaNRcFHXxpqxP/zHQ1XJKhA1L66Kt3NY9KWoLqtpJDqZj\n",
       "d2q4SJLWo35gHLwrlCAAAAE3AZ6bakJ/ABV3IukjBZCIAOPQ5Oded3DM4nm7vc+BQKJFCNaHI76/\n",
       "HMNKM5umf5exXrTttlhRVMR6F9obsSMzEq5TFc7gHUy6nJ6Sc0v311rHhoeRidr1H//7kKv+tZST\n",
       "YBZtbsuDCxyMlh0kLGZ81zR/0uVVAnbyQfBZ7iZFEvyMJOaNEG56OOCRLx5FXbBGRi3TP4yLV+CA\n",
       "QDPuwDusxYqFMeweetz3GjFUDNiwcThrdJBPGMktL/giujjKGN9fbb00qeGeK+w3Rrou7rEGO2eY\n",
       "IUTB4iBqKcvCfBpfEd5dC9w+V4fGZymQSo74EkdMNhktSPF9Zp3yZmv6mLNDfecJwW5P74d9B7LU\n",
       "FLzdaw00BNjHr39qTmtUuBF5OvSvBn17HRivGVBMtC7OiHZcMz8na/vTJbEAAARdQZqASahBbJlM\n",
       "CG///qeEABSGBqrMSAC6q+gXiHH5Gk40tgGVwmuJEYrciju68tQMa4qPJhchBd/HoUyurBI1k+YZ\n",
       "rsLVjZzmhYaEtgK7q50Hln2iKioWt+IQ09QXlNV+kwBvEPlFaqimNPsXlHFDtjoanGfT0c0aQ0yo\n",
       "mnepWAEHAEWn5Mwbn05CFhvs/eIB5JxhVhDSNEJTCoX9wpjeHGsCsUBgqwjU0h2bCPK1jBRK0hnS\n",
       "2PZoXuQCylxFwqOxEqEvXeG7WPJ2ZUIBoG27ugBxhcf5qvvVnGaXey+5iWhcms6BwEaUdPtav9er\n",
       "Y1+CuTq8qOoPJ8LptF+UGinyrWrTzsh8yq7d9PPtAw3rYUIFCVaJWNiSeigwwt7B+m00Z49+Y7Pv\n",
       "3QItL+JeFxB6Jgr+sitoHOzMM51Xq5EzQcMlgocg5EPTpcI/BkoKaDyBNgtKYm5eophXmnEfv7dw\n",
       "juwHoD/wPD+guxltkhr9wGBER+NQRIdyggRfo041IF8KOb6x5PKhx/Lz3pBPs+BWAK/dbAU/IQPL\n",
       "TgKHTvHiD9r+prLM/ZMenNlYBtmGtOl7y7kEC+Qcqm1/8EAqAepTx/ESZGF55QbYzIRMX3ZuucEP\n",
       "BiIEynYwUq0V+J0YMeVJjy8+BQkPe+uM2z12s9oo1QQacCjukO51PuMozE2PxqJObdLiVTYvbMOz\n",
       "kCkmqzQxghenvoIb0Klmi7JzvRxaYEdtTqaczI8/Jf46ceZPBOy9ztbGCyo8QQGNBRGjxJ+M8xXL\n",
       "UAa8cjZLjr2qKuI25ORFGGnzll0kAnbU9qT6jOleSX6MWAwjD3ff3sZrDdEq7HkWRxWoDjVgnfy5\n",
       "bl+MjqTiV+phE/LakwyOrzyFrIehpgAPWIzGKZQNJuoSutGo23C1tUM07zddO4zLJEK/ajbThvr0\n",
       "3o6C5RLf0g5zD4Vt4DwpJZVIlGtfZjtwKMdaBVm02LrND2ZEFEgPEVRjxgOsG2JiUqyEdLTNjA5l\n",
       "KbjEjod4+SRE2LscUJaHfNcirm0+HLclzQM4NfSAFE+p4ds2NqgPdtBF/OlgRqLHq7yKt5CL5Eu1\n",
       "0MJdM1SHMoED+ViQQii/ZfTDmTBxmqumX6styJQ2z1DM2cQ1op9nuj9CdpTyhTaGk95nf/fCqsSb\n",
       "7XMgeIZ40zJEvWbZpsOmKL4jmmRnJrnf0asf0bvxNepFSiQhar+VJuFbaD5jxIUBO4XQ+F3qyhlT\n",
       "P9/zWdCpUXzQjJuzeGOLkI6Oauklnw2cDpKc+Bzbt+pbEpl7tgi0Cc40gCcmHSOSMGw+tZF9VLH3\n",
       "9yFI05ZRl/dbNFyvZ6zTelGhTiNEeMYV/zJ5M4AS6ZzLmdveZ0nAGOX3tqxL/3dn4CRzLHiiloKw\n",
       "4V84vWyjJB6UYpFd4ufQ9ZQ4sqCYxjy2UMbFyDN/u7A030fjr6Rg9wgn/PsfF9NzYDP2vR17lPKV\n",
       "LllhPrDL/YdpJ4g9g/l6DXkNz3AP8pWYcQAAAWJBnr5FFSwr/wFs5M0G4CqPhYJknck06Pd2YAON\n",
       "x5Xj+T3ak6MdFvTkkKa+0AwpUYuHECGf7VpQSVrXjWyLXGMrx0A0QM+vxiCGthGHZJYVIH7BrFLA\n",
       "09ZYOvw01DtuuHcagFdfdbP3aPWYmk00tMcPiFIowoJ52d8Yjy4xgVofbc7jtyvgcclEaUu17FBY\n",
       "6WWxjkvDxk0avVDX2pj+HsqZXQbdjM5E5PK2m2Dj72HDjJdcWSPC2+YRCYZLLpuhWitAtDuS1avh\n",
       "8S0Q0cn7pmPqezMU4awtzDMB/blTu5RnPNW80Qhu9d1kFvSdIv+FvDt7y/+XLDLe2pehQJN08eUf\n",
       "g6HqpHnbCKT124owqKVlOdMUUNNQiyBYu0PEFO5ML5x1IYnVtDnHWYZEZyRUD+7m8Bm/phEd1SRu\n",
       "Ntkbygr4k7iBzRS9M8umMBz7oqXuZ1swDhzWz9xBaHMKL2dB0LglbvQAAAEJAZ7ddEJ/ABYtC68L\n",
       "yNBVsoAC2cYivODV0zFwjpx8dLAN0QJmeqMDrT6O2s9hpitSfRIGqM8c57a3W7IAtjZY4coDL5N4\n",
       "kbeMDkszvVAE5yWTtYIbBH6W6voXIe/VGNNXgfIqQgZU0NXl2jb7jGjSrFshpGkV5PmlB8vzD5FI\n",
       "nGPsmi7t2JB0dj5F1vNmPdhc9Ys2OkkrVNw3X8d/N8/keEtvioSwcqjxrQlWc87Jv010kxoV5DfO\n",
       "AvV6PDJsotBpoZKyZ+pSgAM1ZhJTbCZtHd+Jjh9+/U5zpjSr7G7gBW+eJdS4B6pphej96Qhfp3zv\n",
       "R/L0WSQdABOEgfgWJ8d+lhSyVb0+4zpvOgAAAO4Bnt9qQn8AFi8uLfHcLAMABa/m2I/oYJVN81ZC\n",
       "VUDRu/84/sf2DxL/aoY2y1BXMWJLcmBZ17Hcjt2qyY2ucXtqDCHRconjd+w1oTF4KbD80laNZmFl\n",
       "SD6uSnQa9zSDEn4d8Wj7lbtuQSBTnj6ap71jKhE9HxwkAjx6SuLU/WUDI+Aa5k1o7V1b3fUN62TJ\n",
       "tfwh3RZ5SNfs9qUXsDq9b4lTSpZTsyc9sUlaRCwTZOmLSVpGB8xXgyd75XQjBrUoa1hzva4xYlJb\n",
       "LPrOweMU4nqaldVKjU0TDKtOtqnNn9yqVJHxfqW9GqqdNbvVfKGBAAADWEGaxEmoQWyZTAhv//6n\n",
       "hAAUbGMSeZACFPZ1nFtPjH0HXYki4ggnyQg1NKmp86wB8dHOnqg5d4kZzI5A0FS0rj2xkaEFq7sc\n",
       "9HPHikPzCohcIspe7Oc+xLD4eWU0cUMHv8GaxZhsBvSxoKoxdDOzR3QN8hOe7wa4N6TnLqb7YaPi\n",
       "Ntj0jng1PzDhfAasLttsXw7GhkoBzv3nmz/X26S/H9n+n17PSy5IVq02uPWgoHhc5C4h6MaHhZ7Y\n",
       "0HigupZnDCI/2lpshKE7b3hpERfMiERGrOHzj6nVh0IqMNY/sHu5RkYIlMAUuA9WAh1jerdh/eQM\n",
       "E+5VWj2qJy3veKFmkfy6OriL2mZEiwOb0N/YVYtPfDlWB3+ikVYzBO4jnTuYvfCS2qI/P9ibtEcb\n",
       "SxY6OzA1ROKjVLx0S6z5JJomKXM31FONM/9BGdOBsjDem1hTyKQLJinNtVaWeof4ue1BcDbvS2p9\n",
       "qKG4c1deJTnnz/9BXYHz/Nx2Q/6IZarCc7jyZyAvhFBHPDE/Y/4IaVvgxnWlEwRZuit+fg4sF/4h\n",
       "eqRi5RuS2cr2AILWmw1zpoqDlbixBf6I+n7MQbMea2f4HdX2tYdiMxayqH57KMpRfoOJ/QD8hZSj\n",
       "3KLySp7eaqNpr037nZJtoZm/vbyQ1WwYMkowigoa78Tx5hIy8u04oP2nOAddgfcvEhCsWR5W8TJ/\n",
       "eqv+AKkU3k0XSKBmNN0awKv6yUpGBOu0H5R5LhF/TXTJaQKzo1wCYHkZrXNAJXxuGhjiBn3gU/SV\n",
       "66D0YyYIzlIS5kFzq/asi79E2PEnkkVarwkh03t5oAtDFh4fJSfHVOfD4G3Sc8Ez38PqXzAECb1x\n",
       "d5BwMnZqMxj+Jz5ikgm3UCIqXQSPRkBYnRw8SHGQvvOIQOQbBOWjHzaGSUPB2XgRA+pW5uIhCX9o\n",
       "RFk0INkeZOByp8bX8Av/1hZntzGcK4IDqykhjkBmw1UAG1X3V+fmPcod3K+HXtvkwkO1iePVj24c\n",
       "/Pr+Uzvl9QQwI6oUsHXQUvs8Zk0S2OE3KpZA4xL/jhEvDEor40kTQJU5ogJXa+HyFkxwQp3e/MTy\n",
       "H5AT3GzX4O+Am37No7/cVypacMYUracfNRbcQz2R0UmNjnQ/RTd40p+wvoAAAAGuQZ7iRRUsK/8B\n",
       "bOTNBu6LR3Ahv/ndeBngBYfOBrbuWtM14AmbSaTcscp6c64GMLcIVnf0weTeYM2UAtpr7fJHZeJf\n",
       "Y3Atnbrzkn6fHEPCP2F9a0BQQFnZJWV2thxOCJGic9iirRmdB+qtb913rI5IoOxJ4yQ2PV15CwLP\n",
       "FDOJltyQLw9jgkCOyC9YnJAKeKM02jQfEFBSt4CmlStGszIXCXP7pwfTcdNYOnv83m7Fl4bbJAZT\n",
       "N7BGdqckSsrRPse9AVtFBTe8URdrz78c0sqIWWgEbL0/hY5jbX0YYQSO5A1IDEz0P5aKg5I8DFjy\n",
       "XbqnSYGNs6HmIt+VVk6kovUTkHLhGrlkEPDHCojPajHXU3tyxxH6cH//rpWetMrbNnyajTOZ7iOa\n",
       "1cKoGDg5/+wBwrrR0dK1LNvSQ44wCOtBDOOVlSbVJltsDrEVEvYcbcAAN0WgEpotcEjH+oye3rRh\n",
       "nDHrXgW4Oy7HFOisYf2gVktAuNerflwVbRdsbYJXeAJa+VP0SSmfYbxp4xSXxVoZA8YrgJOUA9RM\n",
       "VB4gklpsggBGw46FwZkQgmW7/n+AkQAAAQIBnwF0Qn8AFWXelYKp4QAQKG93eoomPfuLvd91j0US\n",
       "6mC7zFvEEXcGac+Gh78xcnvTCXTnSp1+SlTg3H0MrbIfWRq6m48sbPeGjZmbgvvqf8hoMbcTI9hQ\n",
       "Re1kwl61fIO1m9MRhvdWYsFMYq/qGRAsi3+nsWCpMKrcezvHagAOeq9XbIBUF3p5FQjLpc1LA/J5\n",
       "76wQuQ5V16omNU2x+IVexKmBbw0t57G+FnZGz5WRr0VqHFi34sNvqsHc8dAz1zQu8MWXvztWwXvY\n",
       "DmtWwMHJ3WKerygGyO+xhb5SdpvmGpkVy7ZsQ4mU8sQKsMCF9/EyGlwRzcL31yJEZhjc3xnTamAA\n",
       "AAESAZ8DakJ/ABYviOVkWNlIusxkNPAA1r2hu7QKdFbPAakz8ZoQigD1F9vJocvurlrgAtTqCqgc\n",
       "3t4TRs+CteG6FFcgsdR0vfPsn32XiBew/z3OxISd7fW4HPViq2lPGCBOkjcyLTvp3nn90or9Dpex\n",
       "JdXBtv6Ft+0/+MdhR61wiwKs+ryD6IbiPBgP6WzCuuQOqIdR8f17JBrd5hJjUXUnP9GPC77u5/e6\n",
       "0f6/NDOkD9qSNKRRZRW4tj22zvNTrhVMPJZM2edhHG0LxB7IsHzPbLT2JA4dKv9lGCoKL6/4BoCn\n",
       "Nok4i69vfzuUorXDAT0O5ASCAOHsr+8OYvPvx2HnyARgiJW0m8iyrHnw+z2vnUGmsQAABCZBmwhJ\n",
       "qEFsmUwIb//+p4QAFR5l2hMAvZgDN6h4Ojc4URs9W+WDWr/6rOzOlOSaq7g5JUc16oNmKDjf2qqa\n",
       "ZNUAlmVPiBE2bMr0FcwTMCeVtkCDKfOcuoB2r1ltbT5e8TjMaztmbyE6jgp6Os+t2yafxVSez51I\n",
       "YQWQjIT/kUsi2u/l+Az3jK4MWy9t1fTYcO15tDxNwkhBsl8IBro2wnKT6Lq6TkyVBw4Pg+BFtGe3\n",
       "/sI9cjwOPlR977u5ZXKafX/tKZQBvWEZlfsyCoyKXxQap8ufozVqSsRmOzHUS9QX4CZ/4OwVFY4r\n",
       "RRftk/wnec57clwlXkywVnw+ISYCGaEoTFkpVp69wFnHiTyc+9z9OC69Vg3u7OfktcdLAWk9dsQk\n",
       "VcsNaHVkJYpwrWZcfJLUnt8EX/HpyTqedCf8/fm6QdzneWHf0dWaS6xv3ykpeUNrGjtrt3COGyIz\n",
       "+hfLFmSVejSLsuUBTWB4qywU/ZBF8WCV/X4hwWxMmE1YItqyA939jK0ve2roE31y27rxVL4Iljy8\n",
       "A5MwRPcXrBi6tcCisETinuV62rx9PLx/fN3cRQ1IJgdUGQ/Fp9Bm3FkELLzaso+5QsKEmAqUNO1i\n",
       "SkPKKqhmqWMQVuaw8Mb2kegexWitaU0jMSzr0zaLmv7WdicdAp7xqlFKI3BrZaiF3zPelksatGLv\n",
       "ojA+EcWxoGOOzWsvb9MgZSYg9g8uycVjSVPo4YHitxv5NXPvkxjzMtwcolxA95IV6YUgLoRYL4P9\n",
       "aXSv0fSrBNCmFhrY4pJW2VNPWo33MdlV5fle8Mk5MQqI/Kk4BvBtMxDUun1ATSAt/8WBgt5gB9do\n",
       "7OhE2QvGGeocDcVm+7ai/fxExyREolm+lszRhGsDD68IqFF2L4oY3HKqDS/MAtJM71UkgHn2E9dF\n",
       "rFB4K1IpV8ViHIn9ZL5kTdyNEJYEhB4yfPRYSUO3pqzoccuFPopYyqwK8GcYSmnb5Vk3Lfb1q7aI\n",
       "dK83Un/Nlb+e3b5a5a/+NvzZdKT6rTtkkACV6Vuf5H26aty37GrGAZRH0Ciy7xdUiaaT1UMJ54Xg\n",
       "MexbtF/Zkwv17n0nk/lfJ1cCeO4RZplekzzg1rin6Y5C4dVBhjcRDJ6zEFbj0PptGuKMcm+D3umc\n",
       "SPCzVwtcOHnp8s4bO5nSOVb3zFcGDMLU/8XCY0ROO/7Js3QjolYHq5L3MPS/Ktf//zwwZY5VMus7\n",
       "o5dXA7+6FhUDow0ZI3a+rNb6IHX3Eui8yIqPKNnwPwcQkD4r2Y+c3tFnP1Rpp4FCQal0dLg7eLm2\n",
       "LUUHtnGn7Gd+WTXuDOvNCf+u2Z7oZFxuoWFkaylvK4haRngNE9d1JBQQM5ZXMisf6cv854Sb4ouN\n",
       "05/7uXmAbS6/AKNIn4q+cK1PbhSBIOfTDHZqd3guhFkAAAI5QZ8mRRUsK/8BbOTNBrNBSKfKEAQ8\n",
       "0WBUx3Rtl36Lr1nd1285YaxvlkTn8A/+nWorJgbmGAWSUgP7XyUCfs/KZciCtsP9CraQndEDfBRz\n",
       "HxDg9WqsTwmvyylIBy5BIr9FqpR12ZpB+jzZY2cmNg562/5h3+mW56dgXrPgFXQW2vT08fv/+xme\n",
       "OGDoX+II1K8JGIewhfdj/RQTDi4cguBBuOeHQ2gN2/dzxtt5j5Trnko6eJhY9ciHjGlTEcC8W9eB\n",
       "Wmq4uxrmhk8yYPB1FpEmafqxVURtvNvX2+/8EL5vexIcL5LO7/WhyT33FOdZTkdurfU0qzVJIk4L\n",
       "uLKFlpdioobfdr6ksIIUxS0ahRF5jd8zfxXeALLN82MwogUW69SCIyRSYyU8qvjfdMK/LD0WjmzZ\n",
       "zaYP0tvOZn0sVntNrYAgv4hz2a3hXzKWXClQ4SxarlNXZ1g5NfBTxuz2rrF6nluYf97oagtduRMZ\n",
       "BUwm+nWUe9diHDl0OLwlI4IqLAPbFHVQmqJlLJ8txWf2EK3dRiR5m6fRKYXI14bRr4qP5rWLO2i1\n",
       "7HcV9hd8EgbyCXKxfs9A7dUj12dSRV6HJC2G8rkunLAMfyJwwBj8joyh7NjOUF6fZQT/7HKBK8ft\n",
       "aM8JHE1LK75HcqlU3TtkH2lVEh/4kVmYnmEz08V1xpZc/leD3JLmF5OUpltE0HaUCb7qWTIcnPHU\n",
       "3ZgrT2vRRTz9yBkMdfl6WNLoZpmU5ynkMJQcY2A/75akTFsAAAEwAZ9FdEJ/ABYkLCTwif17Gi8k\n",
       "9QALZxi/pEo/k5y9elFcYGWmdJ7Ri2iATbMITMukarOzVomHkpj7ME8/weRtz3ap18OH7/H5IJ0S\n",
       "QgGC8YPETtHmuLvv/+Vancn8bAgLPKP6NBkfRoLGsO6sR0UoX3uZxyI1059qfivJfpeo4Ew5ehr6\n",
       "r/GLbQnEAGpNbb0oOvOQ0W3U4+Iv3NzF9Y+PuBcBUi2UiqSf3bfIrO+JI9QJQoQbHdDmYSQnqYr5\n",
       "TCe/7h06fDQkI6gu02cVN9Q22PQDB86T3wOsHcRX1TUno7+rCH4TGpwYJ8UfZOQ3kcS2tr0Td1Eu\n",
       "Ahf0B6ErjFvDGN8BnNN3hMnNwapmOYdVvxdntghG9JVhheNhv4M/FaMTaRLiND7F0omoDRsp3J+Q\n",
       "gQAAAX0Bn0dqQn8AFZy9Yi8AVvweFVndongq1RllfOkREdoAg+B+R6j49WeeiJk22i8dluoduObO\n",
       "awE5i/u6sHraNMenWIn6zSk/+Tul2yvSdGqkw7qTD0hGmeTn1OA9+/nG8OtYmrJUMc2QqvDITD8k\n",
       "Ezuj13qEaruEide5R4figGYbSNEogkqZiP4rLnbS12qvNfpCXTxKBQv5aN8W92qbyZCMxs3xLB11\n",
       "+kNBjckyKZCuCOuX5WZLSCI1I0/9dGEH3Tc1YJs02kxTmq1c1oxbiXuGEe5aLRgEbFFD3jiJH1bO\n",
       "nXIoygDl0Hlh97cqmUHwxQj7COVUJcFzNpT8bzVkU+bwIBsiIluvoroCVWY+HgjkO/4/w8XCaReO\n",
       "NaumNbQDjDfXr4uMgdtNUI3I4IzmubdLEd6llTFzsTTKv27NuPWDQ6l+SrTWce9wOoRwZlWlJqVL\n",
       "zvXfDfBOidlA9e5H254C4RqI2h/CPltX0Xd//jHXEvofQgf7V1Gk4IryLUAAAANyQZtMSahBbJlM\n",
       "CGf//p4QAE03amSErdFi8FgBtqAoZuMmMjM3Mx7iuuvu43KRqOhFSE/076S2CBeR6VOJYQ2LRhnf\n",
       "e0MvM2ZYyBnH3CveRZAUj/VxdSYiCkvg+qK9TB96X8vPffO3ITq3U6Y7kbVe6nn8qjuiNPUP6gIW\n",
       "lfu40NLQq590nckgK54RjHD744tlepinPVtw5ucsjohmaOIKuS98+HncTQV7SVVFrvsdFvHUgX5l\n",
       "01D74lnEN/TXE5PBWW7n9wp0cZctkAo46ldfFQn8NnDLnBtAEii4JuojX8z2pTF3oNl8cqsDyAvL\n",
       "3dNNg5MESr2H+inWebXnNfckjI0RXiYZ7QjFxpsMZOK/9ZAFSoUQbXRIRfxvR/5Fe3zs8wKlY4La\n",
       "lV5bwS5ARk7D3qzgOEMdY8GmWO7LMkQWm/1uk3j5CxBNtql10l8zatGKg5y3dgbIG6CKty9ujKEy\n",
       "b1yEgGFpFQPZvEIvwBXY33l4qOYcY7XmMINqZDMq+7s3+jwf4xaph0gXRlA0crfcIwsNUtrqZRnR\n",
       "jjP2GZx8ZpVJoRj9a/H3//cT7rFA2zFh5wafQB98S5IrwEh8aIYqSUuF8zqeR6aZXX3WwiyyV7dN\n",
       "tu34lpp6utT2sm3UTFy2XVt4kjLMddaOcI1hgIBfqc4fecnFuPd5bsXr8X9Pk4lMLZdJ//47eSAG\n",
       "EepZjlZ0g187NOh/xlALue4A+ZFlHZVXuu6pZJL2szaBNH6+neXeoRoabROq6s6+2ZY2F01EuBmf\n",
       "XEu4Z54Ia6oBhyVaeURI92rohHEGdSaAslp6wtv9sZ3mxgUPlITzuuKnXqgCsnk5FdsaLp/UI9xc\n",
       "xSstWSzLZW27pgjoh1p6IhHKebzNSwboO4F1e8W9XTyuruAKnaYRHf/qHMMAFaarXNOD99ynZfMo\n",
       "/xwk4mubgpKmteweO1ew0lqp8kl7uqQ0pX2aDdmYzPFo0DKNCuFv5ZgJ2bAK6ya7ABzvpYl2xBtF\n",
       "uFj7+9TSl3Gyj4lJsclwdQVn5O+jnl+w4zxwTcdC810t3U8uHeF29uitMiEY+03oCqUuLGCERD/H\n",
       "/l8GhaH1FROLGnl1qt7u+4ORiNZGBKJzryI+0DNMcCtN8M/u6+uuqICnGxPt1SfZr1KndPQplmnG\n",
       "5ndDrGjPxGRBeCqLHskCMzI4AAABuUGfakUVLCv/AWzkzPzG3keQe4E+ABKWqvwvCuUkU+elxttx\n",
       "u9rd2RSXGxifwtoYxuOHL/gQI9qRf9Bx44HVV/Nk/gWMQbT3ZVyqGJpPJCvGyKSV9qpH3UtrM/S5\n",
       "Eg4h3Hm05G6dDrkBSIk7tqAzKhkw2PJj8mIYUBjWCeLbiPYsXDR+tUNiQnBpNxctW/chgtjKF0XP\n",
       "tC18dR7rxEwvD9HEeoWT6VdubdYjs32d4AeWPrAISl3N4a0NWTqJKmsdbDPYwbemOQLNcHFBCrhI\n",
       "F2i30YDKxwGiC49oWRpCE4InPgqrcoQ4fqh72b3AtCGcElm+7NlJsgIZzxXiQ1ddIjRrlqyOP9de\n",
       "fmeD0KBY2OUHLrRWoGH0M3lQ7hA2duQiehG9NLGfV9vOYxEzegZVBnbsPfBJpOJRjte8aHoxvCrm\n",
       "W7ms7ZymhsM3fOCJRa08nEHlwcbaYHrXHkt7R5zb+8nuB7pn6qjl7gfdJhGFDVok+Zne28R+1jeH\n",
       "3F2mphO4iOjrPztN6Se90MMvawb36gpWMBz/+4dkAzWx1IBYlt6uMLBJa6FMUy8fYAysiGmZu4Pb\n",
       "e2G4sJFlTQAAAYABn4l0Qn8AFN+xBtdr8ABWQurCAaGKZGEabn3XxFckRK4qbQ657aqp5LJ2auFt\n",
       "+0QLLyIcmd4p8zC+K7Daak+Z2K9XSniWR1d1Jzrxi1Pm3AWNt6EqYgQktVa9bkaZnZaIiCF2G5sK\n",
       "9nIAEfFeoDplT+Etw9VsEyGPAI+IgLiFZXC6pwlueweGt287/VTn7l9iJ68cUdiZpew8XnZt4i0f\n",
       "ZWo/rcPsTxw9NAD9E80oVjcHAflo6qlrhacuTvpmsZZRUkBrfCHLoi6vJhQCaZUHeFb6BzBoAl5Q\n",
       "lDJAzg3UbZmP1+vzSUWQV/a4981glwfjlskWfnQl4cWnl5WiXk6GWVVzbb2/MiS4KLdOB+iB0WGP\n",
       "nZ22TAHWdYAZoyNMGtm0QvdfFkuD3VUAb9gkM5OM+bRopIDkN817zGavATUESA9hpgySiBor0bXb\n",
       "9k9LzRwUXLGMkYm8XduqkKQdlDU5JgWknRlB+5PQyYSXjawGMXX5HMWvvhDk0ZINIBm5N9gAAAEr\n",
       "AZ+LakJ/ABS90bWQ0AAuXJDSqt7LEVZCvcXC45MlJUEQs72mq2rxkpPqlzhcquFci+Zu6Zqz6bmx\n",
       "QgVTA3eQOCNGeZawws1aeFuMbF8oqUxFYwtw2aSj3+1YF0Pgc8dkHB2GXmJHzSatG//h5587rC9a\n",
       "/uCRr4sr3e3eYy57yYeHHOr8vl9yIw4kT0dxNx+fVCoY5EuMWZaOEPr8KK5fGTL8KQV6kjxYpQE8\n",
       "RQebOtG9KtyripgDX0MOnVMa2o3BjvAiK5zSV6N8PtoL3qtwucD+CKb+CZ8Sad3IlrlvfI3tT7Wh\n",
       "0cPKS5ezjvippQ7hQq7jmEMMmCM/gTPMqRBB0/nEMxWdEMjqojN7Aq+2liE5UPTaloFP9tUKPYlZ\n",
       "/LRcDAHXyZU6GoNCoqYAAAISQZuNSahBbJlMCG///qeEACfJLBrO/wNH8m9TACSZV2d/5X8rnkaM\n",
       "iPciBh9vr9uhID7r7ruxG3m2+rCMOFJ2HQjTtSr0o4z7OHCJUBUd/prXGHt4TnF9I/wsSRIz4xq0\n",
       "7HeJ/lOczLRastmsisRwb5WjsrijkmynvxzKTT6BC1ogCAP6kHkwEsaYkgkQFFE6mUa/H+TSpBp8\n",
       "ynjgzHFCsjKEpt+JJq6GZgs5r2iI2EUUmRAoM31BD4sgVFjdO3wnzsPiXrgL2saBhBBShddFPZxb\n",
       "uoPq7LgskKrt4LddYpFynNJhhMhSrW057e4MeuqtK8Yr+tSzz/2HkdDof8pQzLp6DRF31G6Fo+vn\n",
       "L4GPNZ09HBGS2ESrmQpCjgJe6mFW88t5xc6ZHwaHYRFINIPuwxROfPt3nIMmEvsByH4Zqwfh8jzW\n",
       "aEcDl44UchcboEuw6Sp83/OQEFw2oMZWlgJ5paOdGK+R2HKJcva7p8pv5NUirkdqKHCa9SvQoyRQ\n",
       "Rb7BPQIO9J0nyQwLM2a3CoIRqJcMlDgp4U9f9k/UAtgkJUTlXHbiJYMhFpxgYEwvFUxbushhPHCM\n",
       "AfAN5K5uKnen++0ZS5Z3r2MT8aZUpz2XCu7xMgVqBB0pHKlt7bC7D2dfgdCFcSSXyQSAUcyp+0ck\n",
       "nwe42opQ1Z9GWIJFa+NDMrvmvzffyihfRvepwQ4OTk7oe6kAAAIWQZuuSeEKUmUwIb/+p4QAE9ka\n",
       "p+e76woAFe8ET06sncjWjZ/3+yJ8wpAP57kNN3go/maNn0Ybq38QqXwvcl1Ma1Z0Y5dxQql6mUUe\n",
       "NqfCWp1E+CTdiQGdH3BP+mJfGkocfm/bLMUqVwyECPbD4sjgPipteuyDzAAmobBwKEhvHro7FLD8\n",
       "N6BZeS4OOYSsgeygv+nAft3Hgaqnhzk7rhTnYUHZ46RaiXdFIqQV5g53SwfXmwH5GyObafiR8qnY\n",
       "NZ5De0YhTY2GwI2AhWWeC3M3UUKxTjnJPiNmbTWhZ8heoWnCaCMLc8vToeJj8amYNBcyySQ5MG0k\n",
       "9F1qbSJmcuIk/0u95gnf9mi8d5qMTCU8vxNNXCVj4G2KNLwuOlNfL5aSlaP9Dnn93HN15FJwGdXH\n",
       "hvGKztXK4e3wkwpIOjsuVW5kWMCSy7hs46LeL7kSxue91hEfLlu9X3xRshyNd3NT8sPR79cHDLP5\n",
       "UPyH0IPpUISuAHULlqsb03nZTd+xWtPuZAnHn53GlZktv4+3LsCBohRk9o9BFAp2HNuWL2EjIz0l\n",
       "9TYFGIEZQhLgNVQz4se7nwc9lFGl7w5NlSuzjhzJvWjGY8fcPswz2Sih0sR3orn/GCOs70104iCI\n",
       "qgkKpBVWPuC/kJliFdkM34zghxd1Fg3ORRnItwT8ey9w1VkeafHRcYRXvHfO6QurPvDXEvE1FeF6\n",
       "lhExAAADyEGb0knhDomUwIb//qeEABPnFiYWaNVe1a5WcdkX3NwA3CZMct/L1d52thPNHXgxa+8w\n",
       "BzY98ppxxnN8iGEJW5HP2YGJExAUdcI+CDiiGrFg5BkA0T7TERe3DVU9b4z7mjKx/MHEw00FMXvR\n",
       "tRo1KjjGliMZYRJjg9CEO/VPd7qBcURATXsSrYog9sc30dfOMna/+nbywzwBwLN+gFwnO4RW7F5+\n",
       "z6hzyZFEwrhbYEDi3K2LAVc22qMjlQprSG3RMtOwzoxmhePVFuHYp//nFkPF5M25XTrCYTYOBcED\n",
       "8supLlDZGBHTo4ajn9bBUGXfxPMTtsnLFPZTruU6bIOL3wxP3axxfBZk8Pw/GjaNRsjS9ZzUjzVd\n",
       "7R+d3PCR2+MW15u90Zifj4ijcCMM7VD4SZmN5dg3sN1fp6+yhCnLamB08XZ6/zuz9JWXymZEYKI6\n",
       "k/QSLpcZfEYwORjeytPBeDjcJt7C+ZbaVMq0Px/pnnRRcMgQ9OF9818fkjxrpMKC8cdrknaNhkOd\n",
       "2s5zuOLU8Xe2b5BwZPMayj1mxbFYqgQLpLV/EiGCm3+1+axtVl+YieyPOIgQmUZYMxqVI2j220S9\n",
       "NreXcow3LnVwwjHVgep41SyOsbTI+h2lXENLQg8cswfPrVvUEYagxOgdrm5bcVJKuq4sPgqBQE5w\n",
       "U0QWV4jsss3m3QALG8Azh4F1A2laDHjkXjU9ndn18ymjONHL0hsaE9rDoSncj1Lcf0NpTWDO/j3n\n",
       "OcbIcqhOYVRX8Jpaj7TP12mDYJSnNoMR0EzKMV6KpRuM1m+FdQ4zArcRswK4sfPyE8VJlVZmRBGY\n",
       "KvKr1tHelZoFaqc4S+GWSn9mOJegDyfakTRmYt7UgBtR2jFH+z2+0Ccsjl+gub+T4vf14/VmkmH3\n",
       "+f9Vh6naFUYDI1ytOsaDQLvaMG5qamXGmuvbpnzybj1PC7erBY/wgKgK7RzcAKJtO8q9kd3U/y0J\n",
       "bfeOnPxEvMr5f9bDd/xfhJxPQ0Ob3g/62y/+cL0rI7dKZRj+tSQK2RopQkYItR6lpqOQG4ZZ9l5b\n",
       "EOigMe1yKhNYZieO6NFf9LsrusUZC+HiBSZJHlgTR7cWraN/cf9hwPgwef50V74vBBWbdtSnW8Zm\n",
       "r/V4a1qoILQEybDsT6ayV95c9OGikrDqVDD3p97y6ocm0OzNZrzjnE1XEvM1WsIPHgaQQoxpbwmj\n",
       "65U/QP0iPpxLI0OP1n71GkUcVuyyAAPWxBxNEUev6bEek99ZJ/7yhsfQWQyE3Jm5ZiFy6VgLXkJw\n",
       "r38w0eetAAABokGf8EURPCv/AWzNjUJ8Y0KBG7oAECR14ieHmcXFJWzGgoJtWqoaWJpHT72by/Aw\n",
       "prPxsmW8afuvhAZ3qozHv1woTdswCOZYfJ6tRvpF6/Ob8/oB3/qK5ySgh5vjRZUcbalK57PQsYs8\n",
       "L7MKjLT3pW6apk9KcT5qrunUCfo1pknz5bfrGJIwGufaCUQejcOtoji3gU2LKTmDBUCdvY7ciHUO\n",
       "Eq1aO7kECT6L2D9HK7C4j/eiNSEb62/YBmE45ij4WqcaN+0iTur+jVTbmWw2SBPoK5a2yyM6gXq8\n",
       "0D/h4rQ0vL8uX0HJ4D8YB3Qc2Kb0mQlHc0FX7xK3ih+Hkm898c2IU4dhu3MKjC5fskUYSv9Szdaf\n",
       "ewcrDTwwMgEMXFd5etUudss2A9qq3y7ZTpzDof9avJyRG8fN4KzCBMEd9GGog4KS5ble5qU5NJbi\n",
       "QQNPZJhyfGipqSflqZzvjOnftffX9CgZ215d0JGCrUzy+9pChyu3WlmNOCwztc+eoJGNT3HVontP\n",
       "N23kNZzvNkpZy6akiW1NcVDUETheZwdDXX34LEsAAAEQAZ4PdEJ/ABS9/EF0sj4tqlJ/tYVEelds\n",
       "Gj8nukxUgANqOpvOC0SfNV8HFu/BYS02qPl1cgouayBP9fk/rV5REqLtNhBPnEJACzLwLVl+w65K\n",
       "pgLC5mdRCAYcqlH2Ng4KuHqKT6jaNOihW83cs25/ftdsq1zZRZg8/hbO/oFfni6cajmqk5oGfm6H\n",
       "hMfjVvPqVDP2Sbag0K5IPfaPqKP8vKeiWbOB00P2uJ5EQBeh2hEqCpFdQCHv5dfUVmN7wK3DeGsS\n",
       "vUjp6IPr0RubXhoup8/udfXPHo+j/jLZClesHTsKI3XakyyLGZ4UmK30QwhDtDv5W4LJpO1YWXpG\n",
       "ciBkL4uqe9TZrljFNF5oEVfSgSAAAAEEAZ4RakJ/ABTCOyUZN2Xg7FU/WouLxlUkHIXgAiDAa0Ah\n",
       "rH61gTp3TKCS/fKj/DmLE1NlBRDJRPyJiLcg1IXhhqLDpknLqCpYKiDixuqf7NVOtncjvQwAW6hG\n",
       "ITbH/qbqLcBbRf0TSJmVK144wTYCYSSwCJhUvCgi5mZrqEmM5EYKokG2e1JHPqNOMy9/GggrLE8L\n",
       "ia6yDwpoJfAVAXAPbLrexBY4f4w80cn+a5oSq5eRHlFNZRXSc8l7BYOMfbCLyTumGRCoMSbCrKM0\n",
       "ewVXw2OCgSdY+j+vOSiRSM0FKcr85stsmcfrWQIFWYtMOt5Pwb9CsBdyvBr9wnj706WLgHAG9AsA\n",
       "AARZQZoWSahBaJlMCG///qeEABSPeAAD2mACVLGTABwtddwI/fo1UZd13EKxDO8HVXgnhkB+Ahku\n",
       "UQZ2ji1GgFrQJFqpBExPEfT50sOdnVII//sag3Wjr0j1glaNw7qw/Svv7jn+RzLxZfCQlzj9qhCg\n",
       "PJCFj2S9Lf9bOQftGBA+X7u1So9Hg42Q3F3sys3L9fCWIf80thYea8Iy/guX1hHHv4G7lzj5ApRl\n",
       "58MRsFK/4d0V6IbamvmmCuoKo1Bm8RieGZmvJLeAKydTT5t6HLcZZmZq3UBLRzYq8XqXOQwxjSOs\n",
       "KHCiBuNALJl9PPLVi2kDJeWRR28+SG1MbHs78I/9W6XcWHRDcEgHxSG+uVSEB7MDsTwyO14YIw1e\n",
       "vABecYdBo3IafoleGhTs2LZjKp6jKs2PewGwFyG+/U9yRT+ydQD9bYCfFEgO42R3pmYe1qWalgUx\n",
       "b9CZwf3pPpoMVdgxKqUY2cpCxBOEFaT7EGkMfU43puO68Zvl3Wv4zW2qvx/PEGoMTsEZciw6gnA0\n",
       "EpytF7uks0Y+W8btItT/lVkMCYMo+HW7eb1IqAzCwvCTJaE0zvnaLkMylSAkww46mJ7hGXLSScMV\n",
       "EnxH/Mp1nJraAvOIdmchhEbxliInYoAhiYn7bDeX4HOgNBNvOpsvLD+NM+UYzt2UeNYDQRpSftTo\n",
       "0e4pCPTfOeR4zYDT3ez8nFHDbv2k/gzNaWikNtOyOm+NfPJ5EeX63SUqjiKeh1J4QxmsnkXLprQ1\n",
       "20BBNpU0yIKKqeboGkc0WoUj7IcE1VnJg09mhMaVELSWU9GUxRB6px6xu02tm4MFcj44ksaMc6ki\n",
       "cK5jAIpYTEHiwQgLkoY71jtjV4ojrQbRxt6awxVbeeH11CM8jDwWGDqO/xwqOejwQqwnHh1b6UEy\n",
       "3iExiRc2zShbVN45ydcIry1fzbQ3P/lWSV1xFA/XDMABIRjblK7KOw3ZafUXuLKkgKoEi202DJ4l\n",
       "s7tFYwPe4RY/gi7AqFx0pUnZozdl/hvzZ64SRJa1qz9UzWZm+jSZz8etBnriZdnst4gbrekT/l+U\n",
       "8n2tDD+kG+cU+vQcc2Oq5LYPjAIQNiPRVk8AdwVySPdMdI1zP8kp6pycbJD02IelSS2TssUMjEwB\n",
       "kb26zRYz/FQb/GknY6TevBe06DGkXLZY2Kzr2pFjpTLTUbgAbavGlcQiqMVippo4a4eH7ip3AH7B\n",
       "zFnKmK/wdyE5axV+6+oZECX5Bcn6T9eGbYZDXcyU8icos2gckzAhfw8vz4z4wEtlyBhd8Nh0lJdO\n",
       "m8nWRMyRSBTX8jD16c5Z3MM0Hxc0ypjfIhRvDi+GQoYcQbpslD36TbXweKFe0A4PYUnup2lHslvl\n",
       "bQYAy1NKKF/g48uYtradvkSO2P/Zu8gVxMVyajvGCOXJgDzYN0pWjTXnH/LjInp0sWS3AG+FzejY\n",
       "R26buvtFW5zuu8bx6AtSwxM8aEXRyloya+XYL7c86doYAAACC0GeNEURLCv/AWzkzQKwZ6n1OgtQ\n",
       "cft4ANu8nBO39FAa+QU1zRJWzv9lDr4v0EHS7LRsoIs+qyUB4leOU5Hza/cbk7CNtNp8Gd49xRVV\n",
       "YCweEp2IQ51WNOmK1sKCVNEYdD+4e/zTxAFbs6m8mqhebN1CZYWs+ksGae1rcqKbWDx0hFi0uPBD\n",
       "ZvyndCQco+uGYxGTGlzs3fRoKuHQ9pondDkiM2PYq5teZ6+fUlnkPYM6/I8B074uSMsfrRMNaUO4\n",
       "s75KjOKhMBDGXAEz2behfceTJw8Z3UtdGvBk+sM1UWX9Z2P39LgsskC4ClgrXSTVIZaPbOYKRZ8W\n",
       "jYY9K5hAW7u9+t5NGJvvh7Qz0UANborlVD3XvLdZ/29IDUhvb5DzUSGA1iDDVBgdKStIAE9cO4KK\n",
       "9QW2ku32d4eVnZA8qewfyBut6iQ9LXQ5ubErFkir2qVocAlDhgxeObV5SlyDp+n28JTpX7ywECkl\n",
       "+T8AIMQ+NRzhT6GexfJokI9wPbWs68ydNsLMAkJXHbs8cvFcGI2o5X7IcYuAluXdab54UG/PH4v/\n",
       "54eIbkcRwhHYFrXL6RplzpkqKhixK7/bAfaqjDOe57Od/5jnXdVYi54efIo4zgXSlb4T/u7ajc42\n",
       "X4MPU40yHXx6lzmn1t4Uf5HiYW/LTWT3IEW+sWemI6heO5mkEG7Wz0Ig+ruT3LUAAAFEAZ5TdEJ/\n",
       "ABWUV+unwAV7SGjMDkpmUyMfNOqL1XCffF7eu0oqM9ndRy/d94unZuuCK70PGthXwsmMtbYdGqOF\n",
       "/6BSVkYMh6hjpAOrmu8ZIjzUlSXW5epCam34MKTyCan6O1znKSTkDfhv293GTLSfk2envlEGSjzm\n",
       "jaUakeKYYzUFRRJrWu2zyWLbjQs+BV6BsVZ4kBamyOGppnOkQpzYvI/u3LMjNABeMq7zBunrgGe3\n",
       "mYbT1J8kGzcYKz0TXXCqnpk4nFWPPv9t0crCK1wri7JlusoZ1J0VcvDYGgPRH97FF9KGIUtMXVcC\n",
       "n5mtJrLJ8FgWYnWUaXPBlNOZwn37hA356X/WcPLxe3GhffWPD8UQcyiABalV9tiI7fxydxRUisOE\n",
       "4c9HWSCHUjxDDaAQKOeRaQvuM6cw20lIHYjpm1YN3/uxAAABegGeVWpCfwAUzy7O1KtaACRkvwr2\n",
       "EUV+O32dU6EuFVFVZRNIiSZoR7r+4HakBU/h39/r6u34AOHMoPf3+lJWYouvxRSHkhnyIDYPe2Yh\n",
       "o/OnKkKj6xZQXmbJAMZYg8hB7e7XQflR+JYOs+j+lOh6nmYYUn1iEMVnXns13pbSuqWXcLSuqCeo\n",
       "J6g1SP0pPRsh2UYUjTQaWrcRACbjHwPAJTN4Kv8waUBgr8Fr+FzWGCgMioMYhkVeAFpcfBWAI5JD\n",
       "TqsMUkdLkv0HvAXmDJxZCQcxsu92kbJT3rmWm0nWsjKVG+u4qFhj8RYzyecSHDBomo66ukKQ30xQ\n",
       "0VNN5Awoj5x9ve9cknBmPDe8m6ZQ4dOT5tcUM+PGY6m/tb1UL8l1p5yHC3sAlMUphro4ks9OPMGT\n",
       "zSJWD93rAokRrsUBDI7ypHfD92sVR1R7LEHTSTd8KwDIdsQYpnKEzXWOelddJKO4AKP//UOkbff/\n",
       "f1QjNnfHCohy3OTj3zhq4wAABA9BmlpJqEFsmUwIb//+p4QAE/2w/w+yVMsAB+aucUKxZlI/JLik\n",
       "alMrzkPj/G0DuExkKq4SBCF/nfFPJxjVXDlrp0ZnghddDObwHtqGoKu9p3fi4/+Azj98VunFaZll\n",
       "MZnxMFr3Randc8wCNw6zz8JpKcs/LoRvDM5WGfLh1vIjo6opfUKT30ClOTV54ak+xNxvDe5caKHB\n",
       "koT7I3K4hcVx4Vp1kl9YdO1jqetNuJlSF6kbutvuBP5PgXTRWuNKiqk+cedDBbv5zX1oDxldcqYQ\n",
       "Ty53U5YZR+8XG4ZJK703WLEABYdZ7mT7vpezK6L1oKEayDwGQym+AWXP8bhwHachuYN2fWBLOLBR\n",
       "cCDXn/UnGEWtB/NPqMzNeqbhI3u4NCmFPrwq+/glMK9gKKlV3A/IgAoRKQXf5lzTld+qERfEqRQc\n",
       "1sXLy77tnZiBjn5WwQT7kMwf9PCuwOoAKRMgkh1gYkJ2nMsaTh3H9K91IlfOtEmXjr8yf857NApm\n",
       "9ggoZf9LEtG1ohisQVxUdI8fSjqEeQdla4nDkwHGaXm59g91npKo1QtowA74AThvJQIUHDdGYu1A\n",
       "Nihn++4gE9pGOWD+XkOdKuFmDyprp6fW+e3n4BAn05xNF2RAeBSX2P+NydMpGh7IYuK32wIX2HrH\n",
       "+RRBN/Qy3UItufacClhBV23JE3hK+5okYFk/L22j1i7l6UXRETwe9G0aEkmLsQsOObKV6CZ6xKGh\n",
       "vcZz0pWRviJ9+vs8VMYxIGbV7iyRnAoPr2Caqh9jHcCJrXHInNMVmGnn+Fi+clWvzuLpGO8F2YpS\n",
       "yAjaU/zaMWIlo8dV1zTG7iOz8dotr8RXNH9rDYr/VixO95Fq6ai/rDf5dPpPc+CrMHIftuhh+njb\n",
       "ikasmsSTehESUMDdu9nedThYL7JuF/y09RTdPxefE6FIb2ErSEsV4hcto8t0qqhTP9q7whwufRaO\n",
       "wfmC6TSSwbDcX1WfySdHaWpo4ZtVAisGZoq0trkyzmyolL62Qizo1gZL6/s71/Q/7lU26KmHvamG\n",
       "01CSRupzUJI3hUWcr283WGgyaPjjquyxpIIwJPI6mvZECQ1/Xdq7aBBkuoMYf1FUwaugDgO2bK6D\n",
       "nxTwq4ljo5/oTFeWSAfRoDx4pjI+2p+ZRx/OYlnLKZ/QuUcREKLvlQYHLv6lWEkNQSz00XObvNT2\n",
       "gWlPxhYc8lXQ9f6pGcSKB0pWvKnuDrshs3A6QQqcGIDN2ksvP+RJ8FcPT1m9p261w537J0x37IU4\n",
       "WTP0Bj76cciRt6Yvt9PIicLiTMwdV/NUBV3k1TS0uyPo/xFu8jZXnAqaJgSQ3i0nJAwQwSVlH2+c\n",
       "rtqDVbrGSi8MpEFlDVarnchvEnFWw7fZXiAJl6UHXFfBAAACPUGeeEUVLCv/AWzkzQLgpaz8jglL\n",
       "kANsK8es290QpAlPwICvFsMSn+BSZQsDnNHgFTONPLfzIBH7smjYwH0KT6ADor5CBp1VHPcfWqFh\n",
       "6xSoJSvqE/JIt8Qvn8ARQ7ari1hUTwxw/N4RorZS5uHFd4X6nxCSM2CGMCppHb8C9yE4sdBtWbDu\n",
       "Vb7Fn13upWRnsPHb6yyTN3OOEWmtzq4S2C2vPmG/Py+EV9Qtk9ZO28l3b+kfQ60IB7jNosdWUKBk\n",
       "gbQ9eWomAP0m+IJp0MyZMIxNPb+pXYNAy5sJwoaqnab4ap3u168ZMgtYquaRlH6KlZkxuPQy3E4u\n",
       "mIXbDf9CqJMAg2jkhUYoPmc1u9+whovVUca7amI5gazd+cDKLg19TTiarO47GxTEhVWlzGmDI9M+\n",
       "HrN/haW7rx9p9zQm9YSonCT8FeE40F14eQOGb3sfcq/YX3F73C4/Zv5waSVFi1iis22rz2Mtd0b5\n",
       "jgp1jai/gzyZ1F4+/hFUlbk23Byi3wGDdRBPs37VTlZ7DKldJadG7cau+taOoxUrrWJKcXfz7r6Y\n",
       "1fX2sCdvw7vpp83RJvFRHLDTQduS9PxLf9uVBZIHZgw05jqpIzbs1nqNhq8RVaFC9/QV3ZojjOl3\n",
       "/FL6DcVdzpGdoLnTd9tr3ttgpOBHNv2dzNEoWGZg2QYUajIDruBqy63T8cgMY+NhTM4YZwDU+hRr\n",
       "bwEwnscL4AvOOoTz2Kr8cLls4sIC6GAo0M1GzgRbkvK2+tOsGRe+sQAAAaMBnpd0Qn8AFZztc0oy\n",
       "2OiNN/wAVnRiT5cBr7l6amgR+Ak1j7sYONz0/M8UtYzI5maeWWEF6u0uRNlwF17iou7Vcg1uoULV\n",
       "09dm8iYs8TIm2/LLfxWkxpZT4DpgMC5+BlswXvK1PFm+yd7vWknksw6l62SE4Z/dQW/oaherr8TB\n",
       "v6V5FdrzbFkR748H3yUHRfGLet1jz3LwhxXLFryVfn0g456rhzdwJEWUuLv+3Wo6CDFF9j0D5/Nf\n",
       "Nq0h7ddKjOTAmu3UtdNTSsLRPbLPyq4KrO/c2qCm/RXQyGgspa7acpFOOms8x/Dy6KytVwTSDlM8\n",
       "qP1YyXSF5+wJ5LMVakOIiAFWSw3NrD5TT0SGb/jocLAhNtm/Q5TyPch3baXENqC3dYVY+5/IPdQ1\n",
       "KE1SJ9BcxDAZLwejwguP40Qeuu8d/Rb4Fyn6EGWO6FVGtE7T/wNnjWGsnegtOBV0JTj7IR93pSfL\n",
       "Z04W3CeId5/wsctNe40f0tgrhpzg5yAi1O8QdOdUJng2ySilJeFxUY0Du5E8oeluLlqQuVPRHtRW\n",
       "rzSdb2ddgAAAAZgBnplqQn8AFZ8x70qGcAEmwqaPUNJ8N++0j9oWSlvuyDG478NGAI7w5zxDCIan\n",
       "lHHykMDRzpwn0AEjpFW2mVNLdPYjCUeKN1FfMwFyeRrCgQEnLckVnVj5Ry8H4ha9RwMWvNg1mdoQ\n",
       "FS0V4ecC3ggCeORrsPFFQ9obHmOfr49bYvOv+cla5tlVfvb3bzdrQmgct2tsx5IPS2jMTq5NaWq1\n",
       "IawwVs+ssp+eUdoTlyxNslbsCWquBM2O/doxnP3hKFFJIUnpDI2MxANjaXLDR/ADEe9UiLAMOLZ/\n",
       "MuBMJ2y22WWUhVyfZP1/o8SJaZws2QnP6jBQYrb705s+Wd8pH7yFqzOjswBLlkTOZyAK/RWGOSg4\n",
       "1mqhIETiWh+rsO1kozuN1vKXrLPJjvoRG/HRb1HsaYCpM8WqNTToouJsoNjWRcRy1fd/OLviWeaE\n",
       "grJUaw/cq5wpUZJGM0o+nY+gK0R46zvOce6oV5cOT1l4gvTd4S/leptUznzl2rNPA53nVJ5EjxFL\n",
       "lmfv6Ebk+zcIdMl+zuhkOzUEpMEAAARQQZqeSahBbJlMCG///qeEABRwJOJAZvvM4pcMhoDHcYgX\n",
       "v7OxZZXcMya2NX2eY1sbJd7XQ/AAYl5JKoV2PRYSKmlSwyOo3bPROPQDiLtkgzMnnk98sT2Iowf5\n",
       "QImDjOhNLntjSCpIHY0KIL3ZcY8kd9tQdBwDdRbMugqqsWFeO6qXM2pq5zZysOAZzsGURK2hIKqs\n",
       "dnB+gsfCuhbkuvWlB0OXdEzjiC6NcsIYLOl3p/tCedpoWtdkf2cU8uyUtJ5RZpBA+YdzvGLd5zLF\n",
       "DL31yRGhfmfUI7wsgiVt13H55GqMDF0V0Lak+LCpWJ2HJmuTLb4UudAui9aEX2nAXix8OoX4gCaA\n",
       "qCbFQEN+U9gwtdrNMXGwrDhX3W1Nu+N7JZrNNlPiIHWud8uTU9hOQuCAIyseUyOE6d56U5ABxHsA\n",
       "p7ItkbkIlclcpfPxaJnMgJYaiEFPeD2BNaFYE+iunwXdD+iPrXQaDw48Hs78D97RSqtl6sut5vVS\n",
       "VbA/q2gAfscxwQjX40pLdB8r842lIzxxMTV1NQm0PFRwErgWN7jab/U4K5oVTGvU0ORgKok3VAHB\n",
       "4uiFbDk2hjRX2QuAv6M8T7aYZMnecMRURfR7SxkZO1Psz0L9XEOMf2ldcC0g31gD8Z5DpXwiK5BU\n",
       "UjKShPuovL0fW1briU708q/quwnPeqo8sbifADZ7QGF14R4gvba4Y4ZRZAmqaUTp1mL0SW6ec0Og\n",
       "83UyRvlrmmUDa8ld/HGp/R6qVi3vy5OkIDzSIqoJkmwzrQOeZzZwo5dyiH32eeVuCF8EdDnLg5sP\n",
       "R5gHGLE/eD3OU5n8Lz78MjvzF3P5pv4/cD1zDUonsTxI0o/3gCnN/dV1FeqqQI/n2DanQOcpBKDe\n",
       "G4+RPkvedEn/q/8SsP80UriONAXuXJ4x9qQt3wQeRTG547hj3PiLbhUcoIfzG+KfiMm3PF8uxQFy\n",
       "wbezLic7y9k6qZZkV0RhZIBVDiPuAbE+2kAYW8JGaT5WRSFkO9x4Yq4vlpgXbz8EFtGV1M6BGsCB\n",
       "qw2+mJ/YydB9hygzPtFx6vntTI5Be/tPKJUj287hYpbiKPitkun2gqVOHavwXQRfaFZqYWYut9q9\n",
       "0Sxm5EeMqE6krlVySe5TCWtzGzucWRmow/p5LVt8ExkGAcdpl4wa0LYugKes0uuI1xPk/Bw7rxw1\n",
       "+MSS7u+MIerY5lFs6uWgGzesPjaYjzar66CqestFxURsO+GRReNrzihNZANcuewsqLOdU1b2UAnJ\n",
       "LjYe5XZmfEAHi2Rv0BAwD7fsxmuoi4BxUCFvb8IS9/uoCeUN1m1MRWyQ1DqosqS8InAvMWpmSeA4\n",
       "QlQYUEfEE4VlPc4IKXJmt5hd7ak/gFEMD/69EZXRWJidvLKkFJO7FpDNZPlJzuNq3aOWaZh8+4pv\n",
       "Sbd39BY2FDqiBpf+IdHU4qROvdo69vikcwxaXXxn+2W/7j3LRztw4XosErZOAAAB/kGevEUVLCv/\n",
       "AWzkzQL1THk49TqqceQBEqJwA7ISrEW7jbAGLJ/oKEip5CuYbpO664ds24c7wvMbJc+0B0fmV58E\n",
       "oOhLnkiWIUOyCk04wqjy7MTXRApqlQXXPyc25PfCf6bSwzVZ25CvpifLvHncQ3BW5ehwVI2g9Qci\n",
       "XykML8Ei/SHVZAoXc/nGdG8eR7+kK1ixx6OrUEUgSpwaMEoGAwRbn44aD5Vr6MdPqq5E6sYWdo/+\n",
       "da9UshIwopnGshhIsQO4Qmjnd3erof5WTahlQuIN//h/3i7C5aRUkUNYOkfCF+h8MXb5IHIT3sQX\n",
       "fkoKNdgGoeNC4pX0KOQWlJccwE2pjPwzGln8E+dbilN9UiU89KdCN7MPfi0u11Wt87exZCgHSp/T\n",
       "aqaSjgwLyekxlJzFHvM8NpJgBLQfCFn5j5XJM98sx/vIa+8NDQfMsB4bBMTUWhPC1KlK6B6/sJ+O\n",
       "jKnAVBvwkdXf5iXmiLZpTyiqkvrdof+OEZqsxWBbLwDWiLDkJ0pZU5R/NQ0OmFk2YNpYTigiWu+I\n",
       "D2SET380H9yWsiojaQK7mtIK/wgPFnTQv3m8SlsaXrSisIbaBN6hicjB6U9wUan7klxINHWl8gw2\n",
       "h7dA6C1HM2/nszaYghWnZMfwJsLMx1cEn0ttFr3wDhri+sGIC0uVcpW9LmQzwQAAAVYBntt0Qn8A\n",
       "FVlZSbZ5P0AGqpfUrzwemS3eDRKhIbHx0uAIOZbO4X6VIHLs8p8eb46YVC+k1QQNUq8H7+7PAA9M\n",
       "3EFTqRe0YMZSu1ifaG9GGTdkETmIbvpudeAHy+0miHYsE56JMDbCPaGH618mJX+0q1U1h1BFsShh\n",
       "DhlWGUyMIfcoerflG2dW5BlSvWR2t9G2D5XJbWoxX/h7yXAYiZnGNGBW2ZBMjGRUNcsCDdRzNaK1\n",
       "wQHUs6ie8wAeHmRfvVrwuTDkkYiBl21TbTo0NsrN8mUlysCA2D95Fl8l1HzJA1dzx9LJ1G21kCo2\n",
       "OFg2X7XnHtZE2dPt+y+FQx2F35nj7JKfrqiT/YBwdtOWmhf9ymb+qm6GYzepFvJsGqM4q40BsWIw\n",
       "zXqNmWNE7kw1I6IdDtiXm1VfQalqgquhq/l6NbaFHH6aY5Rg5O+nXpybqTXm7OF2UkEAAAE5AZ7d\n",
       "akJ/ABVZWJFs+VN/kANHb1SP6MS/oXLWxUwngHxhTFaXHsoKivobONCYR89fG9uj9xQyR76XNt+s\n",
       "u06grOpRGGkmvTshTrOfjp/szbPQgt9Ul27DXmodkefw8EK2WAKrGBbfGETyu+6HYUKSh7IFD+NU\n",
       "/JOvqfsaQ2DOqkZ1Sau7y54jQcO4Ss3xceJ+AoSBxZZ3Kz6BY4WZXA2SZDjEZzOHgIksDWH7LwgU\n",
       "MezB2ZgeBTehRnlJeuB/xLtvC8x82cVR/EfmBJtoCFPckjlm4ZwnBsN7lTqGIu1CfaWOtI362yV3\n",
       "Y3lS8bZ2XoVuXjFEzELipLzfN8Rh/7o5T99Tm4UHJOdPqkMN42IChy+ukOJVWNG4+02ctCokBTfA\n",
       "0nzb8Jd9YEwelUxfqtKV79zoy5DC4NuvPgAAA9BBmsJJqEFsmUwIb//+p4QAFI5l17hbuCvOahh8\n",
       "3uzVKDIRNaUdPcgAf6P7ym5oaVb0nsWjGihXt2h/6//lrbb+w+kVBbpXVoEFcEzrBfxH2QB0ioiB\n",
       "1STG9h23r97vEfCL9gO+hl4hh+QetApal6/G32x3teQzQeWaIckjz3ia+9zoAkKImwMo+aUeO1Q9\n",
       "c75arUaLqJGVKwF0aFNr1GpGdqVfudoQ5xPkXVpwDpMbPgrGVcBNAGOFfgIFYUpCdgn1EyhFsB09\n",
       "o8KoNWGa2SQPIn+Y8Sau1ModADrUbNPc4rCILskuJab/+vrCIh138w1X+/aefuJQ82e8WIy/+R0A\n",
       "4RXFIcsry1eNwGdaQbBuX42EGDSI6ypxPigJMsGrhpcR3Q5m06/Eb4dBMT9uYDgNfpF5z2r5x/Tf\n",
       "6ew7D+XlWWbZ/27oAfkveQqJaDjC1Gy6llspSbKgr546WapJTBaX6fuzmfHBMg7Y+YbDVYRrvKHB\n",
       "xd2ZKXwj3R3Rk87KHG+A158NHqO/N//L0Pc1Jf2YVLRFMlbYmLFRJzSz5ijLh16Aw+/w+AKfBewM\n",
       "on6zWWP5W9fzgBxzOQMy7IP83FlvljNSDOAFdFuntkAO4pD1s9eMmeVvXW4LxVzz84gCRhWFN0MV\n",
       "ALhRtK+8UgeCveO7cGa6WOvCnGcPicevtmbNEnMgu0ENZZEXzffalHR2+KiqU5iVpU2gthhRonmE\n",
       "WlP2YvAsFqikb/Axjr7VX7dLdi+Wv39e6k0tiJk4MxJUozBdAt9hUinnZri6eSW22uM17N3GibgJ\n",
       "OsK1zxPqcpNMPt2fkCmXC1Ywdz3ltN4+p0WtI6YhcFDCsc1tJxZ1Y+pH0ydFSkHWq38vNBgeOU9G\n",
       "a5hqDN9mWVc4A6ZUYZzKRkOuMNRz1ffMlcVCfTez1wQwuQATLuQesUqC/DnkSmuPKoqBqiOVii4c\n",
       "mREBsy5mhAmP7PJxSzQlB9uYu4EmWznMuN34Alw0wmjnvjbUI5ajyic1kooccMnJY8MpfIzZQRZJ\n",
       "SD23/rSYrngOXvEC5BdFyPNYopufChha5tJp/f3NQKpT3PzBvueJo9vWFBGss4Dgu7Sw8jarpPtO\n",
       "8jcv8llsyRIsKfo5P8sV/yWFa40m7w2+kwdIMcE8tbmstmqGt/oE/d6v6SmhkaCXwKl0///8XGFm\n",
       "xDoQPKcYM0Rk/jh//TQ+6EGqviEczKQ93+92RbHG3Kk8KJSFZSQZrsa4T5aAvdByr7azkdRWfrAD\n",
       "A3F352i5gRNS9xnZxdbDtcEVx+3/cjnI0BBwhnUEHcwucg6AAAAB40Ge4EUVLCv/AWzkzQKlugUZ\n",
       "5CBJlq+yFA6oCP9P9QgBaE1FhZTu2uHlaJgY3WKDlEXxTE6i6u5PRYce2K9yigWQrzjV7um0jpRO\n",
       "SDejo5Lpe673KzTq5E0HW4NnzbihxFnGYe4eQXbDlSIwdaYpQvfx4RjEhtwOqj4efE2YgdJ8Gi7o\n",
       "V9wfZ7BD93lCyzBnFBqbQM8DxHOfATYuOUKlPSHeWWZPeaizm+igdhe+c9MLTJ+c1IlfBTZXltFE\n",
       "1sXfkLSpujFhaIQSGOmU8K8B7uHPtlAVvyMoehhnzXXkqo8O/hTqrgInSYHvZIOB3w6CdRM7yZ2z\n",
       "T19SX111TXVVrzPGdOI0BlG0ktjgDv5oPo4gDW8BXaEyXPqxpG8Fq03T4+xbAvQEEMQgRdBXbMJH\n",
       "xDOtl8l4vc0lO7DfFnOAtWiq1MDJ2+wHy/8/gpZTXgAHoJ+U+FTP/pbMo37NbWFWyhpXisuR/tfV\n",
       "eeCh7NbAabkxu3wCIzWpQHCUqJ3bb+Y07aqs5A5y8MxKe/NYFF0HtsBR9mvKfipMbZTML181pGdj\n",
       "aIthymPX5Icu1g/UIczu7G4bRlvwBMZ4ELKRAsDa9ZzM7/UemnRoj0Z9SZkjOWYYdbp3DXGWsdI/\n",
       "YjTv3Gkv8QvlQQAAAVQBnx90Qn8AFZX4PlujromIiDnSC74ptfFfgArryUextD8PQOMc4niqS3a9\n",
       "zjtTRmg81rTw0rX3DtwFZPAEDxwmxMg1A7SkosgCSrrA1VCPckuTICQEuAISv3xf8I62DU/PWZMP\n",
       "0TKUdWpQzIk7rUDmuVz9vwO/srzE4nZ/QM3DXTJKwpleru4lEDiqfZ+ljYvh9/wQKjFIwFblldb/\n",
       "43eD6Bkt5GJ/wt4guv4SzJg7k7abJByfr9HHnBzYjQo3kAB5JxZinepG/GHecHdAE+C1NUEO4LpR\n",
       "0vdp6TNfpOfw+9s/F3Bt3CWXAMPvR3fMiWCkYMagy+ztp8qSYELnJDbDSTvGgaVQBdudlJIHHvt/\n",
       "m4vJ1avhhjYe5Ke11STHKV2pTyTdKX8pusmXoYk3OpM7CfXh6gpMdskNmZz4GBRUwTGJbJf/0JyF\n",
       "l70c+iWQD6OIzKl2AAABhgGfAWpCfwAVnNu1OUEYSnC5EAHFmlq+r1+ylnMYy8Gxp73X7ZWu1PkL\n",
       "q3DU+C8ONkZh1QaNmkkHuolV6y/XU/K/2s7JFVOZUwIu82/NtMrp8CThVopmAG+3/LXm6fme4jcC\n",
       "CvISCCbII3WVGdSKNsQi9ZfpDZBwbI6MhMh/vvXBwZvtKfmmfOQCV2mviDleA1p+W+clxbRNHuLA\n",
       "dwpJZ9sbWzBFMGZxLjIqmrcSlQMV6LNGxNGc0OATn4AXZnVKhzXymiQl6jMKi3CvM+E1UESJjenH\n",
       "6F9YEAjp2uxDrn7heOoRGCxerd6PhaGMcE8s6/oJmtQ0X6A7DspSPY688qSOj+idxGBc9dM0TESx\n",
       "l6YKe2ZXP8ETalmrNpFiRL/OQvmZu7eJgklawzs7qE1igf/Upe6MB8se8bIp+gnmAgt/LfFutoRn\n",
       "KnH6FIyNC+OqhkDFwW12w6fjkMLQ3hHZP9k86jPVz4w75xVFhHL3Fvj2EMe8ZrbIiduinYpRdYTC\n",
       "EavQDUSQiQAABEJBmwZJqEFsmUwIb//+p4QAE/24evOe5WmYAC6hQTnkuzidP7pGchpYMVwbmilL\n",
       "+L/3G6U0E8l6bfRPuPg6Ii9Tr9EwRqsWC955rfqRX22csqDYGpqpI27FcqdFXZNYGpSXCxJhPWVQ\n",
       "l3z6K3Px7/IsJnqfqmHsI64vF85atpqlpkq1coByLmjzCO0XlggkZYYgKzIhsc0V0jpGBcW1rpXP\n",
       "D1HhxBwi9x0DN6o3frReU7QKNImUKv+vUd35CS8HDNVuLskPWn83EKXfZbzhbrpGN7Dl3kHWxq0G\n",
       "xOnGBmWBnDIWlFm2zSBHSrmIxndfkmzf2E+19HqT+k0TptPnXL9G78b/bBVSB3zkl5E5sVtX2PP2\n",
       "kNiaZvckxw2BaR4rPOQ2k+XvwT+Lf0cGgXSpJs8Zrwn3TTMlCHnTixa/bycTfeBOMlVywel7lgM4\n",
       "jiF7pzJcSRxAG2jG20qVcjYzh4hl3QkX4in5Sf7lOocaqUmnDDDLWixhskbog+PoX5mVHYCFGb+S\n",
       "RSIkrZRP37gc0SnHWuofEXceM/7lhk3+WYhHI9qjj1Vp2gU1thdCyg05uu0WGgsDgLNy2xXO2gJz\n",
       "f9i4drzhDe/c4xwl+fqbvBadWLWN1qSABlHY1W52F4lx0kpAuEHvAgUaDRs3Jd+NNN2VQaaVZ+7I\n",
       "+bCJJkrbcA9IKTvdpoq2Z4K8Wd/xc/XhsH1WCKME5zVmAJWqGQtVv1XNU48jOWBdN7XQm+50Xevt\n",
       "oqIcXJWYqZdqxgrwn1f+B6vu1JOe0mkRjctBVJ0AOH14rQLmgLRLyB402KqmtwmhRLhVSb4k7NDN\n",
       "Ka68r3ChPG+fnXKajAVu0O6kF8urEgwfF1Mr+4kUcPwQRzV2ZZg7qgYSUp0IZc+AgN6yqFlB/IHI\n",
       "HTr2S5h0/FQEyELug/F9GjAjInSJPoFtQ3i35zHwgVAqwVKJyk4QZyBQNK4fU1X8HgLGNWaJ+ZeA\n",
       "no2QLErd2ojnTrbRwePDH72WgBT88aJ+ZGx8nmfHmVKHTPEjK8v80dvHt8CFqzR6tFm09e0I0JvZ\n",
       "Mt85Fg4lm3y/svGiNHfigWl0UE5CZiTkIaPVtJ2hMiMXm6GXSB9g0xUgyce5JNnzqNAPOMzYfr/0\n",
       "xGhVyQqJ3//BK5JqE89D2Lc+mt2eP5oSxvF/mY01LDGDxvYmPAqRvjt/oTiqPSNeT/W1UW5TqLOv\n",
       "tvCevvdm821Y6Xc381IYVedppGRvTo5hdLDQ6TV4JmNP9iIts3sek929OOHktxpMxK/0vg+CP0/r\n",
       "1w/XN6TtrE8RK63Nrolb2x7yx5fcfeC0FMGIsy+ps/VcBCe6lRpYH/8OFm9gkhTRwvf8qCRxwMsF\n",
       "QczkoePVBTKVxWUjJyaVQJnIYR1PCb+XmUBhYp48HNebdwRTQLzVH5WwRIfW6fOIBuo1QknF5vFq\n",
       "QJnovo1c6ANPgsIPK4eRP4TAAAACPUGfJEUVLCv/AWzkzP1GVWAxc4AWgV49zEBrk8Z/xi+ksn1G\n",
       "aipOXsUTF6Qs0HsaecrTbMvinkwbvcHkDuDKnVbFPs7a2pVE8HAPYBve840m1wsSYNpYJ48FKqYh\n",
       "UvQP/n50gjSdqPezCSgzmSlFUA/3NpiMkAf8NkGChGMpR9BikcRIsC7dSc7ds1db4xL8ZSbH9S8N\n",
       "pxP4f4lunaz2D9FCex1nrcBmTEzxmRB34Y00hWWUAqE6FaiVB2qhxcTc3yPllaGDURg8Y1ruAIG6\n",
       "GjAD+8VyqAAqE/H20mCEy3hnd6gKrFaxeCfEKHt7o2X8ZMuzrx8SZZNZcI3XjwPspwgXZDALhjFO\n",
       "LfXgzzOVG84S7SvqqKlcGuYhlNF1jyP+i3G6cB1FAia6pxq1CmsegyJwW0ULeJx+cHGMmq30PSMi\n",
       "N6Czn1bVJzfdANt3L7CbVMbeDsjcyJQXoI27DlBDxKBKmGdqxjjG2GBCSnJ+zDMaDwquUnFHwzFx\n",
       "m7aL6AjwkUS/8QT49thdS9Ijw8G9pmGqPSJICI2CHckxjlcFBmK8Hj2d9wF0e2dX+X1nDkCyWIvZ\n",
       "L0i5Y3xjPCwVT/cXleCdEONtDiyeZOwzLXRTOqjpCDjSEaQMhq8Mk34onPc8V8j1yC/fcsicdMTC\n",
       "e0h9LCvy2pmHXf09tRM6///+LdLaWsn/u+JxQp8j57k/IwHvmJv2yXv0V6Ey/BskZlQSVt77B5xm\n",
       "BxgfHbTwBP66ZA01hkzG0OQ1vzIwXXmyOwAAAbIBn0N0Qn8AFLHzQsgGE4AUhSL8oCMADehLpk1S\n",
       "Vb8SGMrgLSKUH0Qg/4TNaWzOXqhQTwtyKOK2MrMflKP7FzwjromXmiroGVBc7+lYFPxkO0wkngh7\n",
       "icSecZ1ztGkKcCsK3gEdu/H15UYlTQsEhiZLzZrfrWl03EQvI/vgVB+1cDlO/ECYmDK21fmOcnZD\n",
       "oiVA8cnMhhSgPlP5m2+tuapU0XfGun9euS0arxFFFEsvrF/cfRpHgd0jRNfMO2sPyWH/PNtfOrLC\n",
       "ATMars/XrbTnt7W9qeKU39shMoJX2aG4xjLMeryEIlPxZzQb2u/pnwIlrEXRaf/Nil2/NY13OhBs\n",
       "UWQAfralc8vSIRbEdt/F0MK1d9ZUr0WzZfJBrHHLxyRA0fndc5QDk62lxZZw3ubjuepL6DBV40N5\n",
       "H0fT9/Jk7LkZ6I20548LKWcAWGcscNNNJtlTbG1U/2Tf7Ta6D773JN+yQ1lopNn7Aq47rTunWpPO\n",
       "ozTp3d3oKZhdrq+41K6rVrW2g5UVK2VwU+hTKYJvD4A2L95CQZknmhkTAPff6B+3JxDQTNTBTp9f\n",
       "b3TZCKxP5QAAAWkBn0VqQn8AFNJVcXOYAKT2z+vADQZrc+x5arPJSC3psfThUsc9PwtaVu5OlJz1\n",
       "9b2JP2DcNp8SY/qBLEsbcFbeVMztDAu9nwlABoQvM7+gu90JGj9r28aeeT05HkjEoV8iQZu6Ek3G\n",
       "gLSDCiMVVis3K4LsWAl7TcOhcP3dxrbrknBWx9b38VGyXSU+o2fLu8lQBZl+sUIqCOSbNN2RpRkm\n",
       "P4lkpMDYNy+B2GXb/qOdB3sorNxDvF+RSs0FOb8zb1c0I1eqnWMLOwaE7whwh+kUe8vvqY/Rlues\n",
       "nfR97/EnC1yqQlKSlToRMw9Xvw5/7GWGLCnYjM8JZOSe87bBvYTwi1lxCc8wqJdJZU2bG/LFFxRR\n",
       "eKpQnwe/tWWWC4DOw7p/0E60iCipeATxW/v82lSZIIL4WnuXFdBRER1POFSCn0TJ9NzzgtswbfXv\n",
       "cyT1l+mApBwkDNOGBpVhJBw4H95+eB77Aw/8bQXBAAAD/UGbSkmoQWyZTAhv//6nhAAT/bjKT/P5\n",
       "m+AGvOkCeIzGtX2oaV3iogUDYMjUYJI5BolIEMWg+wZiDmqyrx5AXmEiB1z2LcTBXk9CFpYXsr21\n",
       "+Ruu1eB0tx7GrTtNk6bh1Yh/YNjj3vzUaoa1D1LrY88sOI5inxN2h1rnOcAjQYyXTjvkfCOqkVFD\n",
       "NbHysTI5vGbYT6PlZf0ptEWG2Jvegit3AkIm5vQCf0OO7MnMyWT/4DF5/SXiKFHpDgDe2E6O8j+p\n",
       "zigDHbMaEjcRkiyI0PU1OwRc1AQAQ/pst+bsXhnJ4QwehU0l8kmnUlo48wxVzRMTKDqPVzKDPvI1\n",
       "p3/sZoD6YzAu9K+FkSD1LWw8p/gdb3mHsyo+GCjI4CHEWqy5J20f9TBiCGnpOeJQI83dEfOL9/CW\n",
       "O6OXhWoSde3WsqI9sKZMFzhk3XxF7k8H+nc8oWwbFZhcOm4owQI0zafyx6A+rZLn5tnK6K6V9a5A\n",
       "vFcn3B4LBEpWjhb8sqOlNHX+/CBrgwdtgtbwH/Pfe4Bb7OOWVEs0AFfdxISNviQrJxwywjEMO+9S\n",
       "PSMNF2dGgdHb4WhKRIFn+RlMN6XWUJz+EPdLlOSkklgKNVuYOXIKWOTt3ErLkjGHh3tiryFH21Qs\n",
       "YjiJwP6MW2r7+EogVW6TpHGGSGjdWjP2aJjzbOYrk913Y7SQZBNk9JdQzfuPGYhkfQ/E3bXeAu8c\n",
       "ARPmGs8uhP2DxgOyEGbCpzYC8aMEdUxB/obQrlVApdB7X75bR1dgSoV5eLsgzpS670lOIBrJFa4Z\n",
       "f0Dip3bQhyLqaZTxv3nY4b+c+eBsl8aArdVU4hRF/RasbOh+Wa2byxYS2gRe3IQ4QYty+5h/rFzE\n",
       "HdLfBJlaJXzGqEnmX+GIVT2hNVZOP0JjsZJPHApV3hZo7P0FfR+lZVRENmnsMVy3bDw0/iIjIfZZ\n",
       "VY8gjTz8lUh0D7y4nHuwCXUuHXdCHCoH+yMknIOT8hDj8tlg2PIlsXZDAVvqHSHFUhW0tHzx1lcE\n",
       "E6Aub98Aom/sYYyk1Sr56jjI2+u9GNs5dqTu2vvEa5NrXN5LJOQ7MkBr7vE45mspKDse/JvG50LC\n",
       "+E49vTGSMiO14iBXhEL9KB6NlKkhkr/wR/Doab14dJ0A+o1lf/u6OYq1c+4/+nL22HvMxoys7/sp\n",
       "5bUnkLJkgJP1q9oavsFHjNv3Jo+QKcqnHzmXvJmXDesq0LVWaGmtjtQVU2Qaj0133pNyGtm7c5gM\n",
       "G4Lo7CHZGmaOPfiPabcvPXm5VYPCgopzHj4bEd0miwXtJWE2KY0PDhnV1QtI8lgBMKmb3DmE9M20\n",
       "OKmZvW79gxYIpFcpJ5wjI6B+ogEFebQ1yT8vWD0AAAH8QZ9oRRUsK/8BbOTNhWinj/KUJzsP2pbm\n",
       "QAqRUtwKbpeJP5ED5YW1ixEVomXrPweQL4h19cjWXR5DZ64FBxEFhlAEiR3KOI7xCddayFCtedRI\n",
       "GxIWU84tSkygQB/f5XpDuB2Y331KTD5tozc/qHn+QVzaXl3DnXaLAFs8MvfLean1MpuvKcbC9vTw\n",
       "Hhg8iuJB7i+yWojhPgq5QY8EmIcdyDq85H6Ee+Le8jgr7kpeyYf6q5FGxoaayPNhJ2cVqmFXcgVi\n",
       "5X3pNpai8yoe7XUIlbDlygqCCrXaeoRJqm/ajVNvGJGGQZXrh051B0oevIS01ne57BX+wFMubYOD\n",
       "X/P8CbWHGOJ5eDmNTYUu2Z2j6I5YhY9n48i8WhJhR+kR+GDtSofKzw/lqdsDeLRSdS16cl2VQLZN\n",
       "yAcHEXd81Zy8YfP2lsr3/fUYjcFfWgMXGFGFDFDQoWS3GCz0p8HqqpMxrlpLPYj4vs2alD/xUmq3\n",
       "8Yj4JArb01GLBfjJ7b7wgi9poMJDceKyQRdJOkltkFeBVzpGuYpMT0RWz1G4wCesJFRKCk5/pIqa\n",
       "Ci2/qGQwxTy1trXWZ9j3OvUpHv31BrrtneDNLMDjS9yc13v89A1+iyUjTnnxkXkn20ro12PDDQka\n",
       "HacWxczks+NP6r3yAe0c1KBZEbsnaFkrJeRHnAAAAXUBn4d0Qn8AKPFt+IeqW4ND9siABVWfgOYN\n",
       "fVvK9a7MwtEzxp5fvBg85gGRkZiqtPe74RENavIqGl7YDgs7dVsR8ch5S74xAJBev27Khu7jLjXL\n",
       "gz4fOn2BOAcyWRFN4tGIPWzOJ62r7lR+YKZljbLQWpS7KfnFr77QhMjjZCPf0KpYc6/mBhSdL85E\n",
       "tuPGgNQxr/JsP7uO2tfoS88knekqcfWaa5RI3DrnSTkp+Vmukk0+qByOrWmUuCPeyWRMKWwtkgZd\n",
       "UWVLdNp7eJnmsGfJpR17ZzpwsFbqfVgg6rjfQbCsgrm9hKn6vo9oryx0wUF/s1P6VYFiMXTUMEZx\n",
       "TdKEgp/yj5oV15SyA3tCMa5USwBemQCDGH4OR2eEC4L7MNMnSd0k/jPLaeItUNmLEXUWF8hAsQaC\n",
       "2U2JIlYLvY1WFWq4l7Jchf/SY/FZ0+vtpfZh5U9T5iyEOh2mmjgkbmtAyWUxq4tXc64p2iZYiOA7\n",
       "6sAFVvJAAAABNAGfiWpCfwAU41Kf3fwxs93086hQ+1+uBSVwh33YgxkADwsfOv33A4sDWDDWldqZ\n",
       "3hWVAbR6BMSGUOSaYR+tyfKcYZWXi3xtbZBaDSfEYz4Q/t3BPdFbGoOusQkVJriLKI0xCAnrs9qV\n",
       "YdBWZsylkLSWfdEmoydZMcy8o09tx/1VNp+m82ai6+392hGhGYQf4t3ElQs6KApSU6dp9gQYWcoV\n",
       "Nse9mDUqkbXYZrw4gkhacoNT1cCz1p4KxvWseqFFygn2hWajxNgnOw6SQU2juzkurfLTqsInpeQC\n",
       "hc74LGWsJ4Zapr8EzgQS1T2ovETtJcrXkc46VtmR2nxoz08XTAlcWB27RknQfGxYQJt/BFQArv7y\n",
       "dR7WQ5huyTwn4wZ4shfpULBEAjUypAF8WfzN7vhsk4PBAAAEfUGbjkmoQWyZTAhv//6nhAAT9ndE\n",
       "hkgA0BBDS1Cm7SZepW6mDe65ykS6gKjC4kx8+e6f8nxlqN5CKyYIKIHfYikdD/laoYgiptg7Ac84\n",
       "oq2brDDjb5lfozh9Yxr26Yz3caaes3MIYB8MjzvdTS0sf5a/KD255rlJPpi8Cn023nCWmndRWZgp\n",
       "knpLdivseSWiLFmtlO7fDeSkIf989EUQrIlm830U2lgmuUokLSScFZeud6y2W5Y9Qpi25uL5E2LL\n",
       "eyRdPSX8u/I+5EtX6GB62UhivatE772+m/W/n6L/G/UesM0Zn7050XoiIUihDMrAvknF8Kxr3dMM\n",
       "WgxG4zj78ShtgKniQh6ThklzsdfX3RBy4GnQ+fwvirTIiOZL8wctFth9dIbHhvA3rmsdPecFzhTe\n",
       "BZK9D8TtEZmzhCIkLPM3EG/DA+kqO23u/0FvSVK7TXrYG5ZBd6dSgvZlaDceTj5zPisj8gjbrz9U\n",
       "gHH4SkRj4UExkgSOm1IO6U75aYxTshXg5NTiPbmvhd5VPv3sQ1YcGOHxA92pOFjl2WXNri/N9FQs\n",
       "fV7XXt9MLlOB6DNntWC0zdtBN2FLwjmuRBjEHZ7k8FHZ0Um5bRy+M0njJH+mNfDYW5wuF1YZPC13\n",
       "tDQzus/m90XONo9LgBLkHoLh3m0B9hsY7zGex2PfFTvoczkHTSpN3+aScRfm/kdl6kmPYhNI+ad9\n",
       "7vtrtXOSULDKA8jM0TJ7Uw4Y+WNLmAZoYlg3nbexRBVhRBDEOneJLV2Bw/SlR/5epgtK+YfFmSg9\n",
       "x6k0xkcXAaHDznKkXsKrDS7ievC0bVB7+H9p1O+sLAANn8q+wSFzPPcCa6ZAtK4kfokb0/w0DRZr\n",
       "h160V+KZuyy+89k5FLDzeY5QuHqZlda0fSrkywOVLbIUNucm9nL+9siSioS6FB3YCj+DgJAnYGty\n",
       "w1OlO72tkZeXL9jHjKKnB/5xcZ7+rJliG13G7g9MyVPYb8+KEgdney6WtH65CXULEw+dm5njFurV\n",
       "J3gZ9Y60nN01QQQ4Ch8IBnLl/1r00rMW5+fZzp9JkhOkoLX9fqKbbKYeJsw1Sxwp2A7jEuXck7fH\n",
       "F7WKuJQjW40C41dwqDldYQaukD7ahqY7UFdp3kAiEIGH7ywuRxlXPbhnU0JQlEX83eN2NjwCm/lb\n",
       "4tG7lhcjsd1FDYxC1mhbua38h4gYSljXwO15W1xHMDT15rKqCWZGcbMwP8epcwVvDI11y43r5OM7\n",
       "4pl2w/JpX0zMqBK6Vq3BOdXvv1ARQkjZOOidvIq/PXKfh19IHDahGCes0C9OZe+rYSf10NxAd6Ck\n",
       "oLc5bqJ1Fi+MqEdn1HsxxJ35+h0Zi8vN76aF64/QuhDouxc7z/hh4/g75e1VUk/rjf56E3RDV87n\n",
       "6iI9IsQ4LgPQdOFHjemtFCVs8Euek4GaznRoeIuIFOS5DN9adFInp200Q128bQ1gioXZUqp79oou\n",
       "f6q7Irb8kn3ST57baw/YTvi69Wjf2Ec4QEFp6ZMqeXTBYnMdhMiKsH8z0g7sSAAAAhBBn6xFFSwr\n",
       "/wFs5Mz+dFB/AgBEMK2bsha8HbRRaSP7/rGqskSBx78MzzcfO6axzwKx9o+smDr0AJ1+sY3ImEcT\n",
       "QzHSMAwDfgsUdZKl1G8R2AH++L3mu+LOSDsFt4K24uYzrE6/xQQuFRbtvkHECIaOEV08M5JBkBIL\n",
       "cjzrh3oZDVXy6ja5E9zgkMatwfRQvYxcOQA6zxjoaU9aBlxGgCxkQ+tcBnEqS7vDD3t1J0Y3RAHJ\n",
       "w2aDXzVd0AaqldORYvGpMuft9TEOEFdSIbybSlLQ3YBcBtBRBhKsrDv/PvSsyddXofbhiTDHTrOK\n",
       "fL/HjktpB3hrqh9YMKxGI9RUpsaTbVDz2TmUeA0NXUBA9Y85BlhZWG3kw02J/pVnQVnxB8G+6Epg\n",
       "umlJLVIdpKZ0FlpuhpEK5u10/YU3bYihArqE8BqONTFXBaSBD0/Vinsy0+QNnOUl0VTowi8Gmx/u\n",
       "pQuo3Ro2VnOcIJ0a+gPugxezFOpp2ombsRqTzeAKcITWrkHyjAe0kM1AR5MmoW8aNBb+7HoRl9fb\n",
       "/4NYhZpExxwOukGm4L1grN5fwdSANobTpsjKequx1Fs/ey7DHk7xWFHzEIFIDurD3IZpLdJlreg9\n",
       "1uCHlC9Dd1vythCjsW1FrYr3OZzAmfVQtnaPrDEKJZKH0IVfClJatYSWoXpfsJ5T/WifSEPJR6kQ\n",
       "GwDNE3GNx4UAAAFMAZ/LdEJ/ACj6eVpYgwJMlkx5e9706++9toAQpOdu6V/UdH5cD6Eq5jkMJhjN\n",
       "VL3jM3AFxu3sdogzTRn22f7QaUtnU11e8KwMMuHyFClJ9x+zTg+mjLsusj/KxeBasS07OLKbkiQi\n",
       "CQpG4KiECxG2GUCmGC/+7Li4cfF9TeNU/O9YFUOx37hTcDsHkuvC2l6yT3Q/3ewWAjdxinYo2y7p\n",
       "6ZdnxNuPN916Vovyj86hasWwtBYblaysq+0tPoOuyDOVFiF26fc4u9Sc7Na2buYnb8+DzqLHByC/\n",
       "J+yLpS6dCm7axOwtDLUZ5Glu6nmDaYzCCXcY7RVD29DuZ2wsaNuN9nc2yTzXL5IFvclElQILNRG5\n",
       "EFdWPjmlZa8AsUyYq+94NNv95Tls5WZ2+7Yk7ZIkF4/r4wvSh7L0rtYV7/cKLSFqXwxLeho+zQoN\n",
       "GYEAAAE0AZ/NakJ/ACjs2E7c6lZU4j4wJy0U0ohdSbfctU3/TeAB+H6XAXszRH0cSsc+rwXTHFzu\n",
       "pEWFeIOq8Ee8UQbYpqprYHlbxn8arSwLwf4Pip3ESPFjYueZuktPawRxcFFWPJqjCOxgOY08cuvU\n",
       "3yI6OL5dk3Q1Ednrh6yKdP5LTnuS+r6dhDOJf6T3Ri0T8GkAc7PQAIvtemXkLyajn9YJrcWMFbGQ\n",
       "unAb0ixcEAftt7XIB56fC5JQ2r9Ufxj9M92YrkJZenAh1+ccfOMuAuPErW3syVdIeycjTBHo3sJM\n",
       "u49dfdQMr73OJWiYYRt3QSvJnWNrq3aR+VXK5WBNOAfQqQE1QkVYbYpZj+1j7o46ak/doEgciuPq\n",
       "5vYMscUpfbZzZ93nws0MXgsS3IxZGBwI0B7mUVEAAAREQZvSSahBbJlMCG///qeEABP9sQ8CVwAB\n",
       "sgBu0DboF+Vh5Bri/D18wAe4c/wGJ2W9Jq4JYgyWbOBe2ULS6hp5QS70EOwQgKCTNMLhIJ7kPE8B\n",
       "ZA4M8xuMeqnUvVhr90c/mwyBErBY+Z7MgF7kyUshUeodet63mgrFH+CX5v0o7ZvE7UZrGT97FXuO\n",
       "PCHn7nr82/XX7UE1LjE9aKiLJF416nQy9Cxrp/6xnwpYnzgT++FiyLTcwS6DQdhSjH86UeY18vfe\n",
       "IsI2ePgcJvkG1RIwFSp4viVe1oa3hDB8Go7MTG7OU88nmQfzmfdi/cm0mapAWu4TcE1olQ7Iea+1\n",
       "r3/NjcwP17gld5pxM+JLBDg3g1OGcpCZM0sDOS74fMgWBp4PCZQ1co0OXHYa7x/AG63BKNpruePw\n",
       "VR3ETq8MxBJKYTeEh1A5L8Bcg2JftsuB7OKUu6Zo5RiRGn7MQxKpJLu/hUOu/YX0xfqlY2um9iXg\n",
       "E1UMGFUbYalpGuHcb3fBx5uaiEQQRuIZbfSLM6AgidUtEl9sGpqY3EP6HY7WEUZlFLwf94Ip90ZH\n",
       "4I+czhytXx+Wcqra8u4iD9BgQdvTOshznBeZbTEU8bu6Wr5QiZo5YLbBHlyQ/ttuEUbWJywqqJZ5\n",
       "wqsbsP1fQIWrF5m+wDGj0wcCMcxN0hLt0Nf3DY7J8Y/RLDeubeLpOL4A5QpEHGGLgRMuq/6jAuA/\n",
       "/aTvT2UsLnSUxe5p+w1vLWhgUpKhgk/wexkiwZ9iBdeh7z3BTL7fF0day9Cwr3lNrZ37ZWTXsGk6\n",
       "jLsYrnv0dKxeMsUAhxjiKrZfsOFlPYTAH4PWqC4py0QAt5+nY6kiosfgQED/+3CZNassW/KXG3b4\n",
       "1hoaBlZS3NEfVHN1mI6SMP3FaI4G3JBZThHafqNBn9kXSj/PdIuL51U4T1goc/UNsNiUyVo5TeCb\n",
       "BplUDP8RLMEw8un2gtSZudupsHIodBnlTh/Y0RmqUJYVOv2inHUU426jH0QMfm00/ceNg0nY0uUZ\n",
       "wFMwWHVpaMxUYN+Z6xcMZQhEw9p69d+khOSCoDu+et+7gulfkdmO18ggR+LYXUmFmcCqaXl2NwNe\n",
       "U0yI2Gknv/7CnXefZkEmQriyMDmgNJdf0q7QEbFp20HhQ3iIobGtgjS/BjjlIiB8JHZST2fOqAz0\n",
       "+stXt3alB/p4vSNENtEaLIBBDLPhPJB5w5CRyi4/CBthy8rh/ShV/ih0LgsaVZL9i0O+5BYpGVND\n",
       "7KWrlcN7udlZe7s9JH7rANhXZBvtKQQ8TvQ9sGT5AfJIPwc8hpHbdZuD59e/4D8UTd7mKzCMtUTE\n",
       "fny1m6gatguPRUeLSvQFvuMf+LaHgIq+gYW3cs07Utn+bMW3PVpo4hmTFRkQNBO9TrZ5nHyBLCWr\n",
       "YbcvX8LE0ssICeKvQ5cshtHG4Brk+U5PiOsCAow7uS5A41HqibW5FZWdAAACcEGf8EUVLCv/AWzk\n",
       "zP1Gr68ALRTfACReSFD6L/04nHeNilM2Clr4ZQ0i6eTSEDQXSmsMH2klatSVW63PRPI/Sw/38Aiv\n",
       "AM1AmXr9p5+6S2+j/LYtDwHMnuQrGqJuh3yBOamAYilK6838hN9VaugYJl8MQ9S6nuIKzTCshqvh\n",
       "72qkfYOlz6lHP/fAs3jgXEktD3EKs4eegHkFEYqyFYwljynrplqtyUvEiL1Mkd+fW4TRuntxcUMk\n",
       "sOq+3U433xl2TajF8fiIzhbIEytppxaHENugIIBJdZrqSR3YpKB4RGhmO/mgSV6HiH5/MAt49r/V\n",
       "OM58L/r5HD4hTrtf/vE41P7TEj3t+X8e1xdA+tK3OB8YWYhXsrW+FVOFc634VMzWBTw7IWwrreZi\n",
       "Fj3zpfgMtwIJspALogUN40zUj72MVWoi0PifBinsDta5SDnqiu7DOuuSu1vwQCBNgh+MLuMMVJxc\n",
       "mtl0rfN6P3Uf2tHl7bkvjtvzqjsIL5WvnE7XS0hRFxlKtCWvEKRVB+DJS3rySF3sJCsH5MxCP3lF\n",
       "uxp5vLLi2qw+xAliuRocLK+fyIGXzw7jSJKu7MFMFHgbpWxt2HlIQkwgZdr+oE1S01UOA1RQ0wEY\n",
       "QYm3JlzGl5fMEmLHtbwrH0nn5XfqBws/5pj+TZW93mgB8FJp9SDdU3QVOpuewmWUplDYxre1YRES\n",
       "zVOMhfA9bRt7LfwdJ/gFPncHxbIn60pE2lWWUvWoZcRCQlKorMix6N5F6AoMkfLYMZljufmRKx72\n",
       "TpjMiT0bumkszcFbRBSJWQcTavzFvmxD39Zz43KanAvB41E1JnWDejn54AAAAX4Bng90Qn8AFi1S\n",
       "dqeodJLcAFc6nFsrDwg01dfKTpVEa+cOGHAp+CejUsV8rqPc3NlJSxmFqcdtnLZoVX/JKJAtBIXm\n",
       "tuMC2qOipYiZakCEqWrH4yT/ZAk3oKC1ONp0QVWLYqEQaA9QJxJXv+LHgsLWrCwHiwtD64OfP0M5\n",
       "RGdMFleBqV3Q1Bijl8TTONNnrCfnYn55e6cSHLD5nOAritI9d7mk3ZlpqMNPjTK0IUsAFG152GeA\n",
       "g2hqRctmHOMNChQCPl00F81kBcOtC2X4f4GPBvpo3sgC2N41LYmbWpwDjUveKCnrXLnM+My1r8B5\n",
       "ZILgj1oEueGnFar6+rvuIaHTGUQztdVK5Nz5LoYeqZy1ZiyQvemJbrmoiYEN8t+u4xdQXmnFDx8p\n",
       "rB0xMdJeCefAxyyZymtod/RyqHR/Sg54EfgqIUgGmMoe5iz+/O6ClbNylcvbuwguSHtbJxIjhghB\n",
       "cGXA1IMnVPgAPZRnUAKjvir7L3IvpGI5ROR55LriAAABeQGeEWpCfwAWJoH0VhvldKmc3HrABVXJ\n",
       "irT8aaooHspk+o/FIlvZ340pNB0iFomLo5YKxFQLqcsALwMbGBKiipMrPtO2vrGExjxSRPXPkh3d\n",
       "SWvLym51nWDs6VbhuZWj0sDY5bGc00cx+yoS7+HBm1ZIJE+47uBWxJgUeq0KLSXe2rpQQ/8eaHLb\n",
       "oMi/LzRhr6U3V8vCtqJl0waZuvtdhaSNlGfyErVIvRZeX6c2zs6GFWuQY6WxM86hlRacmNIw01x8\n",
       "h4xh5gbDr3Yu84sQJoMQRk9+LBovAc/KZrZsBhlRekOzhShdW2U6b5PGBleJ1aKX/rGcx45Cnzz0\n",
       "wTl0CGA8srhsJBkh+NzDWR/kDmVz9AdJlN9aSmnWKLjKxTiYfL1yJRib1R9dloJqEXmwQaWZh7dz\n",
       "VkhwG/ZQMB4y/Pbg91kBMrZ73jiRN2/2Nd16uCqUAocOrC6fnctI+YPNv5zvjjnUJy0jx2eSNv7Y\n",
       "PejWAEpmwBVhdR3xAAAEdUGaFkmoQWyZTAhn//6eEABPcbjgCt+TLUdu38dBs4h6K/pTHdx40wi/\n",
       "kOAU1pipXTdsgcKXHNzwOENVJjvjj5i3Ywh+TAyfN3nqUyNNzKiR1GsZaBNGi1J5y2Q4sup8FepP\n",
       "iqja3ZGA/8jDTwK/lcNH8CnK63k0D9aSztbGwqGG1V/DNmX93XQ5exl/DH9KnKcglUoCKFuvg8AX\n",
       "wYKegJkwuRDPuuz+Pwh15HmI3EnCu0Zc+nLqEHIdR75Wkt6v9LxgbH0DZIokPg6WhZaB3B8czOk7\n",
       "/lklCHwm9+0f/0vkWrRerZjVJKzAsVnBNmOD623Oo0UjNSRF3xwPjgaZg/rBi4gNV0D29qlp3y/I\n",
       "6flP7YmD3KIEk2nf/SHN3Ud80yOfJarFuO1I6xFzaXC4250NZgOyjcA+5pt9ppYGHC2eilLMhixx\n",
       "2T55bFcbuYwrmhYvwEvIqtz1FJjZiF1zNHxw//TMjV03ZJ5pCEPTG2ONH1sruOGNfvxYkfbRVmMQ\n",
       "zd8yH/XG6J2RDtg1bBy78c30BZSMcfR0MZUe0DUWS93vC1oi5uPtPXgLVOsmfOzQ3aopDYFPkMFJ\n",
       "FFO4NGccyjAGpmXZkoEz9Xbjy0yWIVrdVUNjaQwJt1tBKtPEJ42XGfZS7MRHdpiuyYQH3eZttGsk\n",
       "I2qTt32hLb5P+Y0XTkq1BkJKN6bTs6lMpqtA+NDgBDrflCEDFaxnL37+ToEEQ5RPMOwONYZ/KtJ7\n",
       "OFFRiGSTRhyIvjrsfavmYReEv5F/U985MR6I3nJwhkTxccQhfLcd4oJQySUYTMTOent3Qm7gPl+p\n",
       "HmlNJGwvpZENH/av4VDRsyrOkoDyViVL07WpzF3Qo5/+4QxMu0F/zG8csKnXqejvOi9yiE/dqjvQ\n",
       "CHIfESDzlPXjdMb9HriEniXEVwjhlPRMRmLk0EgS/cLMWbk64/ODQGajIZiDa8pk/DmOCJFjI67M\n",
       "cC2K3r9P3fYQ+9zt2ziloPKaayL8jETKvJfYdvsURBnJ6NGddSHLQynzIUNzA72rk6j2VYJQ7wKL\n",
       "xMhqUarQyJHbQC2ZA8+6UReMWanNhw+uUZCEpe9QKHzrdt1yqPmkLkT7OzYkO2mrloRLTT0vUCjH\n",
       "cwGMdaDg5fFLVD2DxsNs2n9Akm6Y1W04/YGjcHSL4EUsgNzyRu9Q+/1rtZJSujKGV52x4qAnlC0k\n",
       "aH1EkwBDEtr7ESGVBZhCnRl/ISRE2AgeCv2+wNmLV9fs4tmYj0MjwngDoH6JnkutK+79LVzcFyDL\n",
       "nDlwlbj3k3ucLECDnA4CXfyQOUZpYV6kfxE+7xrYMA6eYEtKORKHSTybIKo2XVYsphs+LCS8k71/\n",
       "1gXP2UGdAjob98D+xgkglo4wBgw6FHlMkG7Z3BQoYWU5fxi+rIP+pEkD8HGv5mNMJyVBojncrpoq\n",
       "lC7UB+05YWt+nCdYV+FhM4de0A2/btef1kkKi+d5FjbBsQnykPZWkOV/mlsXD/VpJbVAwZMASol8\n",
       "GXJBWRu1qtsdMU79xQkV8wwAAAIWQZ40RRUsK/8BbOTNASsdKPSDPH0y8a4FP9JMAODNx9bWn3E0\n",
       "GKl0OhqCeBaUXJa78SPAvWQYXvUrXmOg998+bl9Oje41tMWDpPAC8t01+yxVwYDlrA4IY114B0KV\n",
       "5d0lenFiZXjLUJx09sAtIoKF+Apetkx9ZzERZ4i+PTVjXtzoeXjmEZi+Q57HXIQwe5WEdZOMQyzY\n",
       "Mpke4Crb0go94sO0YTFkxIWEMFppguqIwt4u0Wy/nsEWsQMrHOJIA74TziaCFPfeVHQcldJq2tbe\n",
       "l2Ru9If9ecRrUH2cFFhVecRwuExTz6vghMkTkjBLQh3UO/i9ay4O9DS7sW8kTqDvP9TCjKhupM5X\n",
       "9fyZYGfpLoh0s5xfU37qGIM6jxCylVDymx14qI3rSQaHIANtkV0q5QKQpXqxqgvAa9zpk/ErlaDj\n",
       "Cg/r1NPX4HeHfcByodjbgEKXOuShvjRdEzAOsEeHxULHkIG1pC0yRXze3CnVVp9KB4ORpB+JUrYw\n",
       "xUt0uEt88BAR8CzFavty4rM9WsnhKEMkXJD3HrvH1byZ2c7KxzUu+rg8WF4cdVPQh6dM41CLBkxc\n",
       "cJ5ghZSccE64Q4ozUp6uXTa4mIQKWSovEgPp6j3cwj0k9ja38Oe/DmFCOSDOdm6pAHu0zznKFyEA\n",
       "8l9+MwCanbTrxfLc5j/0mV9NHLg7QMBBMXT4k/FkY6VaqXpa1vNmvP1yAAABQAGeU3RCfwAVlEYa\n",
       "7iAOvM8EAG5q9nIB0tAN4epJXhGoY3jMWn3zG6TwLfbKg/yM8UHzz5iknNSvEjLsOQLSe0dG+zfD\n",
       "1EGm4c3O9pYWq4cHganQDX7+RgDrIc67nOz4ui4jSZINNK2/acve/q1JVwtaNMCMbiE/3kR6aIyl\n",
       "eUhHpMPm8kqEiaFePlc7Qxn0swSm/Q5/B+dSXQnjGid0aYy+LRQNDbxj2Gj7NzXrcwdWUAH2L7NU\n",
       "g/ckH0+jvK7sdTc3bb07VHOUf9VRO1IhcpO6CG5RLcL5oxpIujt5rA5Cl27sekQBU2rZIb8pNtuG\n",
       "NGWIk7idxfxXTwysc/1u2Jc03X5wDSYY5w937cvd2DNp8PlLX2WeH40B09BLrPIfj3cAqEIv2nPR\n",
       "ff6lCXLneODwvnfeZOrzhoR2UQo+OsghAAABPwGeVWpCfwAVm1d5VQS4XfHsuVW71r5UBoiV0gjd\n",
       "TlFCzBdSoTHLQWiQAEOF1LLBZYLR7Ds+oes1ESwkkaUgJ6u0u5lgyGEvhP3gRyRzC1ez7Z4ZMAhh\n",
       "PJu7/ypIGCoh4OkSVHOHNLr3BiVcq6EdY+XkEzqqd96onZelKTDWHrtXWS5wncFr3ad59WXkrCwg\n",
       "cxgi9rr0ToI6uM/CmvKhpt06BATyX6AzgONTeBsN2D//17h/qdjMnMpWn8K9kE6dbfli8Lk/2HLB\n",
       "6M7sp6FAc1ySwgVRND4WcyUDhgPhFW5JEJ5XLAxb8BKKXoX2518lpDOJ5e+oz2Rf4AuEtekGXdiR\n",
       "3KmwcMQNxXRYSD2c537Aarp9yuvAvKmHcU3syX83gk7OBTBqN8d0sw0TacRFe/itUK//2jHDP6t8\n",
       "Ji2EyukAAAN3QZpYSahBbJlMFEwv//6MsABQnKqor+rbAC1mu6QkEfCjTLW6D+tydkW7dmt2tXlr\n",
       "Kw6ZS+pZTTZTkoAUdyMEl3W6PtcjGoAzDrCEPsW95SUJX8penMKfY10ZEsUopNXC+HQ0wgEusLKu\n",
       "Oxy1vcLImvtdl6B+OrQME5Kkg2+dBQb08obAzOuo0IgrwCm5HetR52CvezT6lBSMUbH5y3UQfZrX\n",
       "DOJ+ZBgXagDmVZN4xuDQlBITZeNbl2bkYrnnpz/6xP8v99OgoiMb2+XNGGT/IXLKt4HvDD7CBHG4\n",
       "J1nMllSn9UgzqY7OH+CRosdjxHOwLOVTpWFJ5P5tNp5P4tqh1HSlPIPEzLQ9LFE9Kj52j+qXrS+N\n",
       "xIz2oyHbtcu8qY0+hWfodJ3gbyUCFpBRNCaHXh/6ur4skR0oNdd0ttFll3n+fSDZ/UNHT/HOB5iw\n",
       "LWJ0rnZphoqAm7EV3J3ZYFG7qjJSEot+DHsNxOG0fqeEJ7Q7Dqs6UOKOmCzpVflEkHzfai7Fdshj\n",
       "I1izf7W+9RNAuzsNgQoyospUX+0Ji0ujYjGdjq+Y06uTCNZqcYUELJBUnjNQK5A2JbIQx99ZfhJV\n",
       "XSVhcRLeLSuUjEZ1/lFopAeZsVWfvu9fqPySQEN31gkwhUsisNcmdpx9BUN0FGoHAdmgwoWOwL4U\n",
       "+1jXW5n08wrGU4pwg+P62tDB00qsA/2Ew+sbh1LUWxsXc/Eh4MLpfkSC0yBhSeT5K8D2PfEwjROB\n",
       "kJdOgVn1NHGsnE8gBsv0rax3dLdJ1PvHCwe0NV1v3FmNJtRfX54y7V4mKDYW3uBx38G/5Uh6CN2M\n",
       "HcVW6MWVtS0h8lJZ8QtGqov2/FsLBpxlT0yYjpTJgKbTcp03epvYWkJZQhx/Iw+pGR7DVBYoV9kF\n",
       "Txe7LszHRdUdVbkBAHYBOtBQpWqLOmBGbm5rjHUHG6F4LIczGfFocsr5wfHPiRoQIaVWtxcwicEl\n",
       "xjM+9dK4kAc4v1PXDgrB9iPdftmSmc8wVc4nLqGu9eo/OtgWFSnqLN0tKlk4BnbsIQ6EKswDt/0a\n",
       "nR93JTo2na/tg3luWzux1kny9hCKG7ucbsFgFGAibbXfzOa397ko67b9w3K9H7HNAkirBo36+vZQ\n",
       "Pc9RPdl5PYAAsb5mS8+GNQ74XH0F5F0cbOD253+DY8I5aW7y3iqtkbkAAAEtAZ53akJ/Ac695AUL\n",
       "cvxdrB324eGxo9He9wA2w5+rezciBHyl+4MuvLQRLyc2wmwYX4rcU/90okVMH7RZ6uSVlZeKvp0W\n",
       "5JC3lFL5uulQNLmrmAZxK9A16/LAkXBFFGuGBGws0vnS9FuMH9gPxJTxom3x6dCC2v2nWCI1beZt\n",
       "Q3B/lVo8Ct+Lm26r8tzTJpVxyLpWNPOOhAFmVzP75XOPcpH4wPJ0Ofrk/yzYGBFc8VI1IKl9EGLQ\n",
       "3v24/x2Mx/ROm8Sc/MMOdpbyj4OFToWz+8CwhtKNyKNUEQnp26EbriVzl+tqU4PpgYK4LBKnglkh\n",
       "LVbE9zSA02mLYnPrKD2O16YWZfvu70kPRu0kJXxYaeANsRtV+UanMQ4QYNOdqOERCnDHIV31Dh+0\n",
       "vhUtbQAAAlBBmnlJ4QpSZTAhf/6MsABQkoW9saAA42MUIR5GpITTW8BEv83XuD6QTSLSCgvhgrO/\n",
       "kkmBif7u1P39cZ9Wej38SpCg+omIPEMY5Rh5otCXUhVM4u4swhoIqCTGekxMxzx+4K3QtCac+nbg\n",
       "m7pcEstJmVcTLBolQpyl0dAbAPBV7jCJfIbsUmxBeGBJ1DM9aurlOf15FspGIMpKjSK1SeCmmdT5\n",
       "n60BcLWm2/Bkr7frMi0kUoJNR1qcqN0uxzNDGOKNktFgTuW2KdiLoX2iQ8ZyWXeuEzpyi5mIK3D+\n",
       "0sq8kUw5gNIJHSwMqPdPAIruvbT1tYdzWeRCdElxT034XPPm/aX/hIT5HNPbkJLJPo0uFLxe/4kB\n",
       "jRieJkpPzrWK/VGlow50/u7EpjUcTaZsLKnMO7MzSW6Bq6Iv/Oo3Swfw+ffUZzxPB3AIIbWb/gyc\n",
       "VtNZ68/hPFZpc4FrJT9a5jpMubY9odrH1+MA3KdkdNFFffHMvQG5p52/nX+L2JWZrAZjd/YKfEri\n",
       "78hUL6zrZ1ocW9yFvdEfmn9m1jXrt5FUx+UGi3MXcKbb9xQqxNG/Q8+3nNWkGsu8onGSaaKhhYsE\n",
       "7B28bcGWufg7uOmHBhwvZySBjtTuTKEcNKSvCdZjJOJB3zXmVRl3kZ1QbnpmroYxEEefBcYBPva9\n",
       "mnPVe4NyukgzMuD1JCdFXG5YovNnXVJXG+QOgTUYj7IBxHO64egBIjTXrypalnTqYQVsqWmm+Ff2\n",
       "YQ3lMEZl4+I5QLo+dlSJCUsfPHlm+BFP/4vRYhWAAAACJ0GamknhDomUwIX//oywAFL/tqBofiB4\n",
       "DPKJSCw/qIHtMdKwrBUrkHkpWk3iaKD34fha13vWPhoD+oZwGKchlSLeYNtCIH/zrkeCb0toYtC4\n",
       "ExYGW3LjU6XUiX6TuZjpzrCYLeMUtllZflfdrB2UGgZdOLJ3pvw566pcN7KxNlVFsU8yrnlzeydd\n",
       "E9PPkcXUOlAHpedfbTSurv6IbIZa7ZUB2mj9SOa9b5GK2GfgeHx7ruIDR7H6wvYfKFknKqSotnBm\n",
       "If9PyfxlnvJbbA38FaDFubrX7Nms2I00I1aq+7FUxB8N+7fSSdetEqYAFxCFS3tzzBVXnd2KMqfp\n",
       "NFdCRU5uIkkxSQh0CxnHdURM3kw1sKWhLW593R0/wCrjdLbYBcMpDtLdae1XfSuMYVrtM1GfWjJ3\n",
       "alGUGNpIgxveIa42aOfA4p9U8ZMvYwhIaAFqKDyRrNrVt9SBXkSk/16a51O8i2TXurKQc3ATxRyM\n",
       "h7RAxTdcza+jWzyWCZhv8eoUCHku7O7YxYUkrMnlrTx6uK09bUUJrWUpVdykdT/vvlCln3wCex79\n",
       "/OCostp+q9ZkyqgUrYhfi3G0FKdBWkX0xKXN07S33AIDaTRBfmoWd2p2T1v6fwG0G50wHySt8WZ7\n",
       "5bT/5xeaRrmZ5raXNpNlpKL/jFyl2STEIvdFX2YnWgVaUo5jbtjSnrkJc3dGLPlS2aCjOQ4tJTgR\n",
       "1LQibZYYFljTQBbmdJyBAAAB/kGau0nhDyZTAhn//p4QAJsBHdKZeeK0EANE9TKYkBXtPqPhodwQ\n",
       "hMthLpdYzgvaKRdbfp1th8Z6rdJYeAYAaY7fh4h8zPeO+IHr/cKfvjkVhfDOkPRE+Q53F+Q694Sl\n",
       "TivIjkxX8NZsl1dt7RGtfhbScOEOv1R+TLvOtwZegT6DB9NBbcrn8Lg3oqr6/6UI+DTbCFHKPdvq\n",
       "6fT7fEixeecrsNEsw9o2M955ggNztj4UuRb/PQGxiOFbUiGg8Y3LKpUemunJYmHOo0OMvvTPFxHS\n",
       "Bw33NfoHBHK+7VNzzVFex0eEvPK3dpqCpFiZyoWLcFKf/6zmOx6dWVp+FidxRm/eHXhrY32n2Ldl\n",
       "O8sYYrUPAxQGWRauDVFd3V77OmMjAi+VUkEDC4g3Ff2HkmfNaWVcB4R34Jz4aBuP5+D2LPkY7Xlb\n",
       "qIjJeyJ9gEO35ay5B00l6WQOLX9FdmfNsCo6UcThVj8Y4Tjpufl2yjr5hWak7Uf8Zv99m3MbiOie\n",
       "PDaspWkZvUHZDlk4xwKFyklt2Irm3H9TxLJS7R5ij1RfaQyPP811jTJjHVrcgGuLi4gSlpygs6T4\n",
       "Yhp2Q1eaiA8mhMavRMK28tDR4vaCq61fSGDs7dNic7FGHkJPJYIr/Wmg+7W/k2TXh9c+uABHPCVr\n",
       "ylNF2xUXSKI0Ui7Uo/NTwAAAAj1BmtxJ4Q8mUwIZ//6eEABR1X/z3+mABwuzSD89CU4HeMjG9Sf9\n",
       "KXeGp2RE8rOfAQK8SuE5zcyHTEW6WfwnYoe/BO8Tc3lYScPl5c9JfmYm8cT685Ao7XiSkDOl391/\n",
       "bM7FSKdRECyQzaWYUHpQYia8uDbYZsrj+z+0k+AltxCvCN9hoSSVXDsiGUNZFu1RoXljHFTAEYSX\n",
       "rrTTD054/Pumt9i+xbH2UGfdJaEYLJwYr6thvvMnRbVg5fK4l3C2x4dv7e0iSAGLOixWaKKLG30t\n",
       "8e4D9NjhckgKlfjF61SolGEUOHi0HugZZgd1OIcTBPTOGmrXgb9Uc1tOGy2/ZkUV4VBe4PQKZsSA\n",
       "dhhutmXMn40cn7OIiMOXU+HkkrkULXY6ViB2nrN6sWmLFdPAfB+w/EfWif0IWFfQY+swp7DVyslx\n",
       "5YUuQhl8pqkBPOVNJJRv2mNj/sFNSDjNOk/cuIdmx4WN2jY9mRRzm1avvxb+KPVxMkUWGYTRzHim\n",
       "sgkbMJZYHPokMaR7A0FOV/08SF6bLPHWRSX7p70A1X13BTa/gMXtYhohBMik+O2rX0tTNCnz3Oji\n",
       "139Ox1QynWNvMzgwi4me1vLLBzexpABbewy+4VNLRuZ8y41CVWfubzHkZZuUp7p1GG9pnIPZLviU\n",
       "BVQWkXl6sYfzVMJIgu5BV4+mQHJZC7yNphgGK+TU5HSSwFv1oHz0S1eh5bmifOZi3elYShfk2F7r\n",
       "r2sOqDddviLtGoq3+NBLHF1h8xpAl+EAAAJBQZr9SeEPJlMCGf/+nhAAn/Muksn7Zjv7sEhHy3AA\n",
       "XXF8y8YCxH/+gll2816NytPrVZYt0qfG2MhKhatHpYSZZ92L9QD32mrRVMxNmEG7XirPa6tyimfK\n",
       "O6+zwpO2IDmAQ/rejK5hlYVTVm4Tho4xco/tvusTn7Tx8CVW/GUZx//p1mteVuxIvPldwvyeMQq+\n",
       "BtxBUgLN3eTDo6y0IQymwVIEmuQKRiEreNpfOg7goqBJy4qdmAFlnYqybLGD1QJNriGf9EojyB9d\n",
       "s7V7yKypRdDeT7w28GV7Y5vwy2Sg9r9fMmZQjL3nVK6ptD+/AtsM1RshQUMxgtriiC8JwWk6Emnq\n",
       "LIUaPumiMHrvGa2L+EkLJ0cY32vRoKb2bKTLs4ozQGLE97iI5tosjPCsGEsGU4K0BxuIkJ9oZ+hm\n",
       "HnA2lNySF2fxPP1hkw/RhJotEUWviEtOWKp7uN7zEM7Ao5oZAPO+jiKRdsLJ69llTN2o9XCxyPEU\n",
       "nW1RoNMGmVxaEmhdEiVCkqWqWzPjxaUMbOlr727AO24UAmhfafdHFv+yHKYqBmEtkA1+HAJlfV0O\n",
       "dMlXuMeUO9QC1lhxWvjSYpf7DfE7X3ZmWcPiv8WkfMjuxJYHjEBsN2GgZiNqY5EJUdCSyqsjt1UY\n",
       "z2uIx5gq0JhzLsQgOmSeEtb4dSV/ksXrkZdqDJlda+77N7DSu6Dzlhpz/O2mstL5eN3r14aFfOsG\n",
       "jbu9QRKgrxKB/XpkAuPoXWJPtT7TF2MpApceZ0BCdFPEoQAAA+5BmwFJ4Q8mUwIX//6MsABS/cuf\n",
       "3wC6AHBxXQ/ydJWqD2dkr/EeDXkbqItcQEKM3OdxFayxT0L/NFYA9wr5wSyAbwVfMEEb9UvxHOq0\n",
       "cZTCbLV5a3Zp1rcMzz3wB6j0uI8vyCFdhNBfEklEZKvbGN8QmtVng4MpSxWi9II6qhnt2ne+8j5p\n",
       "beFVlP/br138J6fRPA3tF6Y5YRxYCpCJBPIUHC/dDq8mfGMdfFh+O1+Q/Gb4aBUEC0WwwQ26j+1z\n",
       "HJ/T57NNBlfnNwEs1EM+v3ghswS220a4alG2AJqRKjq0aqAw/K341ULDWLnw5b5KTLZJV7Nu8oUf\n",
       "GGm8axlBZ2alyQKaz8Z87ZCiATsqO2b/HPtsgG1ZPAwRGIah7r2iUEITB+yPg/h9a30/SFjxndua\n",
       "eriKxfvV4QZvQyoBsKt+CEzycwTFROjPdxq6femGVYwNRzI2eswabfXhWSkMFvm/zqODb+btUwq3\n",
       "VtZq5lNt522IPkpMc5o1fzMZcYgM7X0hR7Fm6hq/5Y8ko2mP16WyYMzMhhyQPpJRBQ6GwueCbhOK\n",
       "boQW2bcTkQtZ5jiOU+j33Yp1rDXUehVMImzzzW1e5M2N520czCOAEMuA+kQ69/POPbVkVtuA53F7\n",
       "OfxpM64FnTBa07HxYF///dn11GEYS8HXQK5f/lU+LCh9XnYFnXvHKEY1r8qcHshVQtXvp3/b1kRi\n",
       "qKnFB1Ov5CYto3ACy+LhUxZQk5hl0cJUG+7ByuWp8KElaPpN1T/+Lysvqp0b3sG+yiXKG1/kQG9+\n",
       "u1ekbeOZShZblxbwxZTpqBwaqls+feh3mJRekFrhLP0Hijfljg+/dfXoQlsbWPao6YYL1KDZ4ReO\n",
       "9gmehlsI/lmpP/miwJgU6fsdNpgqDzg05ZQPxC1+gN+DsrsVrpMNzmVxeD+D42gygKj/3rY9KkvW\n",
       "BNTgw0ftiLr1cf+9/s1iyMzerl4xww0QQvBIF0vJPoVrNrzibTBQOqLx8lhPzimo4WlBjNbjdPnr\n",
       "I9s+pd7CFMGDSSa8witTfXFAtUUqFj7UcDsgsn27rnQVx+mc5f1HmILIWzm6VpYvKkc66yKHgPg8\n",
       "9jzNpWQ4XnOV7BO3LwaJIcMsMwOwq+UlPdW68DyogkJ/nKGsNVoax9Sm22hQD6OJq5ojZNJe1EsI\n",
       "7XhaYY2zM6bgJaVWZrgmEn9Pw/P3g4KQ7jd7VJfRput8AyfDyQSw9Fo5bEOUsLxDddOW8pAO7gR7\n",
       "cWbjrPZVrVGMIqKlFVQm/KxSNixlB3YHxjxHCkv72F/RLfRvMJRJbdA2myzEtpjaqED5JrnGFw90\n",
       "fkIfJkvgmONJNs91QB8srSjAAAACFUGfP0URPCv/AWizI4JWZZ9M2OEdvFtf+Ng7QAsqMoqFJjYD\n",
       "Ibwm009/TV3pF8w6blJo74RFVzYQTcDHyBrJO73kw1ZrIuPW5bFsVgffNRs6ng6DgqhU3y9S+M+P\n",
       "bmrelUyDVX5uQparP9V7MlD7HlK4LWEKQ47dQeneno5P5DvBBP7E3tx/dvIbvDf2gWXzoNd3Sa4Q\n",
       "7WUgiTwpj2WZ6tS+p5DKeM8k9k9BkSB7JrzC8lyTKutj+YyhsdRyq5wvGonSWL/lVRib9dsf2YOg\n",
       "5MzsoeedTW64v+EN+cYkZiNNf5fgi5//Dv9kYZTacEdC1PYIUx4cFcZWJNxwR3ajdFKeUm6Ss6HJ\n",
       "k+2/0XQkM2jK+MdP9pmXVeg0GbhuvSyF/YhDrfRHo+uS/SU87e6EBrHE66j2HBv5I/nyVVe/Dh41\n",
       "hy+T456x6C73H6b4gqFGtJ6xYqcJ8xPdGJjcOK2Uzdjk7g5eyFqjB3dalJpFEfNb5swgN3PA7OQw\n",
       "1F7uLGVOM3pXTtTA5HOxSMIvEKiFFkxOeRw0f9T9JBDt87+div+aSYGpKTZbWNzQmivNnR3nz9aQ\n",
       "tVvtxve/5ygY5Y8xAKo2f26qygAepl+jMnWHfBF2Q4OFi11vr28WzqhkejpWgSQnZL9mos1elFxA\n",
       "5kQe//yUPeRZu/p6HwmOqmYs6d5lXSiG4tzVNGgHmQpc61pZc/PLpELQAAABQAGfXnRCfwAWI1TR\n",
       "rGk4ZfwsSxQAGmRcmE65RketENTmclL4M5JEICqO1E6ttviQENhE/sIG+Jnm+CcS93Jq6FsHtZXD\n",
       "ZWtGZAyN8ueGpyEW8I3PyUDJOU+HlsW1K2nSjmVR1tb/dPW0VYpeDu9Jeq/W99FWvyCf/yr1IR1j\n",
       "vxfknBYP+0cQzC0NVzdsAPcAJw8c+GRxb/JwpBAp1LW4wwk8thCH/5tzAy6KwyrJueCbCvWKp0EN\n",
       "rMMuOq4W72yPL+E4e/P7J/P4Fydg0ZEjPhd6bqqR6bJncZ/0WKQB2EYZEWDG1E2+dY6gqxBUE0q/\n",
       "0CM8azzOoWylttKHoIixbevPA+Ezap3qNJ2w/iwiBqoG6yLvkNS8ZtfO0mF66zr8ydmm6T8P1Nsw\n",
       "kjt4E27l+rdC8f6BCY8ig0/ehI6vqVBlAAABawGfQGpCfwAVkLxpwXQBABvvPJqLslVdfuwFglZG\n",
       "NajfrAu+zOnxwcqvyCb0PaDNY5oSQfaAWE8AoKu9FbWdPj17KduVtxG89B4hCK9pIj4eDr8S5BQ/\n",
       "pe2PheCN4f5Ha3yiuDU0y++FYmY8I+tZgz0X8TBzjUwjETfcpJaq8ufokwX3iKAq4VjphTIJDZ++\n",
       "iM+2vPOLso0lpXfcLrs38+pjehcuBDqxYDoIP/9v6bmJvWoh+56CB9/c9ePnCPrGt1e8dFvd5I8a\n",
       "K+l4RNkV1kwGo2aiAxmAyutTkUfkh1p0cp/qsIxOTue9iAViuyL3zaex+yOlen8G8rIcio6Ie3OE\n",
       "P+zsyzSymt5Z/1zCYqv+Zer7e8ODtNLTXVFHd3d166IYluymWYifefGeTbrtKuXHXHKjne+YrWn3\n",
       "kCW2JMROgfItaDD9ntZpu3lPKzsb6xQXFk15hyf/wjVNvu/h2gwqM1cg93CTgFM6QAAAAkRBm0NJ\n",
       "qEFomUwU8J/98QAC/+m3cGXga1tQA4MtCnUQcQpZ4hAsnBqCt7pfJVXCu5vGjdg+m83g/ZrIr0h4\n",
       "u8UUL7TFPfH5rjC9OcvGIT6KBHGu+9C5vaVioMtWeMFRC9aMMkKP9/8y0999TuT4+QS2x1VUWGtt\n",
       "ss8GOanP2rdIGpvJ2R3ZZYq2rEi4148ZdEWf/qA1nAnEgTxPW2DWX4VRMYp90iKj4ksjnIyTtg0l\n",
       "c8kmT0/9jWC/hbdHgWMySOkNDgw9mzqA4XSZ1MKiUUJRykHOrO4JUfVL0SpkBjwPhGC/GXi0l4mR\n",
       "7GW0vn8zfmvM/1KnQWoSBLsAerQMmMU4/v7NKmLfqZ4HJhs91scB6uV+mR/3hwQ7XuEUV+rybN1/\n",
       "RFXuNr7pg8V7le3xteLwBqB1N4dLE1Ea33sOAQGbHXsNN2GKJG6RAAm8JNJgyFbF3QUxUrdXi6gW\n",
       "53ZE7AjicKWjn2kSpCAx54hmCEDhchxU62fIcP3/kFJDBIoaCpo2ebsC+glYD7P1Sozg0ufR+UQ9\n",
       "ROwrztFKHFYNutjo/TFYkMeHC06lKi0Pycw5Jc6GlwNsc9BhndThcADYSJvZ/YMhkLzc6NNjESK8\n",
       "w814GHMbeHJFwXQ7tDEpnz1cgZQyWijdyn6emk5h0EQ3ronYlMPj3809vpoO2GKpaXBCRC/fUYl0\n",
       "A5mn1KwzROpdvpsMqMG4Hdb2WaC7hUBBmv3x9E5cepX6CaBPBMsJr6y+ilKVp3PaNfU29vsJgKuW\n",
       "4UNghY3BAAABhAGfYmpCfwHOveUZFzUswXz0qaRqACyqxngBtigCh/AKmHyINRDfVA7jKhVlrPNs\n",
       "+BwVRjri5pWz0KZDfpsw8hDRr8Q3a+REB4fwTd3d3XX7WHxD8qMCpBFwBT2MMEpqyTki8QmuKT/5\n",
       "ejT6XpvrdD6plnxhSvaNRY12ied/cK9nncglJx9uEmbbh+AOdzYLcVR1eOxxiEGS1C39KGuU/j9V\n",
       "i9sIc0De2swdy1J7LLOMru2+A7wky59QftiLxMJ3UiybIi67/w0LudVVJaaiDPeSN8TKpCYQF2Ud\n",
       "4HzTgXu6MjOnhdL1VDwqZxUOYf/t5/xX8gskx9/VoxzoD/Hd0HEplzOewTHxnOHWES3hoPujXJ9t\n",
       "IaC7XjrK98U+rm2cUC/sx5AYEJWX3q6W5vmMnjcSr7rpSLQo8khGyT6rLY4XhncbzKEXpJynFSlv\n",
       "m4+qnX3VpGUiBWKHvwfXGnqLCYLefiJJi4WyYGs3R68hAENPwCrSilSL3Izwx7DhaZlglw7TDUgA\n",
       "AAeFbW9vdgAAAGxtdmhkAAAAAAAAAAAAAAAAAAAD6AAADOQAAQAAAQAAAAAAAAAAAAAAAAEAAAAA\n",
       "AAAAAAAAAAAAAAABAAAAAAAAAAAAAAAAAABAAAAAAAAAAAAAAAAAAAAAAAAAAAAAAAAAAAAAAAAA\n",
       "AgAABq90cmFrAAAAXHRraGQAAAADAAAAAAAAAAAAAAABAAAAAAAADOQAAAAAAAAAAAAAAAAAAAAA\n",
       "AAEAAAAAAAAAAAAAAAAAAAABAAAAAAAAAAAAAAAAAABAAAAAAbAAAAEgAAAAAAAkZWR0cwAAABxl\n",
       "bHN0AAAAAAAAAAEAAAzkAAAEIAABAAAAAAYnbWRpYQAAACBtZGhkAAAAAAAAAAAAAAAAAAA+gAAA\n",
       "zkBVxAAAAAAALWhkbHIAAAAAAAAAAHZpZGUAAAAAAAAAAAAAAABWaWRlb0hhbmRsZXIAAAAF0m1p\n",
       "bmYAAAAUdm1oZAAAAAEAAAAAAAAAAAAAACRkaW5mAAAAHGRyZWYAAAAAAAAAAQAAAAx1cmwgAAAA\n",
       "AQAABZJzdGJsAAAAsnN0c2QAAAAAAAAAAQAAAKJhdmMxAAAAAAAAAAEAAAAAAAAAAAAAAAAAAAAA\n",
       "AbABIABIAAAASAAAAAAAAAABAAAAAAAAAAAAAAAAAAAAAAAAAAAAAAAAAAAAAAAAAAAAGP//AAAA\n",
       "MGF2Y0MBZAAV/+EAF2dkABWs2UGwloQAAAMAhAAAH0A8WLZYAQAGaOvjyyLAAAAAHHV1aWRraEDy\n",
       "XyRPxbo5pRvPAyPzAAAAAAAAABhzdHRzAAAAAAAAAAEAAABkAAACEAAAABRzdHNzAAAAAAAAAAEA\n",
       "AAABAAAC2GN0dHMAAAAAAAAAWQAAAAIAAAQgAAAAAQAABjAAAAABAAACEAAAAAUAAAQgAAAAAQAA\n",
       "BjAAAAABAAACEAAAAAEAAAYwAAAAAQAAAhAAAAABAAAEIAAAAAEAAAYwAAAAAQAAAhAAAAABAAAE\n",
       "IAAAAAEAAAYwAAAAAQAAAhAAAAACAAAEIAAAAAEAAApQAAAAAQAABCAAAAABAAAAAAAAAAEAAAIQ\n",
       "AAAAAQAAClAAAAABAAAEIAAAAAEAAAAAAAAAAQAAAhAAAAABAAAKUAAAAAEAAAQgAAAAAQAAAAAA\n",
       "AAABAAACEAAAAAEAAApQAAAAAQAABCAAAAABAAAAAAAAAAEAAAIQAAAAAQAAClAAAAABAAAEIAAA\n",
       "AAEAAAAAAAAAAQAAAhAAAAABAAAKUAAAAAEAAAQgAAAAAQAAAAAAAAABAAACEAAAAAIAAAQgAAAA\n",
       "AQAAClAAAAABAAAEIAAAAAEAAAAAAAAAAQAAAhAAAAABAAAKUAAAAAEAAAQgAAAAAQAAAAAAAAAB\n",
       "AAACEAAAAAEAAApQAAAAAQAABCAAAAABAAAAAAAAAAEAAAIQAAAAAQAAClAAAAABAAAEIAAAAAEA\n",
       "AAAAAAAAAQAAAhAAAAABAAAKUAAAAAEAAAQgAAAAAQAAAAAAAAABAAACEAAAAAEAAApQAAAAAQAA\n",
       "BCAAAAABAAAAAAAAAAEAAAIQAAAAAQAAClAAAAABAAAEIAAAAAEAAAAAAAAAAQAAAhAAAAABAAAK\n",
       "UAAAAAEAAAQgAAAAAQAAAAAAAAABAAACEAAAAAEAAApQAAAAAQAABCAAAAABAAAAAAAAAAEAAAIQ\n",
       "AAAAAQAAClAAAAABAAAEIAAAAAEAAAAAAAAAAQAAAhAAAAABAAAGMAAAAAEAAAIQAAAABQAABCAA\n",
       "AAABAAAKUAAAAAEAAAQgAAAAAQAAAAAAAAABAAACEAAAAAEAAAYwAAAAAQAAAhAAAAAcc3RzYwAA\n",
       "AAAAAAABAAAAAQAAAGQAAAABAAABpHN0c3oAAAAAAAAAAAAAAGQAAAgYAAAA2wAAAYgAAAB7AAAA\n",
       "+QAAAPsAAADsAAAA4gAAAOQAAAGBAAAAggAAAbMAAAB5AAABKAAAAbkAAACCAAABlAAAAmsAAADn\n",
       "AAACPgAAAjsAAASeAAAB9wAAAVkAAAFHAAAFTQAAAi0AAAFqAAABOwAABGEAAAFmAAABDQAAAPIA\n",
       "AANcAAABsgAAAQYAAAEWAAAEKgAAAj0AAAE0AAABgQAAA3YAAAG9AAABhAAAAS8AAAIWAAACGgAA\n",
       "A8wAAAGmAAABFAAAAQgAAARdAAACDwAAAUgAAAF+AAAEEwAAAkEAAAGnAAABnAAABFQAAAICAAAB\n",
       "WgAAAT0AAAPUAAAB5wAAAVgAAAGKAAAERgAAAkEAAAG2AAABbQAABAEAAAIAAAABeQAAATgAAASB\n",
       "AAACFAAAAVAAAAE4AAAESAAAAnQAAAGCAAABfQAABHkAAAIaAAABRAAAAUMAAAN7AAABMQAAAlQA\n",
       "AAIrAAACAgAAAkEAAAJFAAAD8gAAAhkAAAFEAAABbwAAAkgAAAGIAAAAFHN0Y28AAAAAAAAAAQAA\n",
       "ACwAAABidWR0YQAAAFptZXRhAAAAAAAAACFoZGxyAAAAAAAAAABtZGlyYXBwbAAAAAAAAAAAAAAA\n",
       "AC1pbHN0AAAAJal0b28AAAAdZGF0YQAAAAEAAAAATGF2ZjU4LjI5LjEwMA==\n",
       "\">\n",
       "  Your browser does not support the video tag.\n",
       "</video>"
      ],
      "text/plain": [
       "<IPython.core.display.HTML object>"
      ]
     },
     "execution_count": 18,
     "metadata": {},
     "output_type": "execute_result"
    },
    {
     "data": {
      "image/png": "[encoded data removed]",
      "text/plain": [
       "<Figure size 432x288 with 1 Axes>"
      ]
     },
     "metadata": {},
     "output_type": "display_data"
    }
   ],
   "source": [
    "import torch\n",
    "from .biases.systems import ChainPendulum, MagnetPendulum\n",
    "from IPython.core.display import display, HTML\n",
    "\n",
    "#P = MagnetPendulum(magnets=0)\n",
    "P = ChainPendulum(5, False, 1, 1)\n",
    "z0 = P.sample_initial_conditions(1)\n",
    "zt = P.integrate(z0,torch.linspace(0,10.,100))\n",
    "HTML(P.animate(zt.data))"
   ]
  },
  {
   "cell_type": "code",
   "execution_count": 8,
   "metadata": {},
   "outputs": [],
   "source": [
    "import torch\n",
    "import numpy as np"
   ]
  },
  {
   "cell_type": "code",
   "execution_count": 15,
   "metadata": {},
   "outputs": [
    {
     "name": "stdout",
     "output_type": "stream",
     "text": [
      "1.03 ms ± 93.1 µs per loop (mean ± std. dev. of 7 runs, 1000 loops each)\n"
     ]
    }
   ],
   "source": [
    "%%timeit\n",
    "torch.randn(100, 200, dtype=torch.float64).matmul(torch.randn(200, 100, dtype=torch.float64))"
   ]
  },
  {
   "cell_type": "code",
   "execution_count": 16,
   "metadata": {},
   "outputs": [
    {
     "name": "stdout",
     "output_type": "stream",
     "text": [
      "274 µs ± 6.02 µs per loop (mean ± std. dev. of 7 runs, 1000 loops each)\n"
     ]
    }
   ],
   "source": [
    "%%timeit\n",
    "torch.randn(100, 200, dtype=torch.float32).matmul(torch.randn(200, 100, dtype=torch.float32))"
   ]
  },
  {
   "cell_type": "code",
   "execution_count": 13,
   "metadata": {},
   "outputs": [
    {
     "name": "stdout",
     "output_type": "stream",
     "text": [
      "768 µs ± 4.99 µs per loop (mean ± std. dev. of 7 runs, 1000 loops each)\n"
     ]
    }
   ],
   "source": [
    "%%timeit\n",
    "np.random.randn(100, 200).astype(np.float32).dot(np.random.randn(200, 100).astype(np.float32))"
   ]
  },
  {
   "cell_type": "code",
   "execution_count": 14,
   "metadata": {},
   "outputs": [
    {
     "name": "stdout",
     "output_type": "stream",
     "text": [
      "815 µs ± 5.83 µs per loop (mean ± std. dev. of 7 runs, 1000 loops each)\n"
     ]
    }
   ],
   "source": [
    "%%timeit\n",
    "np.random.randn(100, 200).astype(np.float64).dot(np.random.randn(200, 100).astype(np.float64))"
   ]
  },
  {
   "cell_type": "code",
   "execution_count": 2,
   "metadata": {},
   "outputs": [],
   "source": [
    "import numpy as np\n",
    "import matplotlib.pyplot as plt"
   ]
  },
  {
   "cell_type": "code",
   "execution_count": 8,
   "metadata": {},
   "outputs": [],
   "source": [
    "y = np.linspace(1e-4, 2., 1000)\n",
    "t = np.linspace(0, 20, 1000)"
   ]
  },
  {
   "cell_type": "code",
   "execution_count": 9,
   "metadata": {},
   "outputs": [
    {
     "data": {
      "text/plain": [
       "[<matplotlib.lines.Line2D at 0x7fa6af232940>]"
      ]
     },
     "execution_count": 9,
     "metadata": {},
     "output_type": "execute_result"
    },
    {
     "data": {
      "image/png": "[encoded data removed]",
      "text/plain": [
       "<Figure size 432x288 with 1 Axes>"
      ]
     },
     "metadata": {
      "needs_background": "light"
     },
     "output_type": "display_data"
    }
   ],
   "source": [
    "fig, ax = plt.subplots()\n",
    "ax.plot(t, -np.log(y))"
   ]
  },
  {
   "cell_type": "code",
   "execution_count": 15,
   "metadata": {},
   "outputs": [
    {
     "data": {
      "text/plain": [
       "<function torch.is_tensor(obj)>"
      ]
     },
     "execution_count": 15,
     "metadata": {},
     "output_type": "execute_result"
    }
   ],
   "source": [
    "torch.is_tensor"
   ]
  },
  {
   "cell_type": "code",
   "execution_count": 12,
   "metadata": {},
   "outputs": [
    {
     "data": {
      "text/plain": [
       "6.142210149899097"
      ]
     },
     "execution_count": 12,
     "metadata": {},
     "output_type": "execute_result"
    }
   ],
   "source": [
    "np.trapz(-np.log(y), t)"
   ]
  },
  {
   "cell_type": "code",
   "execution_count": 11,
   "metadata": {},
   "outputs": [
    {
     "data": {
      "text/plain": [
       "15537.546579479244"
      ]
     },
     "execution_count": 11,
     "metadata": {},
     "output_type": "execute_result"
    }
   ],
   "source": [
    "(-np.log(y)).sum() / (t[1] - t[0])"
   ]
  },
  {
   "cell_type": "code",
   "execution_count": 30,
   "metadata": {},
   "outputs": [],
   "source": [
    "import torch\n",
    "from torch.optim.lr_scheduler import CosineAnnealingLR\n",
    "from torch.optim import AdamW"
   ]
  },
  {
   "cell_type": "code",
   "execution_count": 31,
   "metadata": {},
   "outputs": [],
   "source": [
    "model = torch.nn.Linear(2, 2)\n",
    "init_lr = 1e-1\n",
    "min_lr = 0.\n",
    "num_epochs = 10\n",
    "num_iters = 100\n",
    "optimizer = AdamW(model.parameters(), lr=init_lr)\n",
    "scheduler = CosineAnnealingLR(optimizer, T_max=num_epochs, eta_min=min_lr)"
   ]
  },
  {
   "cell_type": "code",
   "execution_count": 32,
   "metadata": {},
   "outputs": [],
   "source": [
    "lrs = []\n",
    "\n",
    "for epoch in range(num_epochs):\n",
    "    for i in range(num_iters):\n",
    "        lrs.append(optimizer.param_groups[0][\"lr\"])\n",
    "        optimizer.step()\n",
    "    scheduler.step()\n",
    "    lrs.append(optimizer.param_groups[0][\"lr\"])"
   ]
  },
  {
   "cell_type": "code",
   "execution_count": 33,
   "metadata": {},
   "outputs": [
    {
     "data": {
      "text/plain": [
       "[<matplotlib.lines.Line2D at 0x7f01156fcfd0>]"
      ]
     },
     "execution_count": 33,
     "metadata": {},
     "output_type": "execute_result"
    },
    {
     "data": {
      "image/png": "[encoded data removed]",
      "text/plain": [
       "<Figure size 432x288 with 1 Axes>"
      ]
     },
     "metadata": {
      "needs_background": "light"
     },
     "output_type": "display_data"
    }
   ],
   "source": [
    "import matplotlib.pyplot as plt\n",
    "\n",
    "plt.plot(lrs)"
   ]
  },
  {
   "cell_type": "code",
   "execution_count": null,
   "metadata": {},
   "outputs": [],
   "source": []
  },
  {
   "cell_type": "code",
   "execution_count": null,
   "metadata": {},
   "outputs": [],
   "source": []
  },
  {
   "cell_type": "code",
   "execution_count": 5,
   "metadata": {},
   "outputs": [],
   "source": [
    "import torch\n",
    "import math"
   ]
  },
  {
   "cell_type": "code",
   "execution_count": 13,
   "metadata": {},
   "outputs": [],
   "source": [
    "import numpy as np"
   ]
  },
  {
   "cell_type": "code",
   "execution_count": 4,
   "metadata": {},
   "outputs": [],
   "source": [
    "n = 1e9"
   ]
  },
  {
   "cell_type": "code",
   "execution_count": 7,
   "metadata": {},
   "outputs": [
    {
     "data": {
      "text/plain": [
       "0.5773954624831035"
      ]
     },
     "execution_count": 7,
     "metadata": {},
     "output_type": "execute_result"
    }
   ],
   "source": [
    "n % math.pi"
   ]
  },
  {
   "cell_type": "code",
   "execution_count": 8,
   "metadata": {},
   "outputs": [
    {
     "data": {
      "text/plain": [
       "0.5773954624831035"
      ]
     },
     "execution_count": 8,
     "metadata": {},
     "output_type": "execute_result"
    }
   ],
   "source": [
    "math.fmod(n, math.pi)"
   ]
  },
  {
   "cell_type": "code",
   "execution_count": 9,
   "metadata": {},
   "outputs": [
    {
     "data": {
      "text/plain": [
       "tensor([0.5774], dtype=torch.float64)"
      ]
     },
     "execution_count": 9,
     "metadata": {},
     "output_type": "execute_result"
    }
   ],
   "source": [
    "torch.tensor([n], device=\"cpu\", dtype=torch.float64) % math.pi"
   ]
  },
  {
   "cell_type": "code",
   "execution_count": 27,
   "metadata": {},
   "outputs": [
    {
     "data": {
      "text/plain": [
       "tensor([-64.])"
      ]
     },
     "execution_count": 27,
     "metadata": {},
     "output_type": "execute_result"
    }
   ],
   "source": [
    "torch.tensor([n], device=\"cpu\", dtype=torch.float32) % math.pi"
   ]
  },
  {
   "cell_type": "code",
   "execution_count": 28,
   "metadata": {},
   "outputs": [
    {
     "data": {
      "text/plain": [
       "array([1.024195], dtype=float32)"
      ]
     },
     "execution_count": 28,
     "metadata": {},
     "output_type": "execute_result"
    }
   ],
   "source": [
    "np.remainder(np.array([n], dtype=np.float33), math.pi)"
   ]
  },
  {
   "cell_type": "code",
   "execution_count": 34,
   "metadata": {},
   "outputs": [
    {
     "data": {
      "text/plain": [
       "tensor([0.5774], dtype=torch.float64)"
      ]
     },
     "execution_count": 34,
     "metadata": {},
     "output_type": "execute_result"
    }
   ],
   "source": [
    "torch.tensor([n], device=\"cpu\", dtype=torch.float64) % math.pi"
   ]
  },
  {
   "cell_type": "code",
   "execution_count": 29,
   "metadata": {},
   "outputs": [
    {
     "data": {
      "text/plain": [
       "tensor([-64.])"
      ]
     },
     "execution_count": 29,
     "metadata": {},
     "output_type": "execute_result"
    }
   ],
   "source": [
    "torch.tensor([n], device=\"cpu\", dtype=torch.float32) % math.pi"
   ]
  },
  {
   "cell_type": "code",
   "execution_count": 30,
   "metadata": {},
   "outputs": [
    {
     "data": {
      "text/plain": [
       "tensor([-64.])"
      ]
     },
     "execution_count": 30,
     "metadata": {},
     "output_type": "execute_result"
    }
   ],
   "source": [
    "torch.remainder(torch.tensor([n], device=\"cpu\", dtype=torch.float32), math.pi)"
   ]
  },
  {
   "cell_type": "code",
   "execution_count": 31,
   "metadata": {},
   "outputs": [
    {
     "data": {
      "text/plain": [
       "tensor([1.0242])"
      ]
     },
     "execution_count": 31,
     "metadata": {},
     "output_type": "execute_result"
    }
   ],
   "source": [
    "torch.fmod(torch.tensor([n], device=\"cpu\", dtype=torch.float32), math.pi)"
   ]
  },
  {
   "cell_type": "code",
   "execution_count": 32,
   "metadata": {},
   "outputs": [
    {
     "data": {
      "text/plain": [
       "tensor([-33.5333], device='cuda:0')"
      ]
     },
     "execution_count": 32,
     "metadata": {},
     "output_type": "execute_result"
    }
   ],
   "source": [
    "torch.remainder(torch.tensor([n], device=\"cuda\", dtype=torch.float32), math.pi)"
   ]
  },
  {
   "cell_type": "code",
   "execution_count": 36,
   "metadata": {},
   "outputs": [
    {
     "data": {
      "text/plain": [
       "tensor([1.0242], device='cuda:0')"
      ]
     },
     "execution_count": 36,
     "metadata": {},
     "output_type": "execute_result"
    }
   ],
   "source": [
    "torch.fmod(torch.tensor([n], device=\"cuda\", dtype=torch.float32), math.pi)"
   ]
  },
  {
   "cell_type": "code",
   "execution_count": 37,
   "metadata": {},
   "outputs": [
    {
     "data": {
      "text/plain": [
       "tensor([0.5774], device='cuda:0', dtype=torch.float64)"
      ]
     },
     "execution_count": 37,
     "metadata": {},
     "output_type": "execute_result"
    }
   ],
   "source": [
    "torch.fmod(torch.tensor([n], device=\"cuda\", dtype=torch.float64), math.pi)"
   ]
  },
  {
   "cell_type": "code",
   "execution_count": 38,
   "metadata": {},
   "outputs": [
    {
     "data": {
      "text/plain": [
       "tensor([0.5774], dtype=torch.float64)"
      ]
     },
     "execution_count": 38,
     "metadata": {},
     "output_type": "execute_result"
    }
   ],
   "source": [
    "torch.fmod(torch.tensor([n], device=\"cpu\", dtype=torch.float64), math.pi)"
   ]
  },
  {
   "cell_type": "code",
   "execution_count": 39,
   "metadata": {},
   "outputs": [
    {
     "data": {
      "text/plain": [
       "array([0.57739546])"
      ]
     },
     "execution_count": 39,
     "metadata": {},
     "output_type": "execute_result"
    }
   ],
   "source": [
    "np.remainder(np.array([n], dtype=np.float64), math.pi)"
   ]
  }
 ],
 "metadata": {
  "kernelspec": {
   "display_name": "Python 3",
   "language": "python",
   "name": "python3"
  },
  "language_info": {
   "codemirror_mode": {
    "name": "ipython",
    "version": 3
   },
   "file_extension": ".py",
   "mimetype": "text/x-python",
   "name": "python",
   "nbconvert_exporter": "python",
   "pygments_lexer": "ipython3",
   "version": "3.7.6"
  }
 },
 "nbformat": 4,
 "nbformat_minor": 4
}
