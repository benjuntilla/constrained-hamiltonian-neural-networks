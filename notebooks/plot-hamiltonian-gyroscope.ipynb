{
 "cells": [
  {
   "cell_type": "code",
   "execution_count": 1,
   "metadata": {},
   "outputs": [],
   "source": [
    "import wandb\n",
    "import os\n",
    "import pickle\n",
    "import numpy as np\n",
    "import matplotlib.pyplot as plt\n",
    "import seaborn as sns\n",
    "import pandas as pd\n",
    "\n",
    "\n",
    "def get_history(user=\"kealexanderwang\", project=\"constrained-pnns\", query={},\n",
    "                **kwargs):\n",
    "    api = wandb.Api()\n",
    "    runs = api.runs(path=f\"{user}/{project}\", filters=query)\n",
    "    dataframes = [run.history(**kwargs) for run in runs]\n",
    "    if len(runs) == 0:\n",
    "        return [[],[]]\n",
    "    else:\n",
    "        return list(zip(runs, dataframes))\n",
    "\n",
    "\n",
    "def download_files(user=\"kealexanderwang\", project=\"constrained-pnns\",\n",
    "                   query={}, save_dir=\".\", **kwargs):\n",
    "    \"\"\"\n",
    "    Download the files of each run into a new directory for the run.\n",
    "    Also saves the config dict of the run.\n",
    "    \"\"\"\n",
    "    if not os.path.isdir(save_dir):\n",
    "        os.mkdir(save_dir)\n",
    "\n",
    "    api = wandb.Api()\n",
    "    runs = api.runs(path=f\"{user}/{project}\", filters=query)\n",
    "    for run in runs:\n",
    "        name = run.name\n",
    "        config = run.config\n",
    "\n",
    "        run_dir = os.path.join(save_dir, name)\n",
    "        if not os.path.isdir(run_dir):\n",
    "            os.mkdir(run_dir)\n",
    "\n",
    "        with open(os.path.join(run_dir, \"config.pkl\"), \"wb\") as h:\n",
    "            pickle.dump(config, h)\n",
    "\n",
    "        files = run.files()\n",
    "        for file in files:\n",
    "            file.download(root=run_dir)\n",
    "    return"
   ]
  },
  {
   "cell_type": "code",
   "execution_count": 2,
   "metadata": {},
   "outputs": [],
   "source": [
    "from pytorch_lightning import Trainer\n",
    "from pl_trainer import DynamicsModel, SaveTestLogCallback\n",
    "import os\n",
    "\n",
    "def load_model_from_run(run, save_dir=\"/tmp\"):\n",
    "    name = run.display_name\n",
    "    ckpt_save_path = os.path.join(save_dir, name)\n",
    "    if not os.path.exists(ckpt_save_path):\n",
    "        os.makedirs(ckpt_save_path)\n",
    "     \n",
    "    ckpts = sorted([f for f in run.files() if \"checkpoints\" in f.name])\n",
    "    if len(ckpts) == 0:\n",
    "        raise RuntimeError(f\"Run {name} has no checkpoints!\")\n",
    "    # pick latest checkpoint if available\n",
    "    last_ckpt = ckpts[-1]\n",
    "    last_ckpt.download(replace=True, root=ckpt_save_path)\n",
    "        \n",
    "    ckpt_path = os.path.join(ckpt_save_path, last_ckpt.name)\n",
    "    # Uncommet if you need the trainer\n",
    "    pl_trainer = Trainer(resume_from_checkpoint=ckpt_path,logger=False)\n",
    "    pl_model = DynamicsModel.load_from_checkpoint(ckpt_path)\n",
    "    \n",
    "    import pprint \n",
    "    pp = pprint.PrettyPrinter(indent=4)\n",
    "    print(\"--------------------------------\")\n",
    "    print(\"Model Hyperparameters:\")\n",
    "    pp.pprint(vars(pl_model.hparams))\n",
    "    print(\"--------------------------------\")\n",
    "    return pl_trainer, pl_model\n",
    "\n",
    "def load_file_from_run(run, filename, save_dir=\"/tmp\", replace=False):\n",
    "    name = run.display_name\n",
    "    save_path = os.path.join(save_dir, name)\n",
    "    if not os.path.exists(save_path):\n",
    "        os.makedirs(save_path)\n",
    "    for f in run.files():\n",
    "        if filename in f.name:\n",
    "            file_path = os.path.join(save_path, f.name)\n",
    "            if not os.path.exists(file_path):\n",
    "                f.download(replace=replace, root=save_path)\n",
    "            else:\n",
    "                print(\"File already exists\")\n",
    "            return file_path\n",
    "    raise ValueError(\"File not found in run!\")"
   ]
  },
  {
   "cell_type": "code",
   "execution_count": 3,
   "metadata": {
    "collapsed": true,
    "jupyter": {
     "outputs_hidden": true
    }
   },
   "outputs": [
    {
     "name": "stderr",
     "output_type": "stream",
     "text": [
      "INFO:lightning:GPU available: True, used: False\n",
      "/home/alex/miniconda3/envs/ham37v2/lib/python3.7/site-packages/torch/serialization.py:657: SourceChangeWarning: source code of class 'pl_trainer.DynamicsModel' has changed. you can retrieve the original source code by accessing the object's source attribute or set `torch.nn.Module.dump_patches = True` and use the patch tool to revert the changes.\n",
      "  warnings.warn(msg, SourceChangeWarning)\n",
      "/home/alex/miniconda3/envs/ham37v2/lib/python3.7/site-packages/torch/serialization.py:657: SourceChangeWarning: source code of class 'biases.models.hnn.HNN' has changed. you can retrieve the original source code by accessing the object's source attribute or set `torch.nn.Module.dump_patches = True` and use the patch tool to revert the changes.\n",
      "  warnings.warn(msg, SourceChangeWarning)\n",
      "Unimplemented OBJ format statement 's' on line 's off'\n",
      "WARNING:pywavefront:Unimplemented OBJ format statement 's' on line 's off'\n",
      "Unimplemented OBJ format statement 's' on line 's off'\n",
      "WARNING:pywavefront:Unimplemented OBJ format statement 's' on line 's off'\n",
      "/mnt/storage1/Documents/repos/hamiltonian-biases/gyro.obj: Load time: 0.003770112991333008\n",
      "INFO:pywavefront:/mnt/storage1/Documents/repos/hamiltonian-biases/gyro.obj: Load time: 0.003770112991333008\n"
     ]
    },
    {
     "name": "stdout",
     "output_type": "stream",
     "text": [
      "tensor([0.0028, 0.0028, 0.0048], dtype=torch.float64) tensor([0.0024, 0.0024, 0.0004], dtype=torch.float64)\n",
      "tensor(7.0659e-07, dtype=torch.float64)\n",
      "tensor(5.7775e-07, dtype=torch.float64)\n",
      "tensor(5.3929e-07, dtype=torch.float64)\n",
      "HNN currently assumes potential energy depends only on q\n",
      "HNN currently assumes time independent Hamiltonian\n",
      "--------------------------------\n",
      "Model Hyperparameters:\n",
      "{   'angular_dims': range(0, 3),\n",
      "    'batch_size': 200,\n",
      "    'body_args': [],\n",
      "    'body_class': 'Gyroscope',\n",
      "    'callbacks': [   <pytorch_lightning.callbacks.lr_logger.LearningRateLogger object at 0x7f6cb331b690>,\n",
      "                     <pl_trainer.SaveTestLogCallback object at 0x7f6cb331b850>,\n",
      "                     <pytorch_lightning.callbacks.progress.ProgressBar object at 0x7f6cb331b7d0>],\n",
      "    'check_val_every_n_epoch': 100,\n",
      "    'chunk_len': 5,\n",
      "    'ckpt_dir': '/home/alex_w/repos/hamiltonian-biases/experiments/Gyroscope/HNN/wandb/run-20200525_000359-150z1xaz/constrained-pnns/version_150z1xaz/checkpoints',\n",
      "    'dataset_class': 'RigidBodyDataset',\n",
      "    'debug': False,\n",
      "    'dof_ndim': 3,\n",
      "    'dt': 0.02,\n",
      "    'euclidean': False,\n",
      "    'exp_dir': '/home/alex_w/repos/hamiltonian-biases/experiments/Gyroscope/HNN',\n",
      "    'fast_dev_run': False,\n",
      "    'gpus': 1,\n",
      "    'hidden_size': 256,\n",
      "    'integration_time': 2,\n",
      "    'logger': <pytorch_lightning.loggers.wandb.WandbLogger object at 0x7f6cab8d9d90>,\n",
      "    'lr': 0.003,\n",
      "    'max_epochs': 2000,\n",
      "    'n_epochs': 2000,\n",
      "    'n_epochs_per_val': 100,\n",
      "    'n_gpus': 1,\n",
      "    'n_hidden': 256,\n",
      "    'n_layers': 3,\n",
      "    'n_test': 100,\n",
      "    'n_train': 800,\n",
      "    'n_train_systems': 10000,\n",
      "    'n_val': 100,\n",
      "    'network_class': 'HNN',\n",
      "    'no_lr_sched': False,\n",
      "    'num_layers': 3,\n",
      "    'optimizer_class': 'AdamW',\n",
      "    'regen': False,\n",
      "    'seed': 0,\n",
      "    'tags': ['submission'],\n",
      "    'tol': 1e-07,\n",
      "    'weight_decay': 0.0001,\n",
      "    'wgrad': True}\n",
      "--------------------------------\n"
     ]
    },
    {
     "name": "stderr",
     "output_type": "stream",
     "text": [
      "INFO:lightning:GPU available: True, used: False\n",
      "Unimplemented OBJ format statement 's' on line 's off'\n",
      "WARNING:pywavefront:Unimplemented OBJ format statement 's' on line 's off'\n",
      "Unimplemented OBJ format statement 's' on line 's off'\n",
      "WARNING:pywavefront:Unimplemented OBJ format statement 's' on line 's off'\n",
      "/mnt/storage1/Documents/repos/hamiltonian-biases/gyro.obj: Load time: 0.0041179656982421875\n",
      "INFO:pywavefront:/mnt/storage1/Documents/repos/hamiltonian-biases/gyro.obj: Load time: 0.0041179656982421875\n"
     ]
    },
    {
     "name": "stdout",
     "output_type": "stream",
     "text": [
      "tensor([0.0028, 0.0028, 0.0048], dtype=torch.float64) tensor([0.0024, 0.0024, 0.0004], dtype=torch.float64)\n",
      "CH ignores angular_dims\n",
      "CH currently assumes potential energy depends only on q\n",
      "CH currently assumes time independent Hamiltonian\n",
      "CH assumes positions q are in Cartesian coordinates\n",
      "--------------------------------\n",
      "Model Hyperparameters:\n",
      "{   'angular_dims': range(0, 3),\n",
      "    'batch_size': 200,\n",
      "    'body_args': [],\n",
      "    'body_class': 'Gyroscope',\n",
      "    'callbacks': [   <pytorch_lightning.callbacks.lr_logger.LearningRateLogger object at 0x7f6ca9074cd0>,\n",
      "                     <pl_trainer.SaveTestLogCallback object at 0x7f6ca9074050>,\n",
      "                     <pytorch_lightning.callbacks.progress.ProgressBar object at 0x7f6ca9074610>],\n",
      "    'check_val_every_n_epoch': 100,\n",
      "    'chunk_len': 5,\n",
      "    'ckpt_dir': '/home/alex_w/repos/hamiltonian-biases/experiments/Gyroscope/CHNN/wandb/run-20200526_152410-2g4cb4uz/constrained-pnns/version_2g4cb4uz/checkpoints',\n",
      "    'dataset_class': 'RigidBodyDataset',\n",
      "    'debug': False,\n",
      "    'dof_ndim': 3,\n",
      "    'dt': 0.02,\n",
      "    'euclidean': True,\n",
      "    'exp_dir': '/home/alex_w/repos/hamiltonian-biases/experiments/Gyroscope/CHNN',\n",
      "    'fast_dev_run': False,\n",
      "    'gpus': 1,\n",
      "    'hidden_size': 256,\n",
      "    'integration_time': 2,\n",
      "    'logger': <pytorch_lightning.loggers.wandb.WandbLogger object at 0x7f6ca8fc4650>,\n",
      "    'lr': 0.003,\n",
      "    'max_epochs': 2000,\n",
      "    'n_epochs': 2000,\n",
      "    'n_epochs_per_val': 100,\n",
      "    'n_gpus': 1,\n",
      "    'n_hidden': 256,\n",
      "    'n_layers': 3,\n",
      "    'n_test': 100,\n",
      "    'n_train': 800,\n",
      "    'n_train_systems': 10000,\n",
      "    'n_val': 100,\n",
      "    'network_class': 'CHNN',\n",
      "    'no_lr_sched': False,\n",
      "    'num_layers': 3,\n",
      "    'optimizer_class': 'AdamW',\n",
      "    'regen': False,\n",
      "    'seed': 0,\n",
      "    'tags': ['submission'],\n",
      "    'tol': 1e-07,\n",
      "    'weight_decay': 0.0001,\n",
      "    'wgrad': True}\n",
      "--------------------------------\n"
     ]
    }
   ],
   "source": [
    "# See https://docs.wandb.com/library/reference/wandb_api for how to write queries\n",
    "\n",
    "query = {\"$and\": [\n",
    "              {\"tags\": \"submission\"},\n",
    "              {\"tags\": {\"$ne\": \"data-efficiency\"}},\n",
    "              {\"state\": \"finished\"},\n",
    "              {\"config.n_train\": 800},\n",
    "              #{\"config.body_args\": [5]},\n",
    "              #{\"config.body_class\": \"ChainPendulum\"},\n",
    "              {\"config.body_class\": \"Gyroscope\"},\n",
    "              {\"config.network_class\": \"HNN\"},\n",
    "             ]}\n",
    "\n",
    "runs, histories = zip(*get_history(query=query))\n",
    "hnn_trainer, hnn_model = load_model_from_run(runs[0])\n",
    "\n",
    "query = {\"$and\": [\n",
    "              {\"tags\": \"submission\"},\n",
    "              {\"tags\": {\"$ne\": \"data-efficiency\"}},\n",
    "              {\"state\": \"finished\"},\n",
    "              {\"config.n_train\": 800},\n",
    "              #{\"config.body_args\": [5]},\n",
    "              #{\"config.body_class\": \"ChainPendulum\"},\n",
    "              {\"config.body_class\": \"Gyroscope\"},\n",
    "              {\"config.network_class\": \"CHNN\"},\n",
    "             ]}\n",
    "\n",
    "runs, histories = zip(*get_history(query=query))\n",
    "chnn_trainer, chnn_model = load_model_from_run(runs[0])"
   ]
  },
  {
   "cell_type": "code",
   "execution_count": 4,
   "metadata": {},
   "outputs": [],
   "source": [
    "sns.set(font_scale=1.25)"
   ]
  },
  {
   "cell_type": "code",
   "execution_count": 5,
   "metadata": {},
   "outputs": [
    {
     "name": "stderr",
     "output_type": "stream",
     "text": [
      "Unimplemented OBJ format statement 's' on line 's off'\n",
      "WARNING:pywavefront:Unimplemented OBJ format statement 's' on line 's off'\n",
      "Unimplemented OBJ format statement 's' on line 's off'\n",
      "WARNING:pywavefront:Unimplemented OBJ format statement 's' on line 's off'\n",
      "/mnt/storage1/Documents/repos/hamiltonian-biases/gyro.obj: Load time: 0.0069732666015625\n",
      "INFO:pywavefront:/mnt/storage1/Documents/repos/hamiltonian-biases/gyro.obj: Load time: 0.0069732666015625\n"
     ]
    },
    {
     "name": "stdout",
     "output_type": "stream",
     "text": [
      "tensor([0.0028, 0.0028, 0.0048], dtype=torch.float64) tensor([0.0024, 0.0024, 0.0004], dtype=torch.float64)\n"
     ]
    }
   ],
   "source": [
    "from .biases.utils import compute_moments\n",
    "from .biases.systems import Gyroscope\n",
    "import networkx as nx\n",
    "P = Gyroscope()\n",
    "out = nx.get_edge_attributes(P.body_graph,\"I\")\n",
    "I_3 = out[(0, '0_0')] + out[(0, '0_1')]"
   ]
  },
  {
   "cell_type": "code",
   "execution_count": 184,
   "metadata": {},
   "outputs": [
    {
     "data": {
      "image/png": "[encoded data removed]",
      "text/plain": [
       "<Figure size 864x288 with 4 Axes>"
      ]
     },
     "metadata": {},
     "output_type": "display_data"
    }
   ],
   "source": [
    "import torch\n",
    "import math\n",
    "\n",
    "ic_cartesian = P.sample_initial_conditions(1)\n",
    "ic_euler = P.global2bodyCoords(ic_cartesian)\n",
    "\n",
    "#n_dof = runs[0].config[\"body_args\"][0]\n",
    "num_angular_dims = 3\n",
    "n_dof = 4\n",
    "D = 3 # ambient dimension\n",
    "n_per_dim = 50\n",
    "\n",
    "q_vary = torch.linspace(0, math.pi, n_per_dim)\n",
    "qdot_vary = torch.linspace(-3, 3, n_per_dim)\n",
    "\n",
    "q_vary, qdot_vary = torch.meshgrid(q_vary, qdot_vary)\n",
    "#qdot_vary, qdot_vary_ = torch.meshgrid(qdot_vary, qdot_vary)\n",
    "\n",
    "#q_fixed = math.pi / 4 * torch.zeros_like(q_vary)\n",
    "#qdot_fixed = 10 * torch.zeros_like(qdot_vary)\n",
    "\n",
    "# Turn into N1 x N2 x ndof\n",
    "#q_lst = [q_fixed] * num_angular_dims\n",
    "#qdot_lst = [qdot_fixed] * num_angular_dims\n",
    "#qdot_lst = [qdot_vary, qdot_fixed, qdot_vary_]\n",
    "#q_lst = [q_fixed, q_vary, q_fixed]\n",
    "q_lst = [torch.ones_like(q_vary) * ic_euler[0, 0, 0], q_vary, torch.ones_like(q_vary) * ic_euler[0, 0, 2]]\n",
    "\n",
    "#qdot_lst = [qdot_fixed, qdot_vary, qdot_fixed]\n",
    "qdot_lst = [torch.ones_like(q_vary) * ic_euler[0, 1, 0], qdot_vary, torch.ones_like(q_vary) * ic_euler[0, 1, 2]]\n",
    "\n",
    "q = torch.stack(q_lst, dim=-1)\n",
    "qdot = torch.stack(qdot_lst, dim=-1)\n",
    "\n",
    "# Turn into N1*N2 x 2 x num_angular_dims\n",
    "qqdot = torch.stack([q, qdot], dim=-2).reshape(n_per_dim * n_per_dim, 2, num_angular_dims)\n",
    "\n",
    "# Turn into N1*N2 x 2 x ndof x D\n",
    "xxdot = hnn_model.body.body2globalCoords(qqdot)\n",
    "x, xdot = xxdot.chunk(2, dim=1)\n",
    "\n",
    "with torch.no_grad():\n",
    "    # Turn into N1*N2 x num_angular_dims\n",
    "    hnn_q = q.reshape(n_per_dim * n_per_dim, num_angular_dims)\n",
    "    hnn_p = hnn_model.model.M(hnn_q)(\n",
    "        qdot.reshape(n_per_dim * n_per_dim, num_angular_dims)\n",
    "    )\n",
    "    # Turn into N1*N2 x 2*num_angular_dims\n",
    "    hnn_qp = torch.cat([hnn_q, hnn_p], dim=-1)\n",
    "    hnn_energies = hnn_model.model.H(torch.tensor(0.), hnn_qp).reshape(n_per_dim, n_per_dim)\n",
    "    hnn_energies = torch.clamp(hnn_energies, min=-5, max=6)\n",
    "    \n",
    "    hnn_energies -= hnn_energies.mean()\n",
    "    hnn_energies /= hnn_energies.std()\n",
    "    \n",
    "    hnn_v_eff = hnn_energies - hnn_p[:, 0].reshape(n_per_dim, n_per_dim).pow(2).div(2).div(I_3)\n",
    "    #nn_v_eff -= hnn_v_eff.mean()\n",
    "    #nn_v_eff /= hnn_v_eff.std()\n",
    "    \n",
    "    #hnn_energies = torch.clamp(hnn_energies, min=-1000000, max=4)\n",
    "    \n",
    "    \n",
    "    true_p_euc = hnn_model.body.M @ xdot.double()\n",
    "    true_xp_euc = torch.cat([x.double(), true_p_euc], dim=1)\n",
    "    true_xp_euc = true_xp_euc.reshape(n_per_dim * n_per_dim, 2 * n_dof * D)\n",
    "    true_energies = hnn_model.body.hamiltonian(None, true_xp_euc).reshape(n_per_dim, n_per_dim)\n",
    "    \n",
    "    true_energies -= true_energies.mean()\n",
    "    true_energies /= true_energies.std()\n",
    "\n",
    "    true_v_eff = true_energies - I_3 * (qdot[:, :, 0] + qdot[:, :, 2] * torch.cos(q[:, :, 1])).pow(2).div(2)\n",
    "    #true_v_eff -= true_v_eff.mean()\n",
    "    #true_v_eff /= true_v_eff.std()\n",
    "    \n",
    "    chnn_p_euc = chnn_model.model.M(xdot)\n",
    "    # Turn into N1*N2 x 2*ndof*D\n",
    "    chnn_xp_euc = torch.cat([x, chnn_p_euc], dim=1)\n",
    "    chnn_xp_euc = chnn_xp_euc.reshape(n_per_dim * n_per_dim, 2 * n_dof * D)\n",
    "    chnn_energies = chnn_model.model.H(torch.tensor(0.), chnn_xp_euc).reshape(n_per_dim, n_per_dim)\n",
    "\n",
    "    chnn_energies -= chnn_energies.mean()\n",
    "    chnn_energies /= chnn_energies.std()\n",
    "    \n",
    "    chnn_v_eff = chnn_energies - I_3 * (qdot[:, :, 0] + qdot[:, :, 2] * torch.cos(q[:, :, 1])).pow(2).div(2)\n",
    "    #chnn_v_eff -= chnn_v_eff.mean()\n",
    "    #chnn_v_eff /= chnn_v_eff.std()\n",
    "        \n",
    "\n",
    "import matplotlib.pyplot as plt\n",
    "\n",
    "fig, axes = plt.subplots(ncols=3, figsize=(3 * 4, 4))\n",
    "\n",
    "#axes[0].contourf(q_vary, qdot_vary, hnn_energies, cmap=\"inferno\", levels=20)\n",
    "axes[0].contourf(q_vary, qdot_vary, hnn_v_eff, cmap=\"inferno\", levels=20)\n",
    "axes[0].set(title=\"HNN (Learned)\")\n",
    "axes[0].set(xlabel=r\"$q_2$\")\n",
    "axes[0].set(ylabel=r\"$dq_2/dt$\")\n",
    "\n",
    "#axes[1].contourf(q_vary, qdot_vary, true_energies, cmap=\"inferno\", levels=20)\n",
    "axes[1].contourf(q_vary, qdot_vary, true_v_eff, cmap=\"inferno\", levels=20)\n",
    "axes[1].set(title=\"True\")\n",
    "axes[1].set(yticklabels=[])\n",
    "axes[1].set(xlabel=r\"$q_2$\")\n",
    "\n",
    "#heatmap = axes[2].contourf(q_vary, qdot_vary, chnn_energies, cmap=\"inferno\", levels=20)\n",
    "heatmap = axes[2].contourf(q_vary, qdot_vary, chnn_v_eff, cmap=\"inferno\", levels=20)\n",
    "axes[2].set(title=\"CHNN (Learned)\")\n",
    "axes[2].set(yticklabels=[])\n",
    "axes[2].set(xlabel=r\"$q_2$\")\n",
    "\n",
    "cbar = fig.colorbar(heatmap, ax=axes.ravel().tolist(), shrink=0.8)\n",
    "#fig.suptitle(\"ChainPendulum(\"+ f\"{n_dof}\" + \") Hamiltonians \" \n",
    "#             + r\"($q_i = \\pi, dq_i/dt = 5$ for $i = 1,\\ldots, 4$)\"\n",
    "#             , fontsize=16)\n",
    "fig.subplots_adjust(top=0.85, right=0.774, wspace=0.05)"
   ]
  },
  {
   "cell_type": "code",
   "execution_count": 185,
   "metadata": {},
   "outputs": [
    {
     "data": {
      "image/png": "[encoded data removed]",
      "text/plain": [
       "<Figure size 432x288 with 1 Axes>"
      ]
     },
     "metadata": {},
     "output_type": "display_data"
    }
   ],
   "source": [
    "fig, ax = plt.subplots()\n",
    "\n",
    "ax.contourf(q_vary, qdot_vary, hnn_v_eff, cmap=\"inferno\", levels=20)\n",
    "ax.set(xlabel=r\"$\\theta$\")\n",
    "ax.set(ylabel=r\"$d\\theta/dt$\")\n",
    "fig.savefig(\"gyroscope-hnn-veff.pdf\", bbox_inches=\"tight\")"
   ]
  },
  {
   "cell_type": "code",
   "execution_count": 186,
   "metadata": {},
   "outputs": [
    {
     "data": {
      "image/png": "[encoded data removed]",
      "text/plain": [
       "<Figure size 432x288 with 1 Axes>"
      ]
     },
     "metadata": {},
     "output_type": "display_data"
    }
   ],
   "source": [
    "fig, ax = plt.subplots()\n",
    "\n",
    "ax.contourf(q_vary, qdot_vary, true_v_eff, cmap=\"inferno\", levels=20)\n",
    "ax.set(xlabel=r\"$\\theta$\")\n",
    "ax.set(ylabel=r\"$d\\theta/dt$\")\n",
    "fig.savefig(\"gyroscope-true-veff.pdf\", bbox_inches=\"tight\")"
   ]
  },
  {
   "cell_type": "code",
   "execution_count": 187,
   "metadata": {},
   "outputs": [
    {
     "data": {
      "image/png": "[encoded data removed]",
      "text/plain": [
       "<Figure size 432x288 with 1 Axes>"
      ]
     },
     "metadata": {},
     "output_type": "display_data"
    }
   ],
   "source": [
    "fig, ax = plt.subplots()\n",
    "\n",
    "ax.contourf(q_vary, qdot_vary, chnn_v_eff, cmap=\"inferno\", levels=20)\n",
    "ax.set(xlabel=r\"$\\theta$\")\n",
    "ax.set(ylabel=r\"$d\\theta/dt$\")\n",
    "fig.savefig(\"gyroscope-chnn-veff.pdf\", bbox_inches=\"tight\")"
   ]
  },
  {
   "cell_type": "code",
   "execution_count": null,
   "metadata": {},
   "outputs": [],
   "source": []
  }
 ],
 "metadata": {
  "kernelspec": {
   "display_name": "Python 3",
   "language": "python",
   "name": "python3"
  },
  "language_info": {
   "codemirror_mode": {
    "name": "ipython",
    "version": 3
   },
   "file_extension": ".py",
   "mimetype": "text/x-python",
   "name": "python",
   "nbconvert_exporter": "python",
   "pygments_lexer": "ipython3",
   "version": "3.7.6"
  }
 },
 "nbformat": 4,
 "nbformat_minor": 4
}
